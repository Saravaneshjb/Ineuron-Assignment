{
 "cells": [
  {
   "cell_type": "markdown",
   "id": "d4ea542a",
   "metadata": {},
   "source": [
    "### Q-1. \n",
    "A university wants to understand the relationship between the SAT scores of its\n",
    "applicants and their college GPA. They collect data on 500 students, including their SAT\n",
    "scores (out of 1600) and their college GPA (on a 4.0 scale). They find that the correlation\n",
    "coefficient between SAT scores and college GPA is 0.7. What does this correlation\n",
    "coefficient indicate about the relationship between SAT scores and college GPA?\n"
   ]
  },
  {
   "cell_type": "markdown",
   "id": "e7c48ef4",
   "metadata": {},
   "source": [
    "- The correlation between the SAT score and college GPA is positive. \n",
    "- The correlation coefficient ranges between -1 and +1, since the correlation coefficient is 0.7 its closer to 1 and has a higher positive correlation. This means that when the GPA increases, the SAT score also increases. \n"
   ]
  },
  {
   "cell_type": "markdown",
   "id": "64bc7e48",
   "metadata": {},
   "source": [
    "### Q-2. \n",
    "\n",
    "Consider a dataset containing the heights (in centimetres) of 1000 individuals. The mean height is 170 cm with a standard deviation of 10 cm. The dataset is approximately normally distributed, and its skewness is approximately zero. Based on this information, answer the following questions: \n",
    "\n",
    "- a. What percentage of individuals in the dataset have heights between 160 cm and 180 cm? \n",
    "- b. If we randomly select 100 individuals from the dataset, what is the probability that their average height is greater than 175 cm? \n",
    "- c. Assuming the dataset follows a normal distribution, what is the z-score corresponding to a height of 185 cm? \n",
    "- d. We know that 5% of the dataset has heights below a certain value. What is the approximate height corresponding to this threshold? \n",
    "- e. Calculate the coefficient of variation (CV) for the dataset.\n",
    "- f. Calculate the skewness of the dataset and interpret the result."
   ]
  },
  {
   "cell_type": "markdown",
   "id": "e2ce0b85",
   "metadata": {},
   "source": [
    "#### a)\tWhat percentage of individuals in the dataset have heights between 160 cm and 180 cm? "
   ]
  },
  {
   "cell_type": "markdown",
   "id": "6f3464ac",
   "metadata": {},
   "source": [
    "- As per the Emperical rule for Guassian or Normal Distribution, for 1 std deviation from mean 68% of the data exists.\n",
    "- In our case we need to find the percentage of values that lies between 160cm and 180cm which is like 1 std dev away on left hand side and one std dev on the right hand side since our std dev as provided in the problem statement is 10. \n",
    "- Thus 68% of the individuals exists between 160 cm and 180 cm\n"
   ]
  },
  {
   "cell_type": "markdown",
   "id": "e78e33a7",
   "metadata": {},
   "source": [
    "#### b)\tIf we randomly select 100 individuals from the dataset what is the probability that their average height is greater than 175 cm?"
   ]
  },
  {
   "cell_type": "markdown",
   "id": "db2de3ab",
   "metadata": {},
   "source": [
    "To calculate the probability that the average height of 100 individuals is greater than 175 cm, we can use the Central Limit Theorem and assume that the sampling distribution of the sample mean follows a normal distribution.\n",
    "\n",
    "Given:\n",
    "\n",
    "Population mean (μ) = 170 cm\n",
    "Population standard deviation (σ) = 10 cm\n",
    "Sample size (n) = 100\n",
    "Desired value (x̄) = 175 cm\n",
    "First, we need to calculate the standard error of the mean (SE) using the formula:\n",
    "\n",
    "SE = σ / √n\n",
    "\n",
    "SE = 10 / √100\n",
    "SE = 1\n",
    "\n",
    "Next, we can calculate the z-score using the formula:\n",
    "\n",
    "z = (x̄ - μ) / SE\n",
    "\n",
    "z = (175 - 170) / 1\n",
    "z = 5\n",
    "\n",
    "Now, we can calculate the probability using the standard normal distribution table (Z-table) or a statistical calculator. The probability corresponds to the area under the normal curve to the right of the z-score.\n",
    "\n",
    "P(x̄ > 175) = 1 - P(x̄ ≤ 175)\n",
    "\n",
    "Using the Z-table, we can find the corresponding probability:\n",
    "\n",
    "P(x̄ > 175) = 1 - 0.999999713\n",
    "P(x̄ > 175) ≈ 0.000000287\n",
    "\n",
    "Therefore, the probability that the average height of 100 individuals is greater than 175 cm is approximately 0.000000287, or about 0.0000287%.\n"
   ]
  },
  {
   "cell_type": "markdown",
   "id": "e4c13771",
   "metadata": {},
   "source": [
    "#### c. Assuming the dataset follows a normal distribution, what is the z-score corresponding to a height of 185 cm?"
   ]
  },
  {
   "cell_type": "markdown",
   "id": "d2d5c043",
   "metadata": {},
   "source": [
    "Z_score formula = (x-mu)/sigma\n",
    "\n",
    "X – 185\n",
    "Mu/mean – 170\n",
    "Sigma/std dev – 10\n",
    "\n",
    "Z_score = (185-170)/10 = 15/10 = 1.5"
   ]
  },
  {
   "cell_type": "markdown",
   "id": "eab79a39",
   "metadata": {},
   "source": [
    "#### d. We know that 5% of the dataset has heights below a certain value. What is the approximate height corresponding to this threshold?"
   ]
  },
  {
   "cell_type": "markdown",
   "id": "e3194739",
   "metadata": {},
   "source": [
    "To find the approximate height corresponding to a threshold below which 5% of the dataset falls, we can use the z-score associated with the 5th percentile of a standard normal distribution.\n",
    "\n",
    "Since the dataset is approximately normally distributed, we can use the z-score to find the corresponding height. The z-score corresponding to the 5th percentile is approximately -1.645.\n",
    "\n",
    "Using the z-score formula:\n",
    "\n",
    "z = (x - μ) / σ\n",
    "\n",
    "where:\n",
    "\n",
    "z is the z-score (-1.645 in this case)\n",
    "μ is the mean of the dataset (170 cm)\n",
    "σ is the standard deviation of the dataset (10 cm)\n",
    "Rearranging the formula to solve for x:\n",
    "\n",
    "x = z * σ + μ\n",
    "\n",
    "Substituting the values, we have:\n",
    "\n",
    "x = -1.645 * 10 + 170\n",
    "\n",
    "x = -16.45 + 170\n",
    "\n",
    "x ≈ 153.55\n",
    "\n",
    "So, the approximate height corresponding to the threshold below which 5% of the dataset falls is approximately 153.55 cm.\n"
   ]
  },
  {
   "cell_type": "markdown",
   "id": "7bc9875c",
   "metadata": {},
   "source": [
    "#### e. Calculate the coefficient of variation (CV) for the dataset. "
   ]
  },
  {
   "cell_type": "markdown",
   "id": "f1601586",
   "metadata": {},
   "source": [
    "CV = (Standard Deviation / Mean) * 100\n",
    "\n",
    "CV= (10/170)*100\n",
    "\n",
    "CV = 5.882\n"
   ]
  },
  {
   "cell_type": "markdown",
   "id": "9dc55379",
   "metadata": {},
   "source": [
    "#### f. Calculate the skewness of the dataset and interpret the result. "
   ]
  },
  {
   "cell_type": "markdown",
   "id": "70186254",
   "metadata": {},
   "source": [
    "Since the given dataset is approximately normally distributed and has a skewness of approximately zero, it implies that the distribution is symmetric. \n",
    "\n",
    "Skewness is a measure of the asymmetry of a distribution. A skewness of zero indicates a symmetric distribution, where the data is evenly distributed around the mean. In this case, since the skewness is close to zero, it suggests that the heights of the individuals in the dataset are fairly symmetrical, with no significant skewness to either the left or right.\n",
    "\n",
    "In summary, the skewness of approximately zero indicates that the heights of the individuals in the dataset are normally distributed and exhibit a symmetrical pattern.\n"
   ]
  },
  {
   "cell_type": "markdown",
   "id": "1ab29606",
   "metadata": {},
   "source": [
    "### Q-3. \n",
    "Consider the ‘Blood Pressure Before’ and ‘Blood Pressure After’ columns from the\n",
    "data and calculate the following\n",
    "\n",
    "https://drive.google.com/file/d/1mCjtYHiX--mMUjicuaP2gH3k-SnFxt8Y/view?usp=share_\n",
    "\n",
    "- a. Measure the dispersion in both and interpret the results.\n",
    "- b. Calculate mean and 5% confidence interval and plot it in a graph\n",
    "- c. Calculate the Mean absolute deviation and Standard deviation and interpret the results.\n",
    "- d. Calculate the correlation coefficient and check the significance of it at 1% level of significance."
   ]
  },
  {
   "cell_type": "code",
   "execution_count": 1,
   "id": "a33de305",
   "metadata": {},
   "outputs": [],
   "source": [
    "import pandas as pd"
   ]
  },
  {
   "cell_type": "code",
   "execution_count": 2,
   "id": "24a31227",
   "metadata": {},
   "outputs": [],
   "source": [
    "bp_df=pd.read_csv('data_ques_3.csv')"
   ]
  },
  {
   "cell_type": "code",
   "execution_count": 3,
   "id": "bb138edf",
   "metadata": {},
   "outputs": [
    {
     "data": {
      "text/html": [
       "<div>\n",
       "<style scoped>\n",
       "    .dataframe tbody tr th:only-of-type {\n",
       "        vertical-align: middle;\n",
       "    }\n",
       "\n",
       "    .dataframe tbody tr th {\n",
       "        vertical-align: top;\n",
       "    }\n",
       "\n",
       "    .dataframe thead th {\n",
       "        text-align: right;\n",
       "    }\n",
       "</style>\n",
       "<table border=\"1\" class=\"dataframe\">\n",
       "  <thead>\n",
       "    <tr style=\"text-align: right;\">\n",
       "      <th></th>\n",
       "      <th>Patient ID</th>\n",
       "      <th>Blood Pressure Before (mmHg)</th>\n",
       "      <th>Blood Pressure After (mmHg)</th>\n",
       "    </tr>\n",
       "  </thead>\n",
       "  <tbody>\n",
       "    <tr>\n",
       "      <th>0</th>\n",
       "      <td>1</td>\n",
       "      <td>130</td>\n",
       "      <td>120</td>\n",
       "    </tr>\n",
       "    <tr>\n",
       "      <th>1</th>\n",
       "      <td>2</td>\n",
       "      <td>142</td>\n",
       "      <td>135</td>\n",
       "    </tr>\n",
       "    <tr>\n",
       "      <th>2</th>\n",
       "      <td>3</td>\n",
       "      <td>120</td>\n",
       "      <td>118</td>\n",
       "    </tr>\n",
       "    <tr>\n",
       "      <th>3</th>\n",
       "      <td>4</td>\n",
       "      <td>135</td>\n",
       "      <td>127</td>\n",
       "    </tr>\n",
       "    <tr>\n",
       "      <th>4</th>\n",
       "      <td>5</td>\n",
       "      <td>148</td>\n",
       "      <td>140</td>\n",
       "    </tr>\n",
       "  </tbody>\n",
       "</table>\n",
       "</div>"
      ],
      "text/plain": [
       "   Patient ID   Blood Pressure Before (mmHg)   Blood Pressure After (mmHg)\n",
       "0           1                            130                           120\n",
       "1           2                            142                           135\n",
       "2           3                            120                           118\n",
       "3           4                            135                           127\n",
       "4           5                            148                           140"
      ]
     },
     "execution_count": 3,
     "metadata": {},
     "output_type": "execute_result"
    }
   ],
   "source": [
    "bp_df.head()"
   ]
  },
  {
   "cell_type": "markdown",
   "id": "a3ce8078",
   "metadata": {},
   "source": [
    "### a. Measure the dispersion in both and interpret the results."
   ]
  },
  {
   "cell_type": "code",
   "execution_count": 5,
   "id": "4a69ff7e",
   "metadata": {},
   "outputs": [
    {
     "data": {
      "text/plain": [
       "Index(['Patient ID', ' Blood Pressure Before (mmHg)',\n",
       "       ' Blood Pressure After (mmHg)'],\n",
       "      dtype='object')"
      ]
     },
     "execution_count": 5,
     "metadata": {},
     "output_type": "execute_result"
    }
   ],
   "source": [
    "bp_df.columns"
   ]
  },
  {
   "cell_type": "code",
   "execution_count": 10,
   "id": "8f82b92c",
   "metadata": {},
   "outputs": [],
   "source": [
    "bp_before_var=bp_df[' Blood Pressure Before (mmHg)'].var(ddof=0)\n",
    "bp_after_var=bp_df[' Blood Pressure After (mmHg)'].var(ddof=0)\n",
    "bp_before_std=bp_df[' Blood Pressure Before (mmHg)'].std()\n",
    "bp_after_std=bp_df[' Blood Pressure After (mmHg)'].std()"
   ]
  },
  {
   "cell_type": "code",
   "execution_count": 7,
   "id": "57720b61",
   "metadata": {},
   "outputs": [
    {
     "name": "stdout",
     "output_type": "stream",
     "text": [
      "43.53727272727271\n",
      "47.4448484848485\n"
     ]
    }
   ],
   "source": [
    "print(bp_before_var)\n",
    "print(bp_after_var)"
   ]
  },
  {
   "cell_type": "code",
   "execution_count": 9,
   "id": "f9ae2d63",
   "metadata": {},
   "outputs": [
    {
     "name": "stdout",
     "output_type": "stream",
     "text": [
      "43.10189999999998\n",
      "46.97040000000002\n"
     ]
    }
   ],
   "source": [
    "print(bp_before_var)\n",
    "print(bp_after_var)"
   ]
  },
  {
   "cell_type": "code",
   "execution_count": 11,
   "id": "666f4a50",
   "metadata": {},
   "outputs": [
    {
     "name": "stdout",
     "output_type": "stream",
     "text": [
      "6.598278012275075\n",
      "6.8880221025232276\n"
     ]
    }
   ],
   "source": [
    "print(bp_before_std)\n",
    "print(bp_after_std)"
   ]
  },
  {
   "cell_type": "markdown",
   "id": "e70930f9",
   "metadata": {},
   "source": [
    "- There exists some variability while comparing the dispersion of Blood Pressure Before and Blood Pressure After.\n",
    "- This could be due to the fact that the drug provide has brought down the blood pressure in most of the patients."
   ]
  },
  {
   "cell_type": "markdown",
   "id": "54d47466",
   "metadata": {},
   "source": [
    "### b. Calculate mean and 5% confidence interval and plot it in a graph"
   ]
  },
  {
   "cell_type": "code",
   "execution_count": 4,
   "id": "676df302",
   "metadata": {},
   "outputs": [],
   "source": [
    "import numpy as np\n",
    "import matplotlib.pyplot as plt \n",
    "from scipy.stats import sem"
   ]
  },
  {
   "cell_type": "code",
   "execution_count": 6,
   "id": "40017294",
   "metadata": {},
   "outputs": [
    {
     "data": {
      "text/plain": [
       "Index(['Patient ID', ' Blood Pressure Before (mmHg)',\n",
       "       ' Blood Pressure After (mmHg)'],\n",
       "      dtype='object')"
      ]
     },
     "execution_count": 6,
     "metadata": {},
     "output_type": "execute_result"
    }
   ],
   "source": [
    "bp_df.columns"
   ]
  },
  {
   "cell_type": "code",
   "execution_count": 7,
   "id": "9291587f",
   "metadata": {},
   "outputs": [],
   "source": [
    "# Calculate mean and standard error of the mean (SEM)\n",
    "mean_bp_before = np.mean(bp_df[' Blood Pressure Before (mmHg)'])\n",
    "sem_bp_before = sem(bp_df[' Blood Pressure Before (mmHg)'])"
   ]
  },
  {
   "cell_type": "code",
   "execution_count": 8,
   "id": "8ebd3301",
   "metadata": {},
   "outputs": [
    {
     "data": {
      "text/plain": [
       "133.91"
      ]
     },
     "execution_count": 8,
     "metadata": {},
     "output_type": "execute_result"
    }
   ],
   "source": [
    "mean_bp_before"
   ]
  },
  {
   "cell_type": "code",
   "execution_count": 9,
   "id": "022f9582",
   "metadata": {},
   "outputs": [
    {
     "data": {
      "text/plain": [
       "0.6598278012275076"
      ]
     },
     "execution_count": 9,
     "metadata": {},
     "output_type": "execute_result"
    }
   ],
   "source": [
    "sem_bp_before"
   ]
  },
  {
   "cell_type": "code",
   "execution_count": 11,
   "id": "f9d57ae8",
   "metadata": {},
   "outputs": [
    {
     "data": {
      "text/plain": [
       "1.293262490405915"
      ]
     },
     "execution_count": 11,
     "metadata": {},
     "output_type": "execute_result"
    }
   ],
   "source": [
    "confidence_interval = 1.96 * sem_bp_before\n",
    "confidence_interval"
   ]
  },
  {
   "cell_type": "code",
   "execution_count": 12,
   "id": "9862911a",
   "metadata": {},
   "outputs": [
    {
     "data": {
      "image/png": "[encoded data removed]",
      "text/plain": [
       "<Figure size 640x480 with 1 Axes>"
      ]
     },
     "metadata": {},
     "output_type": "display_data"
    }
   ],
   "source": [
    "plt.errorbar(0, mean_bp_before, yerr=confidence_interval, fmt='o', capsize=5)\n",
    "\n",
    "# Set plot labels\n",
    "plt.xlabel('Blood Pressure Before')\n",
    "plt.ylabel('Mean Blood Pressure (mmHg)')\n",
    "plt.title('Mean Blood Pressure Before Treatment')\n",
    "\n",
    "# Show the plot\n",
    "plt.show()"
   ]
  },
  {
   "cell_type": "markdown",
   "id": "04d05f03",
   "metadata": {},
   "source": [
    "### c. Calculate the Mean absolute deviation and Standard deviation and interpret the results."
   ]
  },
  {
   "cell_type": "code",
   "execution_count": 15,
   "id": "3a5246c0",
   "metadata": {},
   "outputs": [],
   "source": [
    "import numpy as np"
   ]
  },
  {
   "cell_type": "code",
   "execution_count": 13,
   "id": "c5a431aa",
   "metadata": {},
   "outputs": [],
   "source": [
    "bp_before_mean=bp_df[' Blood Pressure Before (mmHg)'].mean()\n",
    "bp_after_mean=bp_df[' Blood Pressure After (mmHg)'].mean()"
   ]
  },
  {
   "cell_type": "code",
   "execution_count": 14,
   "id": "4baf8266",
   "metadata": {},
   "outputs": [],
   "source": [
    "bp_before_deviations=[abs(x-bp_before_mean) for x in bp_df[' Blood Pressure Before (mmHg)']]\n",
    "bp_after_deviations=[abs(x-bp_after_mean) for x in bp_df[' Blood Pressure After (mmHg)']]"
   ]
  },
  {
   "cell_type": "code",
   "execution_count": 16,
   "id": "3be6e9bd",
   "metadata": {},
   "outputs": [],
   "source": [
    "bp_before_mad=np.mean(bp_before_deviations)\n",
    "bp_after_mad=np.mean(bp_after_deviations)"
   ]
  },
  {
   "cell_type": "code",
   "execution_count": 18,
   "id": "6378d7a4",
   "metadata": {},
   "outputs": [
    {
     "name": "stdout",
     "output_type": "stream",
     "text": [
      "Mean Absolute Deviation of bp before : 5.7118\n",
      "Mean Absolute Deviation of bp after : 5.9\n"
     ]
    }
   ],
   "source": [
    "print('Mean Absolute Deviation of bp before :',bp_before_mad)\n",
    "print('Mean Absolute Deviation of bp after :',bp_after_mad)\n"
   ]
  },
  {
   "cell_type": "code",
   "execution_count": 19,
   "id": "a1c17fd2",
   "metadata": {},
   "outputs": [
    {
     "name": "stdout",
     "output_type": "stream",
     "text": [
      "Standard deviation of bp before : 6.598278012275075\n",
      "Standard deviation of bp after : 6.8880221025232276\n"
     ]
    }
   ],
   "source": [
    "print('Standard deviation of bp before :',bp_before_std)\n",
    "print('Standard deviation of bp after :',bp_after_std)"
   ]
  },
  {
   "cell_type": "markdown",
   "id": "e32e2fbb",
   "metadata": {},
   "source": [
    "The mean absolute value of 5.7118 and the standard deviation of 6.59 provide different measures of the variability or dispersion of the data.\n",
    "\n",
    "Mean Absolute Value (MAV): The MAV represents the average absolute deviation of data points from the mean. In your case, a MAV of 5.7118 suggests that, on average, the data points deviate from the mean by approximately 5.7118 units. It gives you an idea of the typical distance between individual data points and the mean.\n",
    "\n",
    "Standard Deviation (SD): The standard deviation measures the dispersion of data points around the mean. A standard deviation of 6.59 indicates that, on average, the data points deviate from the mean by approximately 6.59 units. It provides a measure of the spread of the data and describes how much the data points are scattered around the mean."
   ]
  },
  {
   "cell_type": "markdown",
   "id": "e33b712b",
   "metadata": {},
   "source": [
    "### d. Calculate the correlation coefficient and check the significance of it at 1% level of significance.\n"
   ]
  },
  {
   "cell_type": "code",
   "execution_count": 13,
   "id": "85016fca",
   "metadata": {},
   "outputs": [
    {
     "data": {
      "text/html": [
       "<div>\n",
       "<style scoped>\n",
       "    .dataframe tbody tr th:only-of-type {\n",
       "        vertical-align: middle;\n",
       "    }\n",
       "\n",
       "    .dataframe tbody tr th {\n",
       "        vertical-align: top;\n",
       "    }\n",
       "\n",
       "    .dataframe thead th {\n",
       "        text-align: right;\n",
       "    }\n",
       "</style>\n",
       "<table border=\"1\" class=\"dataframe\">\n",
       "  <thead>\n",
       "    <tr style=\"text-align: right;\">\n",
       "      <th></th>\n",
       "      <th>Patient ID</th>\n",
       "      <th>Blood Pressure Before (mmHg)</th>\n",
       "      <th>Blood Pressure After (mmHg)</th>\n",
       "    </tr>\n",
       "  </thead>\n",
       "  <tbody>\n",
       "    <tr>\n",
       "      <th>0</th>\n",
       "      <td>1</td>\n",
       "      <td>130</td>\n",
       "      <td>120</td>\n",
       "    </tr>\n",
       "    <tr>\n",
       "      <th>1</th>\n",
       "      <td>2</td>\n",
       "      <td>142</td>\n",
       "      <td>135</td>\n",
       "    </tr>\n",
       "    <tr>\n",
       "      <th>2</th>\n",
       "      <td>3</td>\n",
       "      <td>120</td>\n",
       "      <td>118</td>\n",
       "    </tr>\n",
       "    <tr>\n",
       "      <th>3</th>\n",
       "      <td>4</td>\n",
       "      <td>135</td>\n",
       "      <td>127</td>\n",
       "    </tr>\n",
       "    <tr>\n",
       "      <th>4</th>\n",
       "      <td>5</td>\n",
       "      <td>148</td>\n",
       "      <td>140</td>\n",
       "    </tr>\n",
       "  </tbody>\n",
       "</table>\n",
       "</div>"
      ],
      "text/plain": [
       "   Patient ID   Blood Pressure Before (mmHg)   Blood Pressure After (mmHg)\n",
       "0           1                            130                           120\n",
       "1           2                            142                           135\n",
       "2           3                            120                           118\n",
       "3           4                            135                           127\n",
       "4           5                            148                           140"
      ]
     },
     "execution_count": 13,
     "metadata": {},
     "output_type": "execute_result"
    }
   ],
   "source": [
    "bp_df.head()"
   ]
  },
  {
   "cell_type": "code",
   "execution_count": 14,
   "id": "fba50793",
   "metadata": {},
   "outputs": [
    {
     "data": {
      "text/plain": [
       "(100, 3)"
      ]
     },
     "execution_count": 14,
     "metadata": {},
     "output_type": "execute_result"
    }
   ],
   "source": [
    "bp_df.shape"
   ]
  },
  {
   "cell_type": "code",
   "execution_count": 19,
   "id": "26e10006",
   "metadata": {},
   "outputs": [
    {
     "name": "stdout",
     "output_type": "stream",
     "text": [
      "Correlation coefficient is significant at the 1% level.\n"
     ]
    }
   ],
   "source": [
    "from scipy import stats\n",
    "# Calculate the correlation coefficient using corr()\n",
    "corr_matrix = bp_df[[' Blood Pressure Before (mmHg)', ' Blood Pressure After (mmHg)']].corr()\n",
    "corr_coeff = corr_matrix.iloc[0, 1]\n",
    "\n",
    "# Get the number of samples\n",
    "n = len(bp_df)\n",
    "\n",
    "# Calculate the t-statistic and p-value\n",
    "t_statistic = corr_coeff * ((n - 2) ** 0.5) / ((1 - corr_coeff ** 2) ** 0.5)\n",
    "p_value = stats.t.sf(abs(t_statistic), n - 2) * 2\n",
    "\n",
    "# Check significance at 1% level\n",
    "significance_level = 0.01\n",
    "if p_value < significance_level:\n",
    "    print(\"Correlation coefficient is significant at the 1% level.\")\n",
    "else:\n",
    "    print(\"Correlation coefficient is not significant at the 1% level.\")"
   ]
  },
  {
   "cell_type": "markdown",
   "id": "82858641",
   "metadata": {},
   "source": [
    "### Q-4. \n",
    "A group of 20 friends decide to play a game in which they each write a number\n",
    "between 1 and 20 on a slip of paper and put it into a hat. They then draw one slip of paper\n",
    "at random. What is the probability that the number on the slip of paper is a perfect square\n",
    "(i.e., 1, 4, 9, or 16)"
   ]
  },
  {
   "cell_type": "markdown",
   "id": "17e14837",
   "metadata": {},
   "source": [
    "To calculate the probability that the number on the slip of paper is a perfect square, we need to determine the number of favorable outcomes (numbers that are perfect squares) and the total number of possible outcomes.\n",
    "\n",
    "In this case, the total number of possible outcomes is 20 because each friend can write any number between 1 and 20.\n",
    "\n",
    "The favorable outcomes are the numbers 1, 4, 9, and 16, which are the perfect squares between 1 and 20.\n",
    "\n",
    "Therefore, the probability of drawing a perfect square number is given by:\n",
    "\n",
    "Probability = (Number of favorable outcomes) / (Total number of possible outcomes)\n",
    "            = 4 / 20\n",
    "            = 1/5\n",
    "            = 0.2\n",
    "\n",
    "So, the probability of drawing a perfect square number is 0.2 or 20%."
   ]
  },
  {
   "cell_type": "markdown",
   "id": "066281a2",
   "metadata": {},
   "source": [
    "### Q-5. \n",
    "\n",
    "A certain city has two taxi companies: Company A has 80% of the taxis and\n",
    "Company B has 20% of the taxis. Company A's taxis have a 95% success rate for picking\n",
    "up passengers on time, while Company B's taxis have a 90% success rate. If a randomly\n",
    "selected taxi is late, what is the probability that it belongs to Company A?"
   ]
  },
  {
   "cell_type": "markdown",
   "id": "fe41e615",
   "metadata": {},
   "source": [
    "To find the probability that a randomly selected late taxi belongs to Company A, we can use Bayes' theorem.\n",
    "\n",
    "Let's define the events:\n",
    "A: The taxi belongs to Company A\n",
    "B: The taxi is late\n",
    "\n",
    "We are given the following probabilities:\n",
    "P(A) = 0.80 (Company A has 80% of the taxis)\n",
    "P(B|A) = 0.05 (Company A's taxis have a 95% success rate, so the probability of being late is 1 - 0.95 = 0.05)\n",
    "P(B|not A) = 0.10 (Company B's taxis have a 90% success rate, so the probability of being late is 1 - 0.90 = 0.10)\n",
    "\n",
    "We want to find P(A|B), the probability that the taxi belongs to Company A given that it is late.\n",
    "\n",
    "Using Bayes' theorem:\n",
    "P(A|B) = (P(B|A) * P(A)) / (P(B|A) * P(A) + P(B|not A) * P(not A))\n",
    "\n",
    "Let's calculate it:\n",
    "P(A|B) = (0.05 * 0.80) / (0.05 * 0.80 + 0.10 * 0.20)\n",
    "       = 0.04 / (0.04 + 0.02)\n",
    "       = 0.04 / 0.06\n",
    "       = 0.6667\n",
    "\n",
    "Therefore, the probability that a randomly selected late taxi belongs to Company A is approximately 0.6667 or 66.67%."
   ]
  },
  {
   "cell_type": "markdown",
   "id": "371031cd",
   "metadata": {},
   "source": [
    "### Q-6. \n",
    "A pharmaceutical company is developing a drug that is supposed to reduce blood\n",
    "pressure. \n",
    "\n",
    "They conduct a clinical trial with 100 patients and record their blood\n",
    "pressure before and after taking the drug. The company wants to know if the change\n",
    "in blood pressure follows a normal distribution.\n",
    "\n",
    "https://drive.google.com/file/d/1mCjtYHiX--mMUjicuaP2gH3k-SnFxt8Y/view?usp=share_"
   ]
  },
  {
   "cell_type": "code",
   "execution_count": 32,
   "id": "7be12687",
   "metadata": {},
   "outputs": [
    {
     "data": {
      "text/html": [
       "<div>\n",
       "<style scoped>\n",
       "    .dataframe tbody tr th:only-of-type {\n",
       "        vertical-align: middle;\n",
       "    }\n",
       "\n",
       "    .dataframe tbody tr th {\n",
       "        vertical-align: top;\n",
       "    }\n",
       "\n",
       "    .dataframe thead th {\n",
       "        text-align: right;\n",
       "    }\n",
       "</style>\n",
       "<table border=\"1\" class=\"dataframe\">\n",
       "  <thead>\n",
       "    <tr style=\"text-align: right;\">\n",
       "      <th></th>\n",
       "      <th>Patient ID</th>\n",
       "      <th>Blood Pressure Before (mmHg)</th>\n",
       "      <th>Blood Pressure After (mmHg)</th>\n",
       "    </tr>\n",
       "  </thead>\n",
       "  <tbody>\n",
       "    <tr>\n",
       "      <th>0</th>\n",
       "      <td>1</td>\n",
       "      <td>130</td>\n",
       "      <td>120</td>\n",
       "    </tr>\n",
       "    <tr>\n",
       "      <th>1</th>\n",
       "      <td>2</td>\n",
       "      <td>142</td>\n",
       "      <td>135</td>\n",
       "    </tr>\n",
       "    <tr>\n",
       "      <th>2</th>\n",
       "      <td>3</td>\n",
       "      <td>120</td>\n",
       "      <td>118</td>\n",
       "    </tr>\n",
       "    <tr>\n",
       "      <th>3</th>\n",
       "      <td>4</td>\n",
       "      <td>135</td>\n",
       "      <td>127</td>\n",
       "    </tr>\n",
       "    <tr>\n",
       "      <th>4</th>\n",
       "      <td>5</td>\n",
       "      <td>148</td>\n",
       "      <td>140</td>\n",
       "    </tr>\n",
       "  </tbody>\n",
       "</table>\n",
       "</div>"
      ],
      "text/plain": [
       "   Patient ID   Blood Pressure Before (mmHg)   Blood Pressure After (mmHg)\n",
       "0           1                            130                           120\n",
       "1           2                            142                           135\n",
       "2           3                            120                           118\n",
       "3           4                            135                           127\n",
       "4           5                            148                           140"
      ]
     },
     "execution_count": 32,
     "metadata": {},
     "output_type": "execute_result"
    }
   ],
   "source": [
    "bp_df.head()"
   ]
  },
  {
   "cell_type": "code",
   "execution_count": 33,
   "id": "498c0e69",
   "metadata": {},
   "outputs": [
    {
     "data": {
      "text/plain": [
       "Index(['Patient ID', ' Blood Pressure Before (mmHg)',\n",
       "       ' Blood Pressure After (mmHg)'],\n",
       "      dtype='object')"
      ]
     },
     "execution_count": 33,
     "metadata": {},
     "output_type": "execute_result"
    }
   ],
   "source": [
    "bp_df.columns"
   ]
  },
  {
   "cell_type": "code",
   "execution_count": 35,
   "id": "a0beee9b",
   "metadata": {},
   "outputs": [],
   "source": [
    "bp_df['Blood Pressure Difference']=bp_df[' Blood Pressure Before (mmHg)']-bp_df[' Blood Pressure After (mmHg)']"
   ]
  },
  {
   "cell_type": "code",
   "execution_count": 36,
   "id": "89b097fa",
   "metadata": {},
   "outputs": [
    {
     "data": {
      "text/html": [
       "<div>\n",
       "<style scoped>\n",
       "    .dataframe tbody tr th:only-of-type {\n",
       "        vertical-align: middle;\n",
       "    }\n",
       "\n",
       "    .dataframe tbody tr th {\n",
       "        vertical-align: top;\n",
       "    }\n",
       "\n",
       "    .dataframe thead th {\n",
       "        text-align: right;\n",
       "    }\n",
       "</style>\n",
       "<table border=\"1\" class=\"dataframe\">\n",
       "  <thead>\n",
       "    <tr style=\"text-align: right;\">\n",
       "      <th></th>\n",
       "      <th>Patient ID</th>\n",
       "      <th>Blood Pressure Before (mmHg)</th>\n",
       "      <th>Blood Pressure After (mmHg)</th>\n",
       "      <th>Blood Pressure Difference</th>\n",
       "    </tr>\n",
       "  </thead>\n",
       "  <tbody>\n",
       "    <tr>\n",
       "      <th>0</th>\n",
       "      <td>1</td>\n",
       "      <td>130</td>\n",
       "      <td>120</td>\n",
       "      <td>10</td>\n",
       "    </tr>\n",
       "    <tr>\n",
       "      <th>1</th>\n",
       "      <td>2</td>\n",
       "      <td>142</td>\n",
       "      <td>135</td>\n",
       "      <td>7</td>\n",
       "    </tr>\n",
       "    <tr>\n",
       "      <th>2</th>\n",
       "      <td>3</td>\n",
       "      <td>120</td>\n",
       "      <td>118</td>\n",
       "      <td>2</td>\n",
       "    </tr>\n",
       "    <tr>\n",
       "      <th>3</th>\n",
       "      <td>4</td>\n",
       "      <td>135</td>\n",
       "      <td>127</td>\n",
       "      <td>8</td>\n",
       "    </tr>\n",
       "    <tr>\n",
       "      <th>4</th>\n",
       "      <td>5</td>\n",
       "      <td>148</td>\n",
       "      <td>140</td>\n",
       "      <td>8</td>\n",
       "    </tr>\n",
       "  </tbody>\n",
       "</table>\n",
       "</div>"
      ],
      "text/plain": [
       "   Patient ID   Blood Pressure Before (mmHg)   Blood Pressure After (mmHg)  \\\n",
       "0           1                            130                           120   \n",
       "1           2                            142                           135   \n",
       "2           3                            120                           118   \n",
       "3           4                            135                           127   \n",
       "4           5                            148                           140   \n",
       "\n",
       "   Blood Pressure Difference  \n",
       "0                         10  \n",
       "1                          7  \n",
       "2                          2  \n",
       "3                          8  \n",
       "4                          8  "
      ]
     },
     "execution_count": 36,
     "metadata": {},
     "output_type": "execute_result"
    }
   ],
   "source": [
    "bp_df.head()"
   ]
  },
  {
   "cell_type": "code",
   "execution_count": 37,
   "id": "bd6969b2",
   "metadata": {},
   "outputs": [],
   "source": [
    "import seaborn as sns"
   ]
  },
  {
   "cell_type": "code",
   "execution_count": 39,
   "id": "12d61c13",
   "metadata": {},
   "outputs": [
    {
     "data": {
      "text/plain": [
       "<Axes: xlabel='Blood Pressure Difference', ylabel='Count'>"
      ]
     },
     "execution_count": 39,
     "metadata": {},
     "output_type": "execute_result"
    },
    {
     "data": {
      "image/png": "[encoded data removed]",
      "text/plain": [
       "<Figure size 640x480 with 1 Axes>"
      ]
     },
     "metadata": {},
     "output_type": "display_data"
    }
   ],
   "source": [
    "sns.histplot(bp_df['Blood Pressure Difference'],kde=True)"
   ]
  },
  {
   "cell_type": "code",
   "execution_count": 40,
   "id": "f37211fa",
   "metadata": {},
   "outputs": [
    {
     "name": "stdout",
     "output_type": "stream",
     "text": [
      "Test Statistic: 0.9538205862045288\n",
      "p-value: 0.0014940275577828288\n",
      "The data does not follow a normal distribution (reject H0)\n"
     ]
    }
   ],
   "source": [
    "from scipy.stats import shapiro\n",
    "\n",
    "# Assuming you have a dataset named 'data'\n",
    "# Perform Shapiro-Wilk test\n",
    "statistic, p_value = shapiro(bp_df['Blood Pressure Difference'])\n",
    "\n",
    "# Print the test statistic and p-value\n",
    "print(\"Test Statistic:\", statistic)\n",
    "print(\"p-value:\", p_value)\n",
    "\n",
    "# Check the significance of the p-value\n",
    "alpha = 0.05\n",
    "if p_value > alpha:\n",
    "    print(\"The data follows a normal distribution (fail to reject H0)\")\n",
    "else:\n",
    "    print(\"The data does not follow a normal distribution (reject H0)\")"
   ]
  },
  {
   "cell_type": "markdown",
   "id": "8f3f3bcd",
   "metadata": {},
   "source": [
    "#### From the above plot and the shaprio test we can conclude that the data is not normally distributed."
   ]
  },
  {
   "cell_type": "markdown",
   "id": "05b48b97",
   "metadata": {},
   "source": [
    "### Q-8. \n",
    "\n",
    "The anxiety levels of 10 participants were measured before and after a new therapy.\n",
    "The scores are not normally distributed. Use the Wilcoxon signed-rank test to test whether the therapy had a significant effect on anxiety levels. The data is given below: Participant Before therapy After therapy Difference\n"
   ]
  },
  {
   "cell_type": "code",
   "execution_count": 41,
   "id": "bb2bcbea",
   "metadata": {},
   "outputs": [],
   "source": [
    "therapy_df=pd.DataFrame(data={'Participant':[1,2,3,4,5,6,7,8,9,10],\n",
    "                              'Before therapy':[10,8,12,15,6,9,11,7,14,10],\n",
    "                              'After therapy':[7,6,10,12,5,8,9,6,12,8],\n",
    "                              'Difference':[-3,-2,-2,-3,-1,-1,-2,-1,-2,-2]})"
   ]
  },
  {
   "cell_type": "code",
   "execution_count": 42,
   "id": "8551a9fe",
   "metadata": {},
   "outputs": [
    {
     "data": {
      "text/html": [
       "<div>\n",
       "<style scoped>\n",
       "    .dataframe tbody tr th:only-of-type {\n",
       "        vertical-align: middle;\n",
       "    }\n",
       "\n",
       "    .dataframe tbody tr th {\n",
       "        vertical-align: top;\n",
       "    }\n",
       "\n",
       "    .dataframe thead th {\n",
       "        text-align: right;\n",
       "    }\n",
       "</style>\n",
       "<table border=\"1\" class=\"dataframe\">\n",
       "  <thead>\n",
       "    <tr style=\"text-align: right;\">\n",
       "      <th></th>\n",
       "      <th>Participant</th>\n",
       "      <th>Before therapy</th>\n",
       "      <th>After therapy</th>\n",
       "      <th>Difference</th>\n",
       "    </tr>\n",
       "  </thead>\n",
       "  <tbody>\n",
       "    <tr>\n",
       "      <th>0</th>\n",
       "      <td>1</td>\n",
       "      <td>10</td>\n",
       "      <td>7</td>\n",
       "      <td>-3</td>\n",
       "    </tr>\n",
       "    <tr>\n",
       "      <th>1</th>\n",
       "      <td>2</td>\n",
       "      <td>8</td>\n",
       "      <td>6</td>\n",
       "      <td>-2</td>\n",
       "    </tr>\n",
       "    <tr>\n",
       "      <th>2</th>\n",
       "      <td>3</td>\n",
       "      <td>12</td>\n",
       "      <td>10</td>\n",
       "      <td>-2</td>\n",
       "    </tr>\n",
       "    <tr>\n",
       "      <th>3</th>\n",
       "      <td>4</td>\n",
       "      <td>15</td>\n",
       "      <td>12</td>\n",
       "      <td>-3</td>\n",
       "    </tr>\n",
       "    <tr>\n",
       "      <th>4</th>\n",
       "      <td>5</td>\n",
       "      <td>6</td>\n",
       "      <td>5</td>\n",
       "      <td>-1</td>\n",
       "    </tr>\n",
       "    <tr>\n",
       "      <th>5</th>\n",
       "      <td>6</td>\n",
       "      <td>9</td>\n",
       "      <td>8</td>\n",
       "      <td>-1</td>\n",
       "    </tr>\n",
       "    <tr>\n",
       "      <th>6</th>\n",
       "      <td>7</td>\n",
       "      <td>11</td>\n",
       "      <td>9</td>\n",
       "      <td>-2</td>\n",
       "    </tr>\n",
       "    <tr>\n",
       "      <th>7</th>\n",
       "      <td>8</td>\n",
       "      <td>7</td>\n",
       "      <td>6</td>\n",
       "      <td>-1</td>\n",
       "    </tr>\n",
       "    <tr>\n",
       "      <th>8</th>\n",
       "      <td>9</td>\n",
       "      <td>14</td>\n",
       "      <td>12</td>\n",
       "      <td>-2</td>\n",
       "    </tr>\n",
       "    <tr>\n",
       "      <th>9</th>\n",
       "      <td>10</td>\n",
       "      <td>10</td>\n",
       "      <td>8</td>\n",
       "      <td>-2</td>\n",
       "    </tr>\n",
       "  </tbody>\n",
       "</table>\n",
       "</div>"
      ],
      "text/plain": [
       "   Participant  Before therapy  After therapy  Difference\n",
       "0            1              10              7          -3\n",
       "1            2               8              6          -2\n",
       "2            3              12             10          -2\n",
       "3            4              15             12          -3\n",
       "4            5               6              5          -1\n",
       "5            6               9              8          -1\n",
       "6            7              11              9          -2\n",
       "7            8               7              6          -1\n",
       "8            9              14             12          -2\n",
       "9           10              10              8          -2"
      ]
     },
     "execution_count": 42,
     "metadata": {},
     "output_type": "execute_result"
    }
   ],
   "source": [
    "therapy_df"
   ]
  },
  {
   "cell_type": "code",
   "execution_count": 44,
   "id": "ddbb7d90",
   "metadata": {},
   "outputs": [
    {
     "name": "stdout",
     "output_type": "stream",
     "text": [
      "Test Statistic: 0.0\n",
      "p-value: 0.001953125\n",
      "There exist significant difference between the samples\n"
     ]
    }
   ],
   "source": [
    "from scipy.stats import wilcoxon\n",
    "\n",
    "\n",
    "# Perform the Wilcoxon signed-rank test\n",
    "statistic, p_value = wilcoxon(therapy_df['Before therapy'], therapy_df['After therapy'])\n",
    "\n",
    "# Print the test statistic and p-value\n",
    "print(\"Test Statistic:\", statistic)\n",
    "print(\"p-value:\", p_value)\n",
    "\n",
    "alpha=0.05\n",
    "\n",
    "if p_value<alpha:\n",
    "    print('There exist significant difference between the samples')\n",
    "else:\n",
    "    print('No significant difference seen between the two samples')"
   ]
  },
  {
   "cell_type": "markdown",
   "id": "9295a136",
   "metadata": {},
   "source": [
    "### Q-9. \n",
    "\n",
    "Given the score of students in multiple exams\n",
    "\n",
    "Test the hypothesis that the mean scores of all the students are the same. If not, name the\n",
    "student with the highest score."
   ]
  },
  {
   "cell_type": "code",
   "execution_count": 45,
   "id": "6274c48f",
   "metadata": {},
   "outputs": [],
   "source": [
    "scores_df=pd.DataFrame(data={'Name':['Karan','Deepa','Karthik','Chandan','Jeevan'],\n",
    "                             'Exam 1':[85,70,90,75,95],\n",
    "                             'Exam 2':[90,80,85,70,92],\n",
    "                             'Final Exam':[92,85,88,75,96]\n",
    "                            }\n",
    "                      )"
   ]
  },
  {
   "cell_type": "code",
   "execution_count": 46,
   "id": "cd703f64",
   "metadata": {},
   "outputs": [
    {
     "data": {
      "text/html": [
       "<div>\n",
       "<style scoped>\n",
       "    .dataframe tbody tr th:only-of-type {\n",
       "        vertical-align: middle;\n",
       "    }\n",
       "\n",
       "    .dataframe tbody tr th {\n",
       "        vertical-align: top;\n",
       "    }\n",
       "\n",
       "    .dataframe thead th {\n",
       "        text-align: right;\n",
       "    }\n",
       "</style>\n",
       "<table border=\"1\" class=\"dataframe\">\n",
       "  <thead>\n",
       "    <tr style=\"text-align: right;\">\n",
       "      <th></th>\n",
       "      <th>Name</th>\n",
       "      <th>Exam 1</th>\n",
       "      <th>Exam 2</th>\n",
       "      <th>Final Exam</th>\n",
       "    </tr>\n",
       "  </thead>\n",
       "  <tbody>\n",
       "    <tr>\n",
       "      <th>0</th>\n",
       "      <td>Karan</td>\n",
       "      <td>85</td>\n",
       "      <td>90</td>\n",
       "      <td>92</td>\n",
       "    </tr>\n",
       "    <tr>\n",
       "      <th>1</th>\n",
       "      <td>Deepa</td>\n",
       "      <td>70</td>\n",
       "      <td>80</td>\n",
       "      <td>85</td>\n",
       "    </tr>\n",
       "    <tr>\n",
       "      <th>2</th>\n",
       "      <td>Karthik</td>\n",
       "      <td>90</td>\n",
       "      <td>85</td>\n",
       "      <td>88</td>\n",
       "    </tr>\n",
       "    <tr>\n",
       "      <th>3</th>\n",
       "      <td>Chandan</td>\n",
       "      <td>75</td>\n",
       "      <td>70</td>\n",
       "      <td>75</td>\n",
       "    </tr>\n",
       "    <tr>\n",
       "      <th>4</th>\n",
       "      <td>Jeevan</td>\n",
       "      <td>95</td>\n",
       "      <td>92</td>\n",
       "      <td>96</td>\n",
       "    </tr>\n",
       "  </tbody>\n",
       "</table>\n",
       "</div>"
      ],
      "text/plain": [
       "      Name  Exam 1  Exam 2  Final Exam\n",
       "0    Karan      85      90          92\n",
       "1    Deepa      70      80          85\n",
       "2  Karthik      90      85          88\n",
       "3  Chandan      75      70          75\n",
       "4   Jeevan      95      92          96"
      ]
     },
     "execution_count": 46,
     "metadata": {},
     "output_type": "execute_result"
    }
   ],
   "source": [
    "scores_df"
   ]
  },
  {
   "cell_type": "code",
   "execution_count": 47,
   "id": "a22d35e2",
   "metadata": {},
   "outputs": [],
   "source": [
    "Exam1_mean=scores_df['Exam 1'].mean()\n",
    "Exam2_mean=scores_df['Exam 2'].mean()\n",
    "Final_Exam_mean=scores_df['Final Exam'].mean()"
   ]
  },
  {
   "cell_type": "code",
   "execution_count": 49,
   "id": "c7f9dfbe",
   "metadata": {},
   "outputs": [
    {
     "name": "stdout",
     "output_type": "stream",
     "text": [
      "Exam1_mean : 83.0\n",
      "Exam2_mean : 83.0\n",
      "Final_Exam_mean : 87.2\n"
     ]
    }
   ],
   "source": [
    "print('Exam1_mean :',Exam1_mean)\n",
    "print('Exam2_mean :',Exam1_mean)\n",
    "print('Final_Exam_mean :',Final_Exam_mean)"
   ]
  },
  {
   "cell_type": "code",
   "execution_count": 51,
   "id": "9c231075",
   "metadata": {},
   "outputs": [
    {
     "name": "stdout",
     "output_type": "stream",
     "text": [
      "f_value : 0.3236947791164659\n",
      "p_value : 0.7295954253321559\n",
      "Fail to reject the null hypothesis. The mean scores are the same.\n",
      "Student with the highest score: Jeevan\n"
     ]
    }
   ],
   "source": [
    "import pandas as pd\n",
    "from scipy.stats import f_oneway\n",
    "\n",
    "data = {\n",
    "    'Name': ['Karan', 'Deepa', 'Karthik', 'Chandan', 'Jeevan'],\n",
    "    'Exam 1': [85, 70, 90, 75, 95],\n",
    "    'Exam 2': [90, 80, 85, 70, 92],\n",
    "    'Final Exam': [92, 85, 88, 75, 96]\n",
    "}\n",
    "\n",
    "df = pd.DataFrame(data)\n",
    "\n",
    "# Perform one-way ANOVA\n",
    "f_value, p_value = f_oneway(df['Exam 1'], df['Exam 2'], df['Final Exam'])\n",
    "\n",
    "print('f_value :',f_value)\n",
    "print('p_value :',p_value)\n",
    "\n",
    "# Check the p-value\n",
    "alpha = 0.05  # Significance level\n",
    "if p_value < alpha:\n",
    "    print(\"Reject the null hypothesis. The mean scores are not the same.\")\n",
    "else:\n",
    "    print(\"Fail to reject the null hypothesis. The mean scores are the same.\")\n",
    "\n",
    "# Find the student with the highest score\n",
    "student_with_highest_score = df['Name'][df['Final Exam'].idxmax()]\n",
    "print(\"Student with the highest score:\", student_with_highest_score)\n"
   ]
  },
  {
   "cell_type": "markdown",
   "id": "0350d66b",
   "metadata": {},
   "source": [
    "### Q-10. \n",
    "\n",
    "A factory produces light bulbs, and the probability of a bulb being defective is 0.05.\n",
    "\n",
    "The factory produces a large batch of 500 light bulbs.\n",
    "\n",
    "- a. What is the probability that exactly 20 bulbs are defective?\n",
    "- b. What is the probability that at least 10 bulbs are defective?\n",
    "- c. What is the probability that at max 15 bulbs are defective?\n",
    "- d. On average, how many defective bulbs would you expect in a batch of 500?\n"
   ]
  },
  {
   "cell_type": "code",
   "execution_count": 53,
   "id": "9e8c0e03",
   "metadata": {},
   "outputs": [],
   "source": [
    "import math\n",
    "\n",
    "def binomial_pmf(n, k, p):\n",
    "    # Calculate binomial coefficient\n",
    "    coef = math.comb(n, k)\n",
    "    # Calculate probability\n",
    "    prob = coef * (p ** k) * ((1 - p) ** (n - k))\n",
    "    return prob\n",
    "\n",
    "def calculate_probabilities(n, p):\n",
    "    # a. Probability that exactly 20 bulbs are defective\n",
    "    prob_20_defective = binomial_pmf(n, 20, p)\n",
    "\n",
    "    # b. Probability that at least 10 bulbs are defective\n",
    "    prob_at_least_10_defective = sum(binomial_pmf(n, k, p) for k in range(10, n+1))\n",
    "\n",
    "    # c. Probability that at most 15 bulbs are defective\n",
    "    prob_at_most_15_defective = sum(binomial_pmf(n, k, p) for k in range(16))\n",
    "\n",
    "    # d. Expected number of defective bulbs\n",
    "    expected_defective_bulbs = n * p\n",
    "\n",
    "    return prob_20_defective, prob_at_least_10_defective, prob_at_most_15_defective, expected_defective_bulbs\n",
    "\n",
    "# Given values\n",
    "n = 500  # Total number of bulbs\n",
    "p = 0.05  # Probability of a bulb being defective\n",
    "\n",
    "# Calculate probabilities and expected value\n",
    "prob_20_defective, prob_at_least_10_defective, prob_at_most_15_defective, expected_defective_bulbs = calculate_probabilities(n, p)\n"
   ]
  },
  {
   "cell_type": "code",
   "execution_count": 54,
   "id": "afad8752",
   "metadata": {},
   "outputs": [
    {
     "data": {
      "text/plain": [
       "0.05161619253663997"
      ]
     },
     "execution_count": 54,
     "metadata": {},
     "output_type": "execute_result"
    }
   ],
   "source": [
    "prob_20_defective"
   ]
  },
  {
   "cell_type": "code",
   "execution_count": 55,
   "id": "d76fd160",
   "metadata": {},
   "outputs": [
    {
     "data": {
      "text/plain": [
       "0.9998316463654692"
      ]
     },
     "execution_count": 55,
     "metadata": {},
     "output_type": "execute_result"
    }
   ],
   "source": [
    "prob_at_least_10_defective"
   ]
  },
  {
   "cell_type": "code",
   "execution_count": 56,
   "id": "84b8a69b",
   "metadata": {},
   "outputs": [
    {
     "data": {
      "text/plain": [
       "0.019858377163006223"
      ]
     },
     "execution_count": 56,
     "metadata": {},
     "output_type": "execute_result"
    }
   ],
   "source": [
    "prob_at_most_15_defective"
   ]
  },
  {
   "cell_type": "code",
   "execution_count": 57,
   "id": "02a22ca5",
   "metadata": {},
   "outputs": [
    {
     "data": {
      "text/plain": [
       "25.0"
      ]
     },
     "execution_count": 57,
     "metadata": {},
     "output_type": "execute_result"
    }
   ],
   "source": [
    "expected_defective_bulbs"
   ]
  },
  {
   "cell_type": "markdown",
   "id": "2ef0ddb7",
   "metadata": {},
   "source": [
    "### Q-11. \n",
    "Given the data of a feature contributing to different classes\n",
    "https://drive.google.com/file/d/1mCjtYHiX--mMUjicuaP2gH3k-SnFxt8Y/view?usp=share_\n",
    "\n",
    "- a. Check whether the distribution of all the classes are the same or not.\n",
    "- b. Check for the equality of variance/\n",
    "- c. Which amount LDA and QDA would perform better on this data for classification and why.\n",
    "- d. Check the equality of mean for between all the classes."
   ]
  },
  {
   "cell_type": "code",
   "execution_count": 21,
   "id": "63af37e7",
   "metadata": {
    "scrolled": true
   },
   "outputs": [
    {
     "data": {
      "text/html": [
       "<div>\n",
       "<style scoped>\n",
       "    .dataframe tbody tr th:only-of-type {\n",
       "        vertical-align: middle;\n",
       "    }\n",
       "\n",
       "    .dataframe tbody tr th {\n",
       "        vertical-align: top;\n",
       "    }\n",
       "\n",
       "    .dataframe thead th {\n",
       "        text-align: right;\n",
       "    }\n",
       "</style>\n",
       "<table border=\"1\" class=\"dataframe\">\n",
       "  <thead>\n",
       "    <tr style=\"text-align: right;\">\n",
       "      <th></th>\n",
       "      <th>Patient ID</th>\n",
       "      <th>Blood Pressure Before (mmHg)</th>\n",
       "      <th>Blood Pressure After (mmHg)</th>\n",
       "    </tr>\n",
       "  </thead>\n",
       "  <tbody>\n",
       "    <tr>\n",
       "      <th>0</th>\n",
       "      <td>1</td>\n",
       "      <td>130</td>\n",
       "      <td>120</td>\n",
       "    </tr>\n",
       "    <tr>\n",
       "      <th>1</th>\n",
       "      <td>2</td>\n",
       "      <td>142</td>\n",
       "      <td>135</td>\n",
       "    </tr>\n",
       "    <tr>\n",
       "      <th>2</th>\n",
       "      <td>3</td>\n",
       "      <td>120</td>\n",
       "      <td>118</td>\n",
       "    </tr>\n",
       "    <tr>\n",
       "      <th>3</th>\n",
       "      <td>4</td>\n",
       "      <td>135</td>\n",
       "      <td>127</td>\n",
       "    </tr>\n",
       "    <tr>\n",
       "      <th>4</th>\n",
       "      <td>5</td>\n",
       "      <td>148</td>\n",
       "      <td>140</td>\n",
       "    </tr>\n",
       "  </tbody>\n",
       "</table>\n",
       "</div>"
      ],
      "text/plain": [
       "   Patient ID   Blood Pressure Before (mmHg)   Blood Pressure After (mmHg)\n",
       "0           1                            130                           120\n",
       "1           2                            142                           135\n",
       "2           3                            120                           118\n",
       "3           4                            135                           127\n",
       "4           5                            148                           140"
      ]
     },
     "execution_count": 21,
     "metadata": {},
     "output_type": "execute_result"
    }
   ],
   "source": [
    "bp_df.head()"
   ]
  },
  {
   "cell_type": "code",
   "execution_count": 23,
   "id": "153f02e4",
   "metadata": {},
   "outputs": [
    {
     "data": {
      "text/plain": [
       "Index(['Patient ID', ' Blood Pressure Before (mmHg)',\n",
       "       ' Blood Pressure After (mmHg)'],\n",
       "      dtype='object')"
      ]
     },
     "execution_count": 23,
     "metadata": {},
     "output_type": "execute_result"
    }
   ],
   "source": [
    "bp_df.columns"
   ]
  },
  {
   "cell_type": "markdown",
   "id": "f93f15d4",
   "metadata": {},
   "source": [
    "### Check whether the distribution of all the classes are the same or not."
   ]
  },
  {
   "cell_type": "code",
   "execution_count": 22,
   "id": "18bd081d",
   "metadata": {},
   "outputs": [],
   "source": [
    "import scipy.stats as stats"
   ]
  },
  {
   "cell_type": "code",
   "execution_count": 24,
   "id": "e094344a",
   "metadata": {},
   "outputs": [],
   "source": [
    "# Perform the t-test assuming unequal variances\n",
    "t_statistic, p_value = stats.ttest_ind(bp_df[' Blood Pressure Before (mmHg)'], bp_df[' Blood Pressure After (mmHg)'], equal_var=False)"
   ]
  },
  {
   "cell_type": "code",
   "execution_count": 26,
   "id": "4ff37acf",
   "metadata": {},
   "outputs": [
    {
     "name": "stdout",
     "output_type": "stream",
     "text": [
      "5.818552457956588\n",
      "2.3619949591883224e-08\n"
     ]
    }
   ],
   "source": [
    "print(t_statistic)\n",
    "print(p_value)"
   ]
  },
  {
   "cell_type": "markdown",
   "id": "16b4ee5c",
   "metadata": {},
   "source": [
    "#### since the p-value is pretty smaller compared to the significance level of 0.05 we can conclude that there is significant difference exist between the two groups.`m"
   ]
  },
  {
   "cell_type": "markdown",
   "id": "65ec1422",
   "metadata": {},
   "source": [
    "### Check for the equality of variance"
   ]
  },
  {
   "cell_type": "code",
   "execution_count": 28,
   "id": "22494fd9",
   "metadata": {},
   "outputs": [
    {
     "name": "stdout",
     "output_type": "stream",
     "text": [
      "Levene's test statistic: 0.18038002140150966\n",
      "P-Value: 0.6715080090945376\n"
     ]
    }
   ],
   "source": [
    "#Performing Levene's test to determine the equality of variance\n",
    "statistic, p_value = stats.levene(bp_df[' Blood Pressure Before (mmHg)'], bp_df[' Blood Pressure After (mmHg)'])\n",
    "\n",
    "# Print the results\n",
    "print(\"Levene's test statistic:\", statistic)\n",
    "print(\"P-Value:\", p_value)"
   ]
  },
  {
   "cell_type": "markdown",
   "id": "f8df38bd",
   "metadata": {},
   "source": [
    "#### Since the p-value is not lesser than the level of significance considered at 0.05, we can conclude there is no significance difference in the variance of both the groups (i.e.) They have equal variance. "
   ]
  },
  {
   "cell_type": "markdown",
   "id": "5b1f3f69",
   "metadata": {},
   "source": [
    "### Check the equality of mean for between all the classes."
   ]
  },
  {
   "cell_type": "code",
   "execution_count": 29,
   "id": "996b00b9",
   "metadata": {},
   "outputs": [
    {
     "name": "stdout",
     "output_type": "stream",
     "text": [
      "Paired t-test statistic: 38.40500458621546\n",
      "P-Value: 2.817165090364283e-61\n"
     ]
    }
   ],
   "source": [
    "# Perform paired t-test\n",
    "statistic, p_value = stats.ttest_rel(bp_df[' Blood Pressure Before (mmHg)'], bp_df[' Blood Pressure After (mmHg)'])\n",
    "\n",
    "# Print the results\n",
    "print(\"Paired t-test statistic:\", statistic)\n",
    "print(\"P-Value:\", p_value)"
   ]
  },
  {
   "cell_type": "markdown",
   "id": "c580fbb7",
   "metadata": {},
   "source": [
    "#### since the p-value is pretty much lesser than the level of significance at 0.05, it proves there is significant difference in the mean value (i.e.) they are not equal."
   ]
  },
  {
   "cell_type": "markdown",
   "id": "2ef5d3b9",
   "metadata": {},
   "source": [
    "### Q-12. \n",
    "\n",
    "A pharmaceutical company develops a new drug and wants to compare its\n",
    "effectiveness against a standard drug for treating a particular condition. They conduct a\n",
    "study with two groups: Group A receives the new drug, and Group B receives the standard\n",
    "drug. The company measures the improvement in a specific symptom for both groups after\n",
    "a 4-week treatment period.\n",
    "\n",
    "- a. The company collects data from 30 patients in each group and calculates the\n",
    "  mean improvement score and the standard deviation of improvement for each\n",
    "  group. The mean improvement score for Group A is 2.5 with a standard\n",
    "  deviation of 0.8, while the mean improvement score for Group B is 2.2 with a\n",
    "  standard deviation of 0.6. Conduct a t-test to determine if there is a significant\n",
    "  difference in the mean improvement scores between the two groups. Use a\n",
    "  significance level of 0.05.\n",
    "\n",
    "- b. Based on the t-test results, state whether the null hypothesis should be\n",
    "  rejected or not. Provide a conclusion in the context of the study."
   ]
  },
  {
   "cell_type": "code",
   "execution_count": 63,
   "id": "2ad684e7",
   "metadata": {},
   "outputs": [],
   "source": [
    "##Given Data,\n",
    "##We have two groups Group A and Group B\n",
    "\n",
    "##Group A details, \n",
    "number_of_samples = 30\n",
    "mean_A=2.5\n",
    "std_dev_A = 0.8\n",
    "\n",
    "##Group B details,\n",
    "number_of_samples=30\n",
    "mean_B=2.2\n",
    "std_dev_B=0.6\n",
    "\n",
    "alpha=0.05\n",
    "\n",
    "##degree of freedom\n",
    "df=number_of_samples+number_of_samples-2\n",
    "\n",
    "#### Step1: Define the hypothesis.\n",
    "##H0: Mean_of_groupA = Mean_of_groupB (i.e.) There is no improvement due to the new drug\n",
    "##Ha: Mean_of_groupA != Mean_of_groupB (i.e.) There is improvement due to new drug "
   ]
  },
  {
   "cell_type": "code",
   "execution_count": 69,
   "id": "1fada288",
   "metadata": {},
   "outputs": [],
   "source": [
    "import numpy as np\n",
    "t_statistic=(mean_A-mean_B)/np.sqrt((std_dev_A**2/number_of_samples)+(std_dev_B**2/number_of_samples))"
   ]
  },
  {
   "cell_type": "code",
   "execution_count": 67,
   "id": "c659c63b",
   "metadata": {},
   "outputs": [
    {
     "data": {
      "text/plain": [
       "0.2999999999999998"
      ]
     },
     "execution_count": 67,
     "metadata": {},
     "output_type": "execute_result"
    }
   ],
   "source": [
    "mean_A-mean_B"
   ]
  },
  {
   "cell_type": "code",
   "execution_count": 68,
   "id": "7748d93a",
   "metadata": {},
   "outputs": [
    {
     "data": {
      "text/plain": [
       "0.18257418583505539"
      ]
     },
     "execution_count": 68,
     "metadata": {},
     "output_type": "execute_result"
    }
   ],
   "source": [
    "np.sqrt((std_dev_A**2/number_of_samples)+(std_dev_B**2/number_of_samples))"
   ]
  },
  {
   "cell_type": "code",
   "execution_count": 70,
   "id": "2a7b70d8",
   "metadata": {},
   "outputs": [
    {
     "data": {
      "text/plain": [
       "1.6431676725154973"
      ]
     },
     "execution_count": 70,
     "metadata": {},
     "output_type": "execute_result"
    }
   ],
   "source": [
    "t_statistic"
   ]
  },
  {
   "cell_type": "code",
   "execution_count": 79,
   "id": "6b13eceb",
   "metadata": {},
   "outputs": [
    {
     "name": "stdout",
     "output_type": "stream",
     "text": [
      "Critical Value: 2.0017174830120923\n",
      "p_value: 0.10575916705583671\n"
     ]
    }
   ],
   "source": [
    "#Calculate the critical value \n",
    "import scipy.stats as stats\n",
    "\n",
    "# Group A data\n",
    "group_a_mean = 2.5\n",
    "group_a_std = 0.8\n",
    "group_a_n = 30\n",
    "\n",
    "# Group B data\n",
    "group_b_mean = 2.2\n",
    "group_b_std = 0.6\n",
    "group_b_n = 30\n",
    "\n",
    "# Perform independent t-test\n",
    "t_statistic, p_value = stats.ttest_ind_from_stats(group_a_mean, group_a_std, group_a_n,\n",
    "                                                  group_b_mean, group_b_std, group_b_n)\n",
    "\n",
    "# Degrees of freedom\n",
    "df = group_a_n + group_b_n - 2\n",
    "\n",
    "# Significance level\n",
    "alpha = 0.05\n",
    "\n",
    "# Calculate the critical value\n",
    "critical_value = stats.t.ppf(1 - alpha/2, df)\n",
    "\n",
    "# Print the critical value\n",
    "print(\"Critical Value:\", critical_value)\n",
    "print('p_value:',p_value)\n"
   ]
  },
  {
   "cell_type": "code",
   "execution_count": 78,
   "id": "da119e74",
   "metadata": {},
   "outputs": [
    {
     "name": "stdout",
     "output_type": "stream",
     "text": [
      "Accept the Null Hypothesis. There is no significant difference in means\n"
     ]
    }
   ],
   "source": [
    "if t_statistic<critical_value:\n",
    "    print('Accept the Null Hypothesis. There is no significant difference in means')\n",
    "else:\n",
    "    print('Reject the Null Hypothesis. There is significant difference in means')"
   ]
  },
  {
   "cell_type": "code",
   "execution_count": 80,
   "id": "6ca33f5a",
   "metadata": {},
   "outputs": [
    {
     "name": "stdout",
     "output_type": "stream",
     "text": [
      "Fail to reject the Null Hypothesis. Accept the Null Hypothesis\n"
     ]
    }
   ],
   "source": [
    "if p_value<alpha:\n",
    "    print('Reject the Null Hypothesis.Accept Alternate Hypothesis')\n",
    "else:\n",
    "    print('Fail to reject the Null Hypothesis. Accept the Null Hypothesis')"
   ]
  }
 ],
 "metadata": {
  "kernelspec": {
   "display_name": "Python 3 (ipykernel)",
   "language": "python",
   "name": "python3"
  },
  "language_info": {
   "codemirror_mode": {
    "name": "ipython",
    "version": 3
   },
   "file_extension": ".py",
   "mimetype": "text/x-python",
   "name": "python",
   "nbconvert_exporter": "python",
   "pygments_lexer": "ipython3",
   "version": "3.10.9"
  }
 },
 "nbformat": 4,
 "nbformat_minor": 5
}

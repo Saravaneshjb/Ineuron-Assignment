{
 "cells": [
  {
   "cell_type": "markdown",
   "metadata": {},
   "source": [
    "**1. In the below elements which of them are values or an expression? eg:- values can be integer or string and expressions will be mathematical operators.**\n",
    "\n",
    "- $*$ -> Expression\n",
    "- 'hello' -> value \n",
    "- $-$87.8 -> value \n",
    "- $-$  -> Expression\n",
    "- $/$ -> Expression \n",
    "- $+$ -> Expression\n",
    "- 6 -> Value"
   ]
  },
  {
   "cell_type": "markdown",
   "metadata": {},
   "source": [
    "**2. What is the difference between string and variable?**\n",
    "\n",
    "| String | Variable |\n",
    "| --- | --- |\n",
    "| String is one of the datatype in python | Variable is not a datatype |\n",
    "| Strings are presented with quotation marks ' ' or \" \" | Variable on the other hand does not have any such specific presentation. It depends on the type of value it holds |\n",
    "| Strings are iterable | Variables are pointers to the values/object presented (i.e.) once stored they objects are called using the variable name.|"
   ]
  },
  {
   "cell_type": "markdown",
   "metadata": {},
   "source": [
    "**3. Describe three different data types.**\n",
    "\n",
    "- **int**    - It is one of the datatype in python that holds whole numbers (i.e.) 10, 1000, 121 etc.,\n",
    "- **float**  - It is used to store decimal values (i.e.) 3.4, 5.6, 7.8 etc.,\n",
    "- **string** - Used to store the values such as Name, Department etc.,. \n",
    "             - values in a string can be iterated (i.e.) we can pass the string variable to a for/while loop and iterate \n",
    "               through each value. \n",
    "               eg: str1 = 'JBS'\n",
    "               for val in str1:\n",
    "                 print(val)\n",
    "               **Output:**\n",
    "               J \n",
    "               B\n",
    "               S"
   ]
  },
  {
   "cell_type": "markdown",
   "metadata": {},
   "source": [
    "**4. What is an expression made up of? What do all expressions do?**\n",
    "\n",
    "An expression is a combination of operators and operands that is interpreted to produce some other value.\n",
    "Each expression has its own way of being interpreted. \n",
    "\n",
    "Eg : a =5 + 2 - This is an arithmetic expression where we are summing two values and assiging it to a variable. "
   ]
  },
  {
   "cell_type": "markdown",
   "metadata": {},
   "source": [
    "**5. This assignment statements, like spam = 10. What is the difference between an expression and a statement?**\n",
    "\n",
    "**Expression**  : It is used to perform some kind of an operation like a arithmetic operation, logical operation etc., \n",
    "\n",
    "**Statement** : It is a fixed command that we pass to the python interpretor to execute. Eg : print statement.\n"
   ]
  },
  {
   "cell_type": "markdown",
   "metadata": {},
   "source": [
    "**6. After running the following code, what does the variable bacon contain?**\n",
    "\n",
    "**input**\n",
    "\n",
    "- bacon = 22\n",
    "- bacon + 1\n",
    "\n",
    "**output**\n",
    "- 23\n",
    "\n"
   ]
  },
  {
   "cell_type": "markdown",
   "metadata": {},
   "source": [
    "**7. What should the values of the following two terms be?**\n",
    "\n",
    "**input**\n",
    "- 'spam' + 'spamspam'\n",
    "- 'spam' * 3\n",
    "\n",
    "**output**\n",
    "- 'spamspamspam'\n",
    "- 'spamspamspam'"
   ]
  },
  {
   "cell_type": "markdown",
   "metadata": {},
   "source": [
    "**8. Why is eggs a valid variable name while 100 is invalid?**\n",
    "\n",
    "- Variable name can be a string and cannot be a numeric value hence 'eggs' is a valid variable name while 100 which is an \n",
    "  integer is invalid."
   ]
  },
  {
   "cell_type": "markdown",
   "metadata": {},
   "source": [
    "**9. What three functions can be used to get the integer, floating-point number, or string version of a value?**\n",
    "- The int(), float(), str() function can be used to get the integer,floating-point number and string version of a value. \n",
    "- Example, \n",
    " - a = 10.34 \n",
    " - int(a) -> 10\n",
    " - float(a) -> 10.34\n",
    " - str(a) -> 10.34 but the datatype would be string."
   ]
  },
  {
   "cell_type": "markdown",
   "metadata": {},
   "source": [
    "**10. Why does this expression cause an error? How can you fix it?**\n",
    "**'I have eaten ' + 99 + ' burritos.'**\n",
    "\n",
    "- Reason for error  : we are trying to add/concatenate values of different datatypes hence it would throw an error. \n",
    "- Fix : Convert the value 99 also as string by either of below options.  This would resolve the issue. \n",
    "    - 'I have eaten ' + '99' + ' burritos.' \n",
    "    - 'I have eaten ' + str(99) + ' burritos.' \n",
    "    "
   ]
  }
 ],
 "metadata": {
  "kernelspec": {
   "display_name": "Python 3",
   "language": "python",
   "name": "python3"
  },
  "language_info": {
   "codemirror_mode": {
    "name": "ipython",
    "version": 3
   },
   "file_extension": ".py",
   "mimetype": "text/x-python",
   "name": "python",
   "nbconvert_exporter": "python",
   "pygments_lexer": "ipython3",
   "version": "3.8.5"
  }
 },
 "nbformat": 4,
 "nbformat_minor": 4
}

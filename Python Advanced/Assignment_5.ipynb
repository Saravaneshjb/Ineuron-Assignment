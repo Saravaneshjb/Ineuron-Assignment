{
 "cells": [
  {
   "cell_type": "markdown",
   "id": "ca888557",
   "metadata": {},
   "source": [
    "### Q1. What is the meaning of multiple inheritance?"
   ]
  },
  {
   "cell_type": "markdown",
   "id": "1c02cce7",
   "metadata": {},
   "source": [
    "Multiple inheritance is a feature in object-oriented programming languages where a class can inherit from more than one parent class. This allows a subclass to inherit attributes and methods from multiple parent classes, resulting in a more complex and versatile class hierarchy. In multiple inheritance, the subclass will inherit all the attributes and methods of its parent classes, and it can also define its own attributes and methods."
   ]
  },
  {
   "cell_type": "markdown",
   "id": "0f55d9c2",
   "metadata": {},
   "source": [
    "### Q2. What is the concept of delegation?"
   ]
  },
  {
   "cell_type": "markdown",
   "id": "51dfd8a2",
   "metadata": {},
   "source": [
    "- Delegation is a programming technique in which an object passes responsibility for a task to another object. It is a way of reusing code by combining the functionality of multiple objects to achieve a common goal. In delegation, an object delegates a task to another object, which is responsible for performing that task. \n",
    "\n",
    "- In Python, delegation is implemented using composition, which involves creating objects of other classes as members of a class and delegating tasks to those objects. The class that contains the objects is called the delegator, and the objects that perform the tasks are called the delegates. The delegator object doesn't perform the task itself but delegates it to one of the delegate objects based on the situation. \n",
    "\n",
    "- Delegation allows for greater flexibility and modularity in programming, as objects can be combined in different ways to achieve different tasks. It also promotes code reuse, as the same delegate object can be used by multiple delegator objects to perform the same task."
   ]
  },
  {
   "cell_type": "markdown",
   "id": "543668a9",
   "metadata": {},
   "source": [
    "### Q3. What is the concept of composition?"
   ]
  },
  {
   "cell_type": "markdown",
   "id": "8a2483b8",
   "metadata": {},
   "source": [
    "Composition is a concept in object-oriented programming that refers to the practice of combining simple, independent objects to create more complex ones. In other words, a composite object is made up of one or more other objects, and the composite object delegates certain tasks to those objects, rather than trying to handle everything itself. \n",
    "\n",
    "Composition is different from inheritance, where a subclass inherits attributes and behavior from its parent class. In composition, an object is made up of other objects, which are typically instances of other classes, rather than being a subclass of those classes. This allows for greater flexibility in creating complex objects, as they can be built from a combination of smaller, simpler objects that can be reused in different contexts."
   ]
  },
  {
   "cell_type": "markdown",
   "id": "c5ae6868",
   "metadata": {},
   "source": [
    "### Q4. What are bound methods and how do we use them?"
   ]
  },
  {
   "cell_type": "markdown",
   "id": "2baf7f56",
   "metadata": {},
   "source": [
    "Bound methods are methods that are attached to an instance of a class. When an instance method is called on an instance of a class, the instance is passed automatically as the first argument to the method, which is commonly referred to as self. This self argument represents the instance on which the method is being called.\n"
   ]
  },
  {
   "cell_type": "markdown",
   "id": "37ee8cef",
   "metadata": {},
   "source": [
    "### Q5. What is the purpose of pseudoprivate attributes?"
   ]
  },
  {
   "cell_type": "markdown",
   "id": "83f171cc",
   "metadata": {},
   "source": [
    "In Python, pseudoprivate attributes are used to emulate private attributes in classes. They are not truly private, but their names are mangled in a way that makes them harder to access accidentally from outside the class.\n",
    "\n",
    "The purpose of pseudoprivate attributes is to avoid naming conflicts between attributes in a class and attributes in a subclass. When a class attribute name is prefixed with two underscores (e.g., `__attribute`), Python mangles the name to `_classname__attribute` to make it harder to access from outside the class. This makes it easier to avoid naming conflicts in subclasses, since the subclass's attribute names will be mangled differently.\n",
    "\n",
    "Pseudoprivate attributes are generally used as a way to signal to other developers that an attribute is not intended to be accessed from outside the class, but they are not enforced by the Python interpreter. It is still possible to access pseudoprivate attributes from outside the class by using the mangled name, although this is generally considered bad practice."
   ]
  }
 ],
 "metadata": {
  "kernelspec": {
   "display_name": "Python 3 (ipykernel)",
   "language": "python",
   "name": "python3"
  },
  "language_info": {
   "codemirror_mode": {
    "name": "ipython",
    "version": 3
   },
   "file_extension": ".py",
   "mimetype": "text/x-python",
   "name": "python",
   "nbconvert_exporter": "python",
   "pygments_lexer": "ipython3",
   "version": "3.10.9"
  }
 },
 "nbformat": 4,
 "nbformat_minor": 5
}

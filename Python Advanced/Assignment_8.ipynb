{
 "cells": [
  {
   "cell_type": "markdown",
   "id": "be8fba0d",
   "metadata": {},
   "source": [
    "### Q1. What are the two latest user-defined exception constraints in Python 3.X?"
   ]
  },
  {
   "cell_type": "markdown",
   "id": "69d5b36e",
   "metadata": {},
   "source": [
    "In Python 3.x, the two latest user-defined exception constraints are:\n",
    "\n",
    "1. `__cause__`: It is an attribute that can be set for an exception instance to capture another exception that caused it. It is used to chain exceptions together.\n",
    "\n",
    "2. `__context__`: It is an attribute that can be set for an exception instance to capture the context in which an exception occurred. It is used to give more information about the exception, such as the line of code where it was raised, and is helpful in debugging."
   ]
  },
  {
   "cell_type": "markdown",
   "id": "675cae77",
   "metadata": {},
   "source": [
    "### Q2. How are class-based exceptions that have been raised matched to handlers?"
   ]
  },
  {
   "cell_type": "markdown",
   "id": "74a378df",
   "metadata": {},
   "source": [
    "In Python, when an exception is raised by a statement, Python interpreter looks for an exception handler to handle the exception. Python matches the raised exception against the exception types specified in the except clauses. \n",
    "\n",
    "If an exception is a class-based exception, it will be matched with the except block that is the same or the superclass of the exception. If the exception is not matched with any of the except blocks, it is propagated to the calling function or to the top level of the Python program if not handled at all. \n",
    "\n",
    "For example, if we define a custom exception class called `MyException` and we raise an instance of this exception, we can handle it as follows:\n",
    "\n",
    "```\n",
    "class MyException(Exception):\n",
    "    pass\n",
    "\n",
    "try:\n",
    "    raise MyException(\"This is a custom exception\")\n",
    "except MyException as e:\n",
    "    print(\"Caught MyException:\", e)\n",
    "except Exception as e:\n",
    "    print(\"Caught Exception:\", e)\n",
    "```\n",
    "\n",
    "In this example, the first except block handles the `MyException` exception because it is the same as the raised exception. The second except block handles all other exceptions. If we raise a different exception that is not a subclass of `MyException`, the second except block will catch it instead."
   ]
  },
  {
   "cell_type": "markdown",
   "id": "8b1c057d",
   "metadata": {},
   "source": [
    "### Q3. Describe two methods for attaching context information to exception artefacts."
   ]
  },
  {
   "cell_type": "markdown",
   "id": "81f5c180",
   "metadata": {},
   "source": [
    "1. Using exception arguments: When raising an exception, you can provide additional information by passing arguments to the exception class. These arguments can be accessed in the exception handler using the args attribute\n",
    "2. Using exception attributes: You can also attach additional information to the exception object by defining attributes on the exception class. These attributes can be accessed in the exception handler using the dot notation. \n"
   ]
  },
  {
   "cell_type": "markdown",
   "id": "a20c89fe",
   "metadata": {},
   "source": [
    "### Q4. Describe two methods for specifying the text of an exception object's error message."
   ]
  },
  {
   "cell_type": "markdown",
   "id": "75d55f1c",
   "metadata": {},
   "source": [
    "1. Using the base class Exception: When raising an exception using the Exception class, you can pass the error message as an argument to the class constructor. \n",
    "2. Defining a custom exception class: You can define your own exception class and specify the error message as a class attribute or as an argument to the class constructor. "
   ]
  },
  {
   "cell_type": "markdown",
   "id": "556d24cc",
   "metadata": {},
   "source": [
    "### Q5. Why do you no longer use string-based exceptions?"
   ]
  },
  {
   "cell_type": "markdown",
   "id": "80d9f248",
   "metadata": {},
   "source": [
    "Lack of consistency: Using strings for exceptions was not consistent with the rest of the Python language, which heavily relies on class hierarchies and object-oriented principles.\n",
    "\n",
    "Typing errors: Since strings were used to specify the exception type, there was a greater likelihood of typing errors, which could lead to bugs that were difficult to find and debug.\n",
    "\n",
    "Lack of flexibility: String-based exceptions lacked the flexibility of class-based exceptions, which could be easily subclassed and customized for specific use cases."
   ]
  }
 ],
 "metadata": {
  "kernelspec": {
   "display_name": "Python 3 (ipykernel)",
   "language": "python",
   "name": "python3"
  },
  "language_info": {
   "codemirror_mode": {
    "name": "ipython",
    "version": 3
   },
   "file_extension": ".py",
   "mimetype": "text/x-python",
   "name": "python",
   "nbconvert_exporter": "python",
   "pygments_lexer": "ipython3",
   "version": "3.10.9"
  }
 },
 "nbformat": 4,
 "nbformat_minor": 5
}

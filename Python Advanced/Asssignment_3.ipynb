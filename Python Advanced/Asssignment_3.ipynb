{
 "cells": [
  {
   "cell_type": "markdown",
   "id": "bebc05ab",
   "metadata": {},
   "source": [
    "### 1. What is the concept of an abstract superclass?"
   ]
  },
  {
   "cell_type": "markdown",
   "id": "c17b52ba",
   "metadata": {},
   "source": [
    "In object-oriented programming, an abstract superclass is a class that is used only as a base for other classes, and is not meant to be instantiated directly. It is often used as a template or blueprint for other classes, providing common functionality or attributes that can be inherited by its subclasses. An abstract superclass can define abstract methods or attributes that must be implemented by its subclasses, but it cannot be instantiated on its own. It serves as a way to organize related classes and enforce a common interface or behavior among them."
   ]
  },
  {
   "cell_type": "markdown",
   "id": "735c0114",
   "metadata": {},
   "source": [
    "### 2. What happens when a class statement's top level contains a basic assignment statement?"
   ]
  },
  {
   "cell_type": "markdown",
   "id": "97f270d0",
   "metadata": {},
   "source": [
    "When a class statement's top level contains a basic assignment statement, it creates a class variable that is shared by all instances of the class. This means that when the value of the variable is changed in one instance, it will affect all other instances of the class. This is because the class variable is stored in the class namespace, which is shared by all instances of the class."
   ]
  },
  {
   "cell_type": "markdown",
   "id": "35cac8c8",
   "metadata": {},
   "source": [
    "### 3. Why does a class need to manually call a superclass's __init__ method?"
   ]
  },
  {
   "cell_type": "markdown",
   "id": "1105dacc",
   "metadata": {},
   "source": [
    "- In Python, a subclass can inherit attributes and methods from its superclass. When a subclass is created, it does not automatically inherit the constructor (__init__) of its superclass. Therefore, if a subclass wants to use the constructor of its superclass, it needs to manually call the constructor of its superclass using the super() function.\n",
    "\n",
    "- The reason why a class needs to manually call a superclass's __init__ method is to ensure that all necessary attributes and methods of the superclass are properly initialized before the subclass starts to use them. This can help avoid errors and ensure proper functioning of the subclass."
   ]
  },
  {
   "cell_type": "markdown",
   "id": "6b031efa",
   "metadata": {},
   "source": [
    "### 4. How can you augment, instead of completely replacing, an inherited method?"
   ]
  },
  {
   "cell_type": "markdown",
   "id": "740a5c16",
   "metadata": {},
   "source": [
    "In Python, we can augment (i.e., add to or modify) an inherited method by calling it from the overriding method in the subclass using the super() function. The super() function returns a temporary object of the superclass, and we can call its methods. We can then add any additional behavior or modifications to the method in the subclass."
   ]
  },
  {
   "cell_type": "markdown",
   "id": "e45a98a6",
   "metadata": {},
   "source": [
    "### 5. How is the local scope of a class different from that of a function?"
   ]
  },
  {
   "cell_type": "markdown",
   "id": "0e356651",
   "metadata": {},
   "source": [
    "- The local scope of a class is different from that of a function in Python. In a function, local variables are defined within the function body and are not accessible outside of the function. In a class, variables defined within the class are accessible within the class and its instances, but not outside of the class unless they are explicitly made public.\n",
    "\n",
    "- When defining a class in Python, you can define variables and methods that are accessible to the class and its instances. These variables and methods are defined within the class body, which is indented under the `class` statement. Within the class body, you can define instance variables, class variables, and methods.\n",
    "\n",
    "- Instance variables are defined using the `self` parameter and are accessible within the instance of the class. Class variables are defined outside of the methods and are shared by all instances of the class. Methods are functions that are defined within the class and can access the class and instance variables.\n",
    "\n",
    "- In contrast, in a function, the local scope is defined by the function's parameters and variables defined within the function body. The variables defined within the function are not accessible outside of the function unless they are returned or assigned to a global variable.\n",
    "\n",
    "- Overall, the local scope of a class is more flexible and complex than that of a function because it includes class variables and methods, as well as instance variables and methods."
   ]
  }
 ],
 "metadata": {
  "kernelspec": {
   "display_name": "Python 3 (ipykernel)",
   "language": "python",
   "name": "python3"
  },
  "language_info": {
   "codemirror_mode": {
    "name": "ipython",
    "version": 3
   },
   "file_extension": ".py",
   "mimetype": "text/x-python",
   "name": "python",
   "nbconvert_exporter": "python",
   "pygments_lexer": "ipython3",
   "version": "3.10.9"
  }
 },
 "nbformat": 4,
 "nbformat_minor": 5
}

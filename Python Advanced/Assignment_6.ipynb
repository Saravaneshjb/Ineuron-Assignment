{
 "cells": [
  {
   "cell_type": "markdown",
   "id": "81e13691",
   "metadata": {},
   "source": [
    "### Q1. Describe three applications for exception processing."
   ]
  },
  {
   "cell_type": "markdown",
   "id": "f666eeb5",
   "metadata": {},
   "source": [
    "Exception processing in Python allows for a more robust and fault-tolerant code by providing a mechanism to handle runtime errors gracefully. Some of the common applications of exception processing in Python are:\n",
    "\n",
    "1. Error handling: Python exception handling allows for the identification and handling of errors that might occur during runtime, such as invalid input or connection failure. This helps prevent the program from crashing and enables it to recover from errors by providing alternate courses of action.\n",
    "\n",
    "2. Debugging: Exception processing can be used to locate errors in code by providing detailed information about the type of error, the line number where the error occurred, and the stack trace leading up to the error. This information can be used to identify the source of the error and fix the code.\n",
    "\n",
    "3. Resource management: Exception processing can also be used to manage resources such as files, network sockets, and database connections by ensuring that they are closed properly even in the event of an error or unexpected termination of the program. This helps prevent resource leaks and other resource-related errors."
   ]
  },
  {
   "cell_type": "markdown",
   "id": "133e2547",
   "metadata": {},
   "source": [
    "### Q2. What happens if you don't do something extra to treat an exception?"
   ]
  },
  {
   "cell_type": "markdown",
   "id": "da3a936d",
   "metadata": {},
   "source": [
    "If an exception is not handled properly, the program terminates and an error message is displayed. This can result in the program behaving unexpectedly, crashing or even causing data loss. Additionally, unhandled exceptions can make it difficult to diagnose and fix the underlying problem that caused the exception to be raised in the first place. It's important to handle exceptions appropriately in order to make programs more robust and reliable."
   ]
  },
  {
   "cell_type": "markdown",
   "id": "dca7bc26",
   "metadata": {},
   "source": [
    "### Q3. What are your options for recovering from an exception in your script?"
   ]
  },
  {
   "cell_type": "markdown",
   "id": "090728e5",
   "metadata": {},
   "source": [
    "When an exception is raised in a Python script, the program flow is interrupted, and the interpreter searches for an exception handler to recover from the error. Here are some options for recovering from an exception in a Python script:\n",
    "\n",
    "1. Catch the exception using a try-except block: The simplest and most common way to handle exceptions in Python is by wrapping code that may raise an exception in a try-except block. The code inside the try block is executed, and if an exception occurs, the interpreter jumps to the except block to handle the error.\n",
    "\n",
    "2. Use a finally block: You can use a finally block in conjunction with a try-except block to ensure that some code is always executed, regardless of whether or not an exception occurs.\n",
    "\n",
    "3. Raise a different exception: In some cases, you may want to catch an exception, perform some additional operations, and then raise a different exception to be handled elsewhere in your code.\n",
    "\n",
    "4. Ignore the exception: While it's generally not recommended, you can choose to ignore an exception by not including any exception handling code in your script. However, this may lead to unexpected behavior or program crashes, so it's important to use this option judiciously.\n",
    "\n",
    "Overall, the goal of exception processing in Python is to gracefully handle errors and recover from them, allowing the program to continue executing without crashing."
   ]
  },
  {
   "cell_type": "markdown",
   "id": "f91edbb8",
   "metadata": {},
   "source": [
    "### Q4. Describe two methods for triggering exceptions in your script."
   ]
  },
  {
   "cell_type": "markdown",
   "id": "8cfdc1b5",
   "metadata": {},
   "source": [
    "1. Raise an exception using the raise statement: You can manually raise an exception in your code by using the raise statement, followed by an exception type and an optional error message. \n",
    "2. Call a function or method that raises an exception: You can also trigger an exception by calling a function or method that is designed to raise one in certain circumstances\n"
   ]
  },
  {
   "cell_type": "markdown",
   "id": "ddebec5a",
   "metadata": {},
   "source": [
    "### Q5. Identify two methods for specifying actions to be executed at termination time, regardless of whether or not an exception exists."
   ]
  },
  {
   "cell_type": "markdown",
   "id": "8fe0c3ef",
   "metadata": {},
   "source": [
    "There are two methods for specifying actions to be executed at termination time, regardless of whether or not an exception exists:\n",
    "\n",
    "1. Finally blocks: The finally block is used to specify a block of code that will be executed no matter what happens. The code inside the finally block will be executed whether an exception is thrown or not, and whether or not an exception is caught.\n",
    "\n",
    "2. Atexit module: The `atexit` module provides a simple interface to register functions to be called when a script is about to exit. These functions are registered using the `atexit.register()` function, and they will be called in reverse order of registration."
   ]
  }
 ],
 "metadata": {
  "kernelspec": {
   "display_name": "Python 3 (ipykernel)",
   "language": "python",
   "name": "python3"
  },
  "language_info": {
   "codemirror_mode": {
    "name": "ipython",
    "version": 3
   },
   "file_extension": ".py",
   "mimetype": "text/x-python",
   "name": "python",
   "nbconvert_exporter": "python",
   "pygments_lexer": "ipython3",
   "version": "3.10.9"
  }
 },
 "nbformat": 4,
 "nbformat_minor": 5
}

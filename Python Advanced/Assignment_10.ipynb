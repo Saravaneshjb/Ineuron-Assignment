{
 "cells": [
  {
   "cell_type": "markdown",
   "id": "dd1a8032",
   "metadata": {},
   "source": [
    "### Q1. What is the difference between __getattr__ and __getattribute__?"
   ]
  },
  {
   "cell_type": "markdown",
   "id": "faed8e59",
   "metadata": {},
   "source": [
    "Both `__getattr__` and `__getattribute__` are special methods in Python classes that are used to intercept attribute access. However, there is a significant difference between them:\n",
    "\n",
    "- `__getattr__` is called only when an attribute is not found through the normal lookup process in an object's instance dictionary and its class. This means that it only intercepts the lookup of attributes that do not exist.\n",
    "- `__getattribute__` is called every time an attribute is accessed, regardless of whether it exists or not. This means that it intercepts all attribute lookups, and is usually used when you want to customize attribute access for an object.\n",
    "\n",
    "In summary, `__getattr__` is a fallback method used when an attribute is not found in the normal way, while `__getattribute__` is a general method used to intercept all attribute access."
   ]
  },
  {
   "cell_type": "markdown",
   "id": "19e7f8ab",
   "metadata": {},
   "source": [
    "### Q2. What is the difference between properties and descriptors?"
   ]
  },
  {
   "cell_type": "markdown",
   "id": "01b53748",
   "metadata": {},
   "source": [
    "Properties and descriptors are two ways to manage attribute access in Python.\n",
    "\n",
    "Properties are a convenient way to manage attribute access for simple cases. They allow you to add custom logic to getting, setting, and deleting attributes, while still exposing them as simple attributes. Properties are defined using the `@property`, `@<attr>.setter`, and `@<attr>.deleter` decorators.\n",
    "\n",
    "Descriptors, on the other hand, are a more powerful mechanism for managing attribute access. They allow you to completely customize the behavior of attribute access, and can be used to implement things like lazy evaluation, type checking, and validation. Descriptors are defined by implementing the `__get__`, `__set__`, and/or `__delete__` methods of a descriptor object, which is then assigned to a class attribute.\n",
    "\n",
    "The main difference between properties and descriptors is that properties are bound to a specific instance of a class, while descriptors are bound to the class itself. This means that properties can have different values for different instances of the same class, while descriptors have a single value that is shared by all instances of the class. Additionally, properties can only be used to manage attributes that are defined on the class itself, while descriptors can be used to manage attributes that are inherited from parent classes."
   ]
  },
  {
   "cell_type": "markdown",
   "id": "c526b366",
   "metadata": {},
   "source": [
    "### Q3. What are the key differences in functionality between __getattr__ and __getattribute__, as well as properties and descriptors?"
   ]
  },
  {
   "cell_type": "markdown",
   "id": "5b328f71",
   "metadata": {},
   "source": [
    "Both `__getattr__` and `__getattribute__` methods are used to handle attribute access in Python classes, but there are some key differences in functionality:\n",
    "\n",
    "- `__getattr__` is only invoked if the requested attribute cannot be found by looking up the object's dictionary, whereas `__getattribute__` is always invoked first for every attribute access. This means that `__getattr__` is only called for attributes that do not actually exist, while `__getattribute__` is called for all attribute access attempts, even if the attribute exists.\n",
    "- `__getattribute__` can be used to customize attribute access in more powerful ways than `__getattr__`. For example, you can use `__getattribute__` to intercept attribute access and redirect it to a different object, or to implement custom behavior based on the name of the accessed attribute.\n",
    "\n",
    "On the other hand, properties and descriptors are both used to customize attribute access by defining methods that are called when an attribute is accessed or assigned to. However, there are some differences in functionality:\n",
    "\n",
    "- Properties are a simple way to define read-only or write-only attributes, or to add additional behavior to an attribute. They are implemented using the `@property`, `@<attribute>.setter`, and `@<attribute>.deleter` decorators, which define methods that are called when the attribute is accessed or assigned to.\n",
    "- Descriptors are a more powerful way to customize attribute access, since they allow you to define your own custom objects that can be used to replace attribute access for any object that uses them. Descriptors are defined by creating a class with methods that define how attribute access should be handled, and then attaching an instance of that class to a class or instance attribute."
   ]
  }
 ],
 "metadata": {
  "kernelspec": {
   "display_name": "Python 3 (ipykernel)",
   "language": "python",
   "name": "python3"
  },
  "language_info": {
   "codemirror_mode": {
    "name": "ipython",
    "version": 3
   },
   "file_extension": ".py",
   "mimetype": "text/x-python",
   "name": "python",
   "nbconvert_exporter": "python",
   "pygments_lexer": "ipython3",
   "version": "3.10.9"
  }
 },
 "nbformat": 4,
 "nbformat_minor": 5
}

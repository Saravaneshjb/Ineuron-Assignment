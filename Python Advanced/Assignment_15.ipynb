{
 "cells": [
  {
   "cell_type": "markdown",
   "id": "8bd731ef",
   "metadata": {},
   "source": [
    "### 1.\tWhat are the new features added in Python 3.8 version?"
   ]
  },
  {
   "cell_type": "markdown",
   "id": "5649e6ef",
   "metadata": {},
   "source": [
    "Python 3.8 was released on October 14, 2019, with several new features and optimizations. Some of the new features added in Python 3.8 version are:\n",
    "\n",
    "1. Assignment Expressions (the walrus operator): This operator (:=) allows assigning a value to a variable as part of an expression. It can be used in various ways, including to improve readability and to eliminate unnecessary computations.\n",
    "\n",
    "2. Positional-only parameters: Python 3.8 introduced the support for positional-only parameters in function definitions. With this feature, you can force function arguments to be passed only by position, not by keyword.\n",
    "\n",
    "3. f-strings now support = for self-documenting expressions and debugging: In Python 3.8, f-strings (formatted string literals) gained a new feature where you can use the = symbol inside the braces to display the result of an expression and its corresponding value, which can be useful for debugging.\n",
    "\n",
    "4. Performance improvements: Several performance improvements were made in Python 3.8, including faster function calls, optimized built-in functions, and a faster parser.\n",
    "\n",
    "5. New modules: Python 3.8 added several new modules, including the `importlib.metadata` module for querying distribution metadata and the `typing_extensions` module for extending the capabilities of Python's typing module.\n",
    "\n",
    "6. Unicode Improvements: Python 3.8 introduced several improvements related to Unicode handling, including faster encoding and decoding of Unicode text and more accurate error reporting.\n",
    "\n",
    "7. New syntax for `try`-`except` blocks: Python 3.8 introduced a new syntax for `try`-`except` blocks that allows specifying multiple exceptions in a single `except` block.\n",
    "\n",
    "These are just a few of the new features added in Python 3.8."
   ]
  },
  {
   "cell_type": "markdown",
   "id": "bb0df886",
   "metadata": {},
   "source": [
    "### 2.\tWhat is monkey patching in Python?"
   ]
  },
  {
   "cell_type": "markdown",
   "id": "5d302710",
   "metadata": {},
   "source": [
    "Monkey patching in Python refers to the technique of modifying the behavior of a module or class at runtime by overriding or adding attributes or methods to it. This technique can be useful when the original source code is not available or cannot be modified, or when a quick fix is needed without going through the process of creating a new patch release. However, monkey patching can make code hard to understand and maintain, and can introduce unexpected bugs, so it should be used with caution."
   ]
  },
  {
   "cell_type": "markdown",
   "id": "600e535f",
   "metadata": {},
   "source": [
    "### 3.\tWhat is the difference between a shallow copy and deep copy?"
   ]
  },
  {
   "cell_type": "markdown",
   "id": "b5a1bad9",
   "metadata": {},
   "source": [
    "In Python, when a copy of a mutable object is made, there are two types of copies that can be performed: a shallow copy and a deep copy.\n",
    "\n",
    "A shallow copy creates a new object but fills it with references to the same objects as the original. It means that any changes made to the objects in the copy will also affect the original. In Python, you can create a shallow copy using the slice operator or the built-in copy() method.\n",
    "\n",
    "A deep copy, on the other hand, creates a new object and recursively copies all objects in the original object. It means that the new object is completely independent of the original object, and changes made to it will not affect the original. In Python, you can create a deep copy using the copy.deepcopy() method. \n",
    "\n",
    "Here is an example to demonstrate the difference:\n",
    "\n",
    "```\n",
    "import copy\n",
    "\n",
    "original_list = [[1, 2], [3, 4]]\n",
    "shallow_copy = original_list[:]\n",
    "deep_copy = copy.deepcopy(original_list)\n",
    "\n",
    "original_list[0][1] = 5\n",
    "\n",
    "print(\"Original list:\", original_list)   # [[1, 5], [3, 4]]\n",
    "print(\"Shallow copy:\", shallow_copy)     # [[1, 5], [3, 4]]\n",
    "print(\"Deep copy:\", deep_copy)           # [[1, 2], [3, 4]]\n",
    "```\n",
    "\n",
    "As we can see from the example, the shallow copy and the original list both have the same values after we modify an element of the original list. However, the deep copy remains unchanged, as it is a completely independent copy of the original list."
   ]
  },
  {
   "cell_type": "markdown",
   "id": "23161121",
   "metadata": {},
   "source": [
    "### 4.\tWhat is the maximum possible length of an identifier?"
   ]
  },
  {
   "cell_type": "markdown",
   "id": "0588eab5",
   "metadata": {},
   "source": [
    "In Python, the maximum length of an identifier is not explicitly defined. However, the practical limit is determined by the maximum size of a string object that can be created by the system. This limit can vary based on the available memory and other system-specific factors."
   ]
  },
  {
   "cell_type": "markdown",
   "id": "113d5197",
   "metadata": {},
   "source": [
    "### 5.\tWhat is generator comprehension?"
   ]
  },
  {
   "cell_type": "markdown",
   "id": "c19dc88f",
   "metadata": {},
   "source": [
    "Generator comprehension is a concise way to create a generator in Python using a single line of code. It is similar to list comprehension, but instead of creating a list, it creates a generator object. \n",
    "\n",
    "The syntax for generator comprehension is similar to list comprehension, with the only difference being the use of parentheses instead of brackets. For example, the following code creates a generator object that generates squares of numbers from 0 to 9:\n",
    "\n",
    "```\n",
    "gen = (x**2 for x in range(10))\n",
    "```\n",
    "\n",
    "This creates a generator object `gen` that generates squares of numbers from 0 to 9. You can use the `next()` function to iterate through the generator object and get the next value. For example:\n",
    "\n",
    "```\n",
    "print(next(gen))  # prints 0\n",
    "print(next(gen))  # prints 1\n",
    "print(next(gen))  # prints 4\n",
    "```\n",
    "\n",
    "Generator comprehension is useful when you need to generate a large sequence of values that you don't want to store in memory all at once. Since a generator generates values on-the-fly, it can be more memory-efficient than creating a list."
   ]
  }
 ],
 "metadata": {
  "kernelspec": {
   "display_name": "Python 3 (ipykernel)",
   "language": "python",
   "name": "python3"
  },
  "language_info": {
   "codemirror_mode": {
    "name": "ipython",
    "version": 3
   },
   "file_extension": ".py",
   "mimetype": "text/x-python",
   "name": "python",
   "nbconvert_exporter": "python",
   "pygments_lexer": "ipython3",
   "version": "3.10.9"
  }
 },
 "nbformat": 4,
 "nbformat_minor": 5
}

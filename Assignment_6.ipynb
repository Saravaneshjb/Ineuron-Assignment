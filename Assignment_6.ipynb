{
 "cells": [
  {
   "cell_type": "markdown",
   "metadata": {},
   "source": [
    "**1. What are escape characters, and how do you use them?\n",
    "- Escape character is used when we need to any pharse / symbol in a pharse to represent something else. \n",
    "- '\\' - Any value passed after backslash is considered is an escape character. \n",
    "- Different escape characters are below and its uses \n",
    "\n",
    "|escape character | Use |\n",
    "|---|---|\n",
    "|\\' | Omits the single quote after the backslash |\n",
    "|\\n | Moves the cursor to the next line |\n",
    "|\\r | Moves the cursor to the start of same line |\n",
    "|\\t | Includes a space between the text before and after |\n",
    "|\\b | Removes the character just before its position |"
   ]
  },
  {
   "cell_type": "markdown",
   "metadata": {},
   "source": [
    "**2. What do the escape characters n and t stand for?\n",
    "- Its already explained in the above table "
   ]
  },
  {
   "cell_type": "markdown",
   "metadata": {},
   "source": [
    "**3. What is the way to include backslash characters in a string?\n",
    "- If we need to include backslash character ('\\') itself in the string then they can be presented like below. \n",
    "- print('Include the backslash \\\\') => Output would be => Include the backslash \\"
   ]
  },
  {
   "cell_type": "markdown",
   "metadata": {},
   "source": [
    "**4. The string \"Howl's Moving Castle\" is a correct value. Why isn't the single quote character in the word Howl's not escaped a problem?\n",
    "- Its because its the whole phrase is enclosed within double quotes (i.e.) \"\" hence we need not specifically escape the single quote '. \n",
    "- This would have throwed an error if the phrase was 'Howl's Moving Castle'. Then we should have escaped the character as \"Howl\\'s Moving Castle\""
   ]
  },
  {
   "cell_type": "markdown",
   "metadata": {},
   "source": [
    "**5. How do you write a string of newlines if you don't want to use the n character?\n",
    "- by default the print statement appends '\\n' at the end for each print statement it need not be included each time\n",
    "- If we dont need it we can pass any character that we need like end = \"\", \n",
    "\n",
    "example : \n",
    "\n",
    "```python\n",
    "for i in range(5):\n",
    "    print(i)\n",
    "```\n",
    "Output : \n",
    "- 0\n",
    "- 1\n",
    "- 2\n",
    "- 3\n",
    "- 4\n",
    "\n",
    "\n",
    "```python\n",
    "for i in range(5):\n",
    "    print(i,end = \" \")\n",
    "```\n",
    "\n",
    "Output : 0 1 2 3 4"
   ]
  },
  {
   "cell_type": "markdown",
   "metadata": {},
   "source": [
    "**6. What are the values of the given expressions?\n",
    "- 'Hello, world!'[1]  - e\n",
    "- 'Hello, world!'[0:5] - Hello\n",
    "- 'Hello, world!'[:5] -  Hello\n",
    "- 'Hello, world!'[3:] - lo, world!"
   ]
  },
  {
   "cell_type": "markdown",
   "metadata": {},
   "source": [
    "**7. What are the values of the following expressions?\n",
    "\n",
    "- 'Hello'.upper() - 'HELLO'\n",
    "- 'Hello'.upper().isupper() - True\n",
    "- 'Hello'.upper().lower() - 'hello'"
   ]
  },
  {
   "cell_type": "markdown",
   "metadata": {},
   "source": [
    "**8. What are the values of the following expressions?\n",
    "- 'Remember, remember, the fifth of July.'.split() - ['Remember,', 'remember,', 'the', 'fifth', 'of', 'July.']\n",
    "- '-'.join('There can only one.'.split()) - 'There-can-only-one.'"
   ]
  },
  {
   "cell_type": "markdown",
   "metadata": {},
   "source": [
    "**9. What are the methods for right-justifying, left-justifying, and centering a string?\n",
    "- ljust() - It is the function used to left justify a string\n",
    "Usage - 'Saravanesh'.ljust(20,'%') - output - 'Saravanesh%%%%%%%%%%'\n",
    "- rjust() - It is a function used to right justify a string \n",
    "Usage - 'Saravanesh'.rjust(20,'%') - output - '%%%%%%%%%%Saravanesh'\n",
    "- center() - It is a function used to center justify the string \n",
    "Usage  - 'Saravanesh'.center(20,'%') - output - '%%%%%Saravanesh%%%%%'"
   ]
  },
  {
   "cell_type": "markdown",
   "metadata": {},
   "source": [
    "**10. What is the best way to remove whitespace characters from the start or end?\n",
    "- lstrip() - This function is used to remove the leading whitespaces\n",
    "- rstrip() - This function is used to remove the trailing whilespaces"
   ]
  }
 ],
 "metadata": {
  "kernelspec": {
   "display_name": "Python 3",
   "language": "python",
   "name": "python3"
  },
  "language_info": {
   "codemirror_mode": {
    "name": "ipython",
    "version": 3
   },
   "file_extension": ".py",
   "mimetype": "text/x-python",
   "name": "python",
   "nbconvert_exporter": "python",
   "pygments_lexer": "ipython3",
   "version": "3.8.5"
  }
 },
 "nbformat": 4,
 "nbformat_minor": 4
}

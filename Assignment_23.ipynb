{
 "cells": [
  {
   "cell_type": "markdown",
   "metadata": {},
   "source": [
    "1. What is the result of the code, and why?\n",
    "\n",
    "```python\n",
    ">>> def func(a, b=6, c=8):\n",
    "    print(a, b, c)\n",
    ">>> func(1, 2)\n",
    "```"
   ]
  },
  {
   "cell_type": "raw",
   "metadata": {},
   "source": [
    "# Output would be 1 2 8\n",
    "# Reason : while calling the function we are passing two arguments (1,2)\n",
    "# Here 1 would be assigned to parameter a & 2 would be overriden and assigned to the value b\n",
    "# So the final output would be 1 2 8"
   ]
  },
  {
   "cell_type": "markdown",
   "metadata": {},
   "source": [
    "2. What is the result of this code, and why?\n",
    "\n",
    "```python\n",
    ">>> def func(a, b, c=5):\n",
    "        print(a, b, c)\n",
    ">>> func(1, c=3, b=2)\n",
    "```"
   ]
  },
  {
   "cell_type": "raw",
   "metadata": {},
   "source": [
    "# Output : 1 2 3\n",
    "# Reason : a is assigned value 1, b is assigned value 2 and c is assigned value 3 as per the function call. \n",
    "# The print statement in the function would print a b c in order hence the output 1 2 3"
   ]
  },
  {
   "cell_type": "markdown",
   "metadata": {},
   "source": [
    "3. How about this code: what is its result, and why?\n",
    "\n",
    "```python \n",
    ">>> def func(a, *pargs):\n",
    "        print(a, pargs)\n",
    ">>> func(1, 2, 3)\n",
    "```\n"
   ]
  },
  {
   "cell_type": "raw",
   "metadata": {},
   "source": [
    "#The output would be : 1 (2,3)\n",
    "#Reason for output : In the function definition we are using an single argument and another special type of argument\n",
    "#So, here a is assigned with value 1 and (2,3) is assigned to pargs"
   ]
  },
  {
   "cell_type": "markdown",
   "metadata": {},
   "source": [
    "4. What does this code print, and why?\n",
    "\n",
    "```python\n",
    ">>> def func(a, **kargs):\n",
    "        print(a, kargs)\n",
    ">>> func(a=1, c=3, b=2)\n",
    "```\n"
   ]
  },
  {
   "cell_type": "raw",
   "metadata": {},
   "source": [
    "# The output would be 1 {'c' : 3, 'b' : 2}\n",
    "# Here we are using a single argument and keyword argument to get the input\n",
    "# Hence the values returned are 1 which is assigned to first parameter/argument \n",
    "# The second and third are assigned to values b & c in a dictionary"
   ]
  },
  {
   "cell_type": "markdown",
   "metadata": {},
   "source": [
    "5. What gets printed by this, and explain?\n",
    "\n",
    "```python\n",
    ">>> def func(a, b, c=8, d=5): \n",
    "        print(a, b, c, d)\n",
    ">>> func(1, *(5, 6))\n",
    "```"
   ]
  },
  {
   "cell_type": "raw",
   "metadata": {},
   "source": [
    "#The output would be 1 5 6 5\n",
    "#The 1 matches a by position,\n",
    "#5 and 6 match b and c by *name positional (6 overrides c’s default),\n",
    "#d defaults to 4 because it was not passed a value."
   ]
  },
  {
   "cell_type": "markdown",
   "metadata": {},
   "source": [
    "6. what is the result of this, and explain?\n",
    "\n",
    "```python\n",
    ">>> def func(a, b, c): a = 2; b[0] = 'x'; c['a'] = 'y'\n",
    ">>> l=1; m=[1]; n={'a':0}\n",
    ">>> func(l, m, n)\n",
    ">>> l, m, n\n",
    "```"
   ]
  },
  {
   "cell_type": "raw",
   "metadata": {},
   "source": [
    "# Result is 1 ['x'] {'a':'y'}\n",
    "# Reason we are calling the func and assigning a value 1 to l which is being passed to a. This is overriden inside the function as 2 but when we are printing wea re still printing l hence the value 1. \n",
    "# Next for m, the value defined is a list with one value, inside the function its assigned to b where the value at 0th position is set to 'x' hence the value of m is changed as ['x'], since we have not created a copy of the listy both the list m and b are same. \n",
    "# value of n is a dictionary with key 'a' and value 10. This dictionary is being re-assigned as 'y'. The logic of list applies here too hence both the n and c are same."
   ]
  }
 ],
 "metadata": {
  "kernelspec": {
   "display_name": "Python 3",
   "language": "python",
   "name": "python3"
  },
  "language_info": {
   "codemirror_mode": {
    "name": "ipython",
    "version": 3
   },
   "file_extension": ".py",
   "mimetype": "text/x-python",
   "name": "python",
   "nbconvert_exporter": "python",
   "pygments_lexer": "ipython3",
   "version": "3.8.5"
  }
 },
 "nbformat": 4,
 "nbformat_minor": 4
}

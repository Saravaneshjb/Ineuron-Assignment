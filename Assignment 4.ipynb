{
 "cells": [
  {
   "cell_type": "markdown",
   "metadata": {},
   "source": [
    "### 1.1 Write a Python Program(with class concepts) to find the area of the triangle using the below formula.\n",
    "### area = (s*(s-a)*(s-b)*(s-c)) ** 0.5\n",
    "### Function to take the length of the sides of triangle from user should be defined in the parent\n",
    "### class and function to calculate the area should be defined in subclass."
   ]
  },
  {
   "cell_type": "code",
   "execution_count": 6,
   "metadata": {},
   "outputs": [
    {
     "name": "stdout",
     "output_type": "stream",
     "text": [
      "a6\n",
      "b5\n",
      "c6\n"
     ]
    }
   ],
   "source": [
    "class length_of_sides:\n",
    "    def __init__(self,a,b,c):\n",
    "        self.a=float(a)\n",
    "        self.b=float(b)\n",
    "        self.c=float(c)\n",
    "a=int(input('a'))\n",
    "b=int(input('b'))\n",
    "c=int(input('c'))\n",
    "\n",
    "class area(length_of_sides):\n",
    "    def __init__(self,a,b,c):\n",
    "        super().__init__(a,b,c)\n",
    "    \n",
    "    def get_area(self):\n",
    "        s=(a+b+c)/2\n",
    "        return (s*(s-a)*(s-b)*(s-c)) ** 0.5"
   ]
  },
  {
   "cell_type": "code",
   "execution_count": 7,
   "metadata": {
    "scrolled": true
   },
   "outputs": [
    {
     "data": {
      "text/plain": [
       "13.635890143294644"
      ]
     },
     "execution_count": 7,
     "metadata": {},
     "output_type": "execute_result"
    }
   ],
   "source": [
    "l=area(a,b,c)\n",
    "l.get_area()"
   ]
  },
  {
   "cell_type": "markdown",
   "metadata": {},
   "source": [
    "### 1.2 Write a function filter_long_words() that takes a list of words and an integer n and returns\n",
    "### the list of words that are longer than n."
   ]
  },
  {
   "cell_type": "code",
   "execution_count": 8,
   "metadata": {},
   "outputs": [],
   "source": [
    "#First defining the list of words & the integer n\n",
    "lst=['apple','ball','cat','donkey','elephant']\n",
    "n=5"
   ]
  },
  {
   "cell_type": "code",
   "execution_count": 11,
   "metadata": {},
   "outputs": [],
   "source": [
    "def filter_long_words(lst,n):\n",
    "    lst1=[]\n",
    "    for i in range(len(lst)):\n",
    "        if len(lst[i])>n:\n",
    "            lst1.append(lst[i])\n",
    "    print('The list of words that have length greater than', n)\n",
    "    return lst1"
   ]
  },
  {
   "cell_type": "code",
   "execution_count": 12,
   "metadata": {},
   "outputs": [
    {
     "name": "stdout",
     "output_type": "stream",
     "text": [
      "The list of words that have length greater than 5\n"
     ]
    },
    {
     "data": {
      "text/plain": [
       "['donkey', 'elephant']"
      ]
     },
     "execution_count": 12,
     "metadata": {},
     "output_type": "execute_result"
    }
   ],
   "source": [
    "filter_long_words(lst,n)"
   ]
  },
  {
   "cell_type": "markdown",
   "metadata": {},
   "source": [
    "### 2.1 Write a Python program using function concept that maps list of words into a list of integers\n",
    "### representing the lengths of the corresponding words.\n",
    "### Hint: If a list [ ab,cde,erty] is passed on to the python function output should come as [2,3,4]\n",
    "### Here 2,3 and 4 are the lengths of the words in the list."
   ]
  },
  {
   "cell_type": "code",
   "execution_count": 19,
   "metadata": {},
   "outputs": [],
   "source": [
    "#Defining the list of words\n",
    "lst=['ab','cde','erty','dsfsfege','nbdifbdifbdfid','sdscs']"
   ]
  },
  {
   "cell_type": "code",
   "execution_count": 23,
   "metadata": {},
   "outputs": [],
   "source": [
    "def len_of_words(lst):\n",
    "    lst1=[]\n",
    "    for i in range(len(lst)):\n",
    "        j=len(lst[i])\n",
    "        lst1.append(j)\n",
    "    print('List of words passed inside the function :',lst)\n",
    "    print('Their corresponding lengths are below :')\n",
    "    return lst1"
   ]
  },
  {
   "cell_type": "code",
   "execution_count": 24,
   "metadata": {
    "scrolled": true
   },
   "outputs": [
    {
     "name": "stdout",
     "output_type": "stream",
     "text": [
      "List of words passed inside the function : ['ab', 'cde', 'erty', 'dsfsfege', 'nbdifbdifbdfid', 'sdscs']\n",
      "Their corresponding lengths are below :\n"
     ]
    },
    {
     "data": {
      "text/plain": [
       "[2, 3, 4, 8, 14, 5]"
      ]
     },
     "execution_count": 24,
     "metadata": {},
     "output_type": "execute_result"
    }
   ],
   "source": [
    "len_of_words(lst)"
   ]
  },
  {
   "cell_type": "markdown",
   "metadata": {},
   "source": [
    "### 2.2 Write a Python function which takes a character (i.e. a string of length 1) and returns True if\n",
    "### it is a vowel, False otherwise."
   ]
  },
  {
   "cell_type": "code",
   "execution_count": 36,
   "metadata": {},
   "outputs": [],
   "source": [
    "def vowel(s):\n",
    "    ls=['a','e','i','o','u']\n",
    "    for i in range(len(ls)):\n",
    "        if (ls[i]==s):\n",
    "            print('True',s,'is a vowel')\n",
    "            break\n",
    "    else:\n",
    "        print('False',s,'is not a vowel')"
   ]
  },
  {
   "cell_type": "code",
   "execution_count": 44,
   "metadata": {
    "scrolled": true
   },
   "outputs": [
    {
     "name": "stdout",
     "output_type": "stream",
     "text": [
      "True u is a vowel\n"
     ]
    }
   ],
   "source": [
    "vowel('u')"
   ]
  },
  {
   "cell_type": "code",
   "execution_count": 45,
   "metadata": {
    "scrolled": true
   },
   "outputs": [
    {
     "name": "stdout",
     "output_type": "stream",
     "text": [
      "False x is not a vowel\n"
     ]
    }
   ],
   "source": [
    "vowel('x')"
   ]
  }
 ],
 "metadata": {
  "kernelspec": {
   "display_name": "Python 3",
   "language": "python",
   "name": "python3"
  },
  "language_info": {
   "codemirror_mode": {
    "name": "ipython",
    "version": 3
   },
   "file_extension": ".py",
   "mimetype": "text/x-python",
   "name": "python",
   "nbconvert_exporter": "python",
   "pygments_lexer": "ipython3",
   "version": "3.7.4"
  }
 },
 "nbformat": 4,
 "nbformat_minor": 2
}

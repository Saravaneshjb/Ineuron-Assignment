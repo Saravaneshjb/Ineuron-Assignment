{
 "cells": [
  {
   "cell_type": "markdown",
   "metadata": {},
   "source": [
    "**1. What are the two values of Boolean datatype ? How do you write them?\n",
    "\n",
    "Ans : \n",
    "- The two values of boolean datatype are True and False.\n",
    "- True is presented by 1 and False is presented by 0. "
   ]
  },
  {
   "cell_type": "markdown",
   "metadata": {},
   "source": [
    "**2. What are the three different types of Boolean operators ?\n",
    "\n",
    "Ans: \n",
    "1. and\n",
    "2. or \n",
    "3. not "
   ]
  },
  {
   "cell_type": "markdown",
   "metadata": {},
   "source": [
    "**3. Make a list of Boolean operator truth table (i.e.) every possible combination of Boolean values for the operator and what it evaluates."
   ]
  },
  {
   "cell_type": "markdown",
   "metadata": {},
   "source": [
    "## And Operator \n",
    "\n",
    "| Bool value1 | Operator | Bool value 2 | Result |\n",
    "| --- | --- | --- | --- |\n",
    "| True | and | True | True |\n",
    "| True | and | False| False|\n",
    "| False| and | True | False|\n",
    "| False| and | False| False|"
   ]
  },
  {
   "cell_type": "markdown",
   "metadata": {},
   "source": [
    "## Or Operator \n",
    "\n",
    "| Bool value1 | Operator | Bool value 2 | Result |\n",
    "| --- | --- |--- | --- |\n",
    "| True | or | True | True |\n",
    "| True | or | False| True |\n",
    "| False| or | True | True |\n",
    "| False| or | False| False|"
   ]
  },
  {
   "cell_type": "markdown",
   "metadata": {},
   "source": [
    "## Not Operator \n",
    "\n",
    "| Bool value | Operator | Result |\n",
    "| --- | --- | --- |\n",
    "| True | not | False |\n",
    "| False| not | True |"
   ]
  },
  {
   "cell_type": "markdown",
   "metadata": {},
   "source": [
    "**4. What are the values of the following expressions?\n",
    "\n",
    "- (5 > 4) and (3 == 5) - False \n",
    "- not (5 > 4) - False \n",
    "- (5 > 4) or (3 == 5) - True\n",
    "- not ((5 > 4) or (3 == 5)) - False\n",
    "- (True and True) and (True == False) - False \n",
    "- (not False) or (not True) - True\n"
   ]
  },
  {
   "cell_type": "markdown",
   "metadata": {},
   "source": [
    "**5. What are the six comparison operators?"
   ]
  },
  {
   "cell_type": "markdown",
   "metadata": {},
   "source": [
    "- $<$  - Less than\n",
    "- $>$  - Greater than\n",
    "- $<=$ - Less than & equal to\n",
    "- $>=$ - Greater than & equal to\n",
    "- $!=$ - Not equal to\n",
    "- $==$ - equal to"
   ]
  },
  {
   "cell_type": "markdown",
   "metadata": {},
   "source": [
    "**6. How do you tell the difference between the equal to and assignment operators?Describe a condition and when you would use one."
   ]
  },
  {
   "cell_type": "markdown",
   "metadata": {},
   "source": [
    "- Following is an assignment operation \n",
    "  - a = 10\n",
    "  - b = 10 \n",
    "  - Here we are assigning a value 10 to the variables a & b with the operator \"=\"\n",
    "    \n",
    "- Equal to operator(\"==\") checks if the value on left hand side and right hand side and returns a boolean output as True if they\n",
    "  are same else a False is returned.\n",
    "  - Eg: a == b , will return True because both have the same value 10 stored. "
   ]
  },
  {
   "cell_type": "markdown",
   "metadata": {},
   "source": [
    "**7. Identify the three blocks in this code:\n",
    "\n",
    "```python\n",
    "spam = 0\n",
    "if spam == 10:\n",
    "    print('eggs')\n",
    "if spam > 5:\n",
    "    print('bacon')\n",
    "else:\n",
    "    print('ham')\n",
    "    print('spam')\n",
    "    print('spam')\n",
    "```\n",
    "\n",
    "Ans:\n",
    "- Here we are checking the value of the variable \"spam\" with different if-else condition. \n",
    "- Block 1 is first if condition where spam is checked against the value 10. \n",
    "- Block 2 is second if condition where spam is checked if its greater than 5\n",
    "- Block 3 is the else condition which will be executed if the spam value does not satisfy any of the above two values."
   ]
  },
  {
   "cell_type": "markdown",
   "metadata": {},
   "source": [
    "**8. Write code that prints Hello if 1 is stored in spam, prints Howdy if 2 is stored in spam, and prints Greetings! if anything else is stored in spam."
   ]
  },
  {
   "cell_type": "code",
   "execution_count": 19,
   "metadata": {},
   "outputs": [
    {
     "name": "stdout",
     "output_type": "stream",
     "text": [
      "Enter a value for spam :10\n",
      "Greetings\n"
     ]
    }
   ],
   "source": [
    "spam = int(input(\"Enter a value for spam :\"))\n",
    "if spam == 1:\n",
    "    print(\"Hello\")\n",
    "elif spam == 2:\n",
    "    print(\"Howdy\")\n",
    "else:\n",
    "    print(\"Greetings\")"
   ]
  },
  {
   "cell_type": "code",
   "execution_count": 20,
   "metadata": {},
   "outputs": [
    {
     "name": "stdout",
     "output_type": "stream",
     "text": [
      "Enter a value for spam :1\n",
      "Hello\n"
     ]
    }
   ],
   "source": [
    "spam = int(input(\"Enter a value for spam :\"))\n",
    "if spam == 1:\n",
    "    print(\"Hello\")\n",
    "elif spam == 2:\n",
    "    print(\"Howdy\")\n",
    "else:\n",
    "    print(\"Greetings\")"
   ]
  },
  {
   "cell_type": "code",
   "execution_count": 24,
   "metadata": {},
   "outputs": [
    {
     "name": "stdout",
     "output_type": "stream",
     "text": [
      "Enter a value for spam :2\n",
      "Howdy\n"
     ]
    }
   ],
   "source": [
    "spam = int(input(\"Enter a value for spam :\"))\n",
    "if spam == 1:\n",
    "    print(\"Hello\")\n",
    "elif spam == 2:\n",
    "    print(\"Howdy\")\n",
    "else:\n",
    "    print(\"Greetings\")"
   ]
  },
  {
   "cell_type": "markdown",
   "metadata": {},
   "source": [
    "**9.If your programme is stuck in an endless loop, what keys you’ll press?\n",
    "\n",
    "- Ctrl + c"
   ]
  },
  {
   "cell_type": "markdown",
   "metadata": {},
   "source": [
    "10. How can you tell the difference between break and continue?\n",
    "\n",
    "| Break | Continue |\n",
    "| --- | --- | \n",
    "| It abruptly stops the process and exits out of the program if a set condition is met| Continue does not stop the process but rather it skips the value once the condition is met|\n",
    "| Eg: In the below for loop statement the break statement exits out of the loop once the condition i==5 is met, it does not process the data any further. | In the below example once the condition i==5 is met it has skipped only the value 5 and printed all the remaining values from the range provided. |\n"
   ]
  },
  {
   "cell_type": "code",
   "execution_count": 26,
   "metadata": {},
   "outputs": [
    {
     "name": "stdout",
     "output_type": "stream",
     "text": [
      "0\n",
      "1\n",
      "2\n",
      "3\n",
      "4\n"
     ]
    }
   ],
   "source": [
    "# Example for break statement \n",
    "\n",
    "for i in range(10):\n",
    "    if i==5:\n",
    "        break\n",
    "    else:\n",
    "        print(i)"
   ]
  },
  {
   "cell_type": "code",
   "execution_count": 27,
   "metadata": {},
   "outputs": [
    {
     "name": "stdout",
     "output_type": "stream",
     "text": [
      "0\n",
      "1\n",
      "2\n",
      "3\n",
      "4\n",
      "6\n",
      "7\n",
      "8\n",
      "9\n"
     ]
    }
   ],
   "source": [
    "# Example for continue statement \n",
    "\n",
    "for i in range(10):\n",
    "    if i==5:\n",
    "        continue\n",
    "    else:\n",
    "        print(i)"
   ]
  },
  {
   "cell_type": "markdown",
   "metadata": {},
   "source": [
    "**11. In a for loop, what is the difference between range(10), range(0, 10), and range(0, 10, 1)?"
   ]
  },
  {
   "cell_type": "markdown",
   "metadata": {},
   "source": [
    "|range(10)|range(0,10)|range(0,10,1)|\n",
    "| --- | --- | --- |\n",
    "| Returns an object with intergers ranging from 0 to 9 | Returns an object with intergers ranging from 0 to 9 | Returns an object with intergers ranging from 0 to 9 |\n",
    "| In this case we have provided only the stop value. So by default the integer starts from 0 goes until 9| In this case the start and stop value is provided so the range starts from 0 goes until 9 | Here the start, stop and step size is provided (i.e.) 1 which means each integer will have 1 number interval which is by default. So, it would also provide range of integers from 0 to 9 |"
   ]
  },
  {
   "cell_type": "markdown",
   "metadata": {},
   "source": [
    "**12. Write a short program that prints the numbers 1 to 10 using a for loop. Then write an equivalent program that prints the numbers 1 to 10 using a while loop."
   ]
  },
  {
   "cell_type": "code",
   "execution_count": 35,
   "metadata": {},
   "outputs": [
    {
     "name": "stdout",
     "output_type": "stream",
     "text": [
      "1\n",
      "2\n",
      "3\n",
      "4\n",
      "5\n",
      "6\n",
      "7\n",
      "8\n",
      "9\n",
      "10\n"
     ]
    }
   ],
   "source": [
    "for num in range(1,11):\n",
    "    print(num)"
   ]
  },
  {
   "cell_type": "code",
   "execution_count": 36,
   "metadata": {},
   "outputs": [
    {
     "name": "stdout",
     "output_type": "stream",
     "text": [
      "1\n",
      "2\n",
      "3\n",
      "4\n",
      "5\n",
      "6\n",
      "7\n",
      "8\n",
      "9\n",
      "10\n"
     ]
    }
   ],
   "source": [
    "i = 1\n",
    "while i<=10:\n",
    "    print(i)\n",
    "    i = i + 1"
   ]
  },
  {
   "cell_type": "markdown",
   "metadata": {},
   "source": [
    "**13. If you had a function named bacon() inside a module named spam, how would you call it after importing spam?"
   ]
  },
  {
   "cell_type": "markdown",
   "metadata": {},
   "source": [
    "```python\n",
    "import spam  # first import the module spam.\n",
    "spam.bacon() # call the function inside the module. \n",
    "```"
   ]
  }
 ],
 "metadata": {
  "kernelspec": {
   "display_name": "Python 3",
   "language": "python",
   "name": "python3"
  },
  "language_info": {
   "codemirror_mode": {
    "name": "ipython",
    "version": 3
   },
   "file_extension": ".py",
   "mimetype": "text/x-python",
   "name": "python",
   "nbconvert_exporter": "python",
   "pygments_lexer": "ipython3",
   "version": "3.8.5"
  }
 },
 "nbformat": 4,
 "nbformat_minor": 4
}

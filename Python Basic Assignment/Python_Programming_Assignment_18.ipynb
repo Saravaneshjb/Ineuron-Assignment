{
 "cells": [
  {
   "cell_type": "markdown",
   "id": "1ed3d935",
   "metadata": {},
   "source": [
    "Question 1\n",
    "\n",
    "Create a function that takes a list of non-negative integers and strings and return a new list without the strings.\n",
    "Examples\n",
    "\n",
    "filter_list([1, 2, \"a\", \"b\"]) ➞ [1, 2]\n",
    "\n",
    "filter_list([1, \"a\", \"b\", 0, 15]) ➞ [1, 0, 15]\n",
    "\n",
    "filter_list([1, 2, \"aasf\", \"1\", \"123\", 123]) ➞ [1, 2, 123]\n"
   ]
  },
  {
   "cell_type": "code",
   "execution_count": 9,
   "id": "84e858c7",
   "metadata": {},
   "outputs": [],
   "source": [
    "def filter_list(inp_list):\n",
    "    final_ls=list()\n",
    "    for items in inp_list:\n",
    "        if type(items) not in (int,float):\n",
    "            continue\n",
    "        else:\n",
    "            final_ls.append(items)\n",
    "    return final_ls"
   ]
  },
  {
   "cell_type": "code",
   "execution_count": 10,
   "id": "41102acb",
   "metadata": {},
   "outputs": [
    {
     "data": {
      "text/plain": [
       "[1, 2]"
      ]
     },
     "execution_count": 10,
     "metadata": {},
     "output_type": "execute_result"
    }
   ],
   "source": [
    "filter_list([1,2,'a','b'])"
   ]
  },
  {
   "cell_type": "code",
   "execution_count": 11,
   "id": "36818d17",
   "metadata": {},
   "outputs": [
    {
     "data": {
      "text/plain": [
       "[1, 0, 15]"
      ]
     },
     "execution_count": 11,
     "metadata": {},
     "output_type": "execute_result"
    }
   ],
   "source": [
    "filter_list([1,'a','b',0,15])"
   ]
  },
  {
   "cell_type": "code",
   "execution_count": 12,
   "id": "a7346a61",
   "metadata": {},
   "outputs": [
    {
     "data": {
      "text/plain": [
       "[1, 2, 123]"
      ]
     },
     "execution_count": 12,
     "metadata": {},
     "output_type": "execute_result"
    }
   ],
   "source": [
    "filter_list([1,2,'aasf','1','123',123])"
   ]
  },
  {
   "cell_type": "markdown",
   "id": "03af336f",
   "metadata": {},
   "source": [
    "Question 2\n",
    "\n",
    "The \"Reverser\" takes a string as input and returns that string in reverse order, with the opposite case.\n",
    "\n",
    "Examples\n",
    "\n",
    "reverse(\"Hello World\") ➞ \"DLROw OLLEh\"\n",
    "\n",
    "reverse(\"ReVeRsE\") ➞ \"eSrEvEr\"\n",
    "\n",
    "reverse(\"Radar\") ➞ \"RADAr\"\n"
   ]
  },
  {
   "cell_type": "code",
   "execution_count": 21,
   "id": "b3b2dda3",
   "metadata": {},
   "outputs": [],
   "source": [
    "def reverse_str(inp_str):\n",
    "    final_str=''\n",
    "    for chars in inp_str[::-1]:\n",
    "        if chars.isupper():\n",
    "            final_str+=chars.lower()\n",
    "        elif chars.islower():\n",
    "            final_str+=chars.upper()\n",
    "        else:\n",
    "            final_str+=chars\n",
    "    return final_str        "
   ]
  },
  {
   "cell_type": "code",
   "execution_count": 22,
   "id": "6f819e27",
   "metadata": {},
   "outputs": [
    {
     "data": {
      "text/plain": [
       "'DLROw OLLEh'"
      ]
     },
     "execution_count": 22,
     "metadata": {},
     "output_type": "execute_result"
    }
   ],
   "source": [
    "reverse_str('Hello World')"
   ]
  },
  {
   "cell_type": "code",
   "execution_count": 23,
   "id": "735005a2",
   "metadata": {},
   "outputs": [
    {
     "data": {
      "text/plain": [
       "'eSrEvEr'"
      ]
     },
     "execution_count": 23,
     "metadata": {},
     "output_type": "execute_result"
    }
   ],
   "source": [
    "reverse_str('ReVeRsE')"
   ]
  },
  {
   "cell_type": "code",
   "execution_count": 24,
   "id": "466271cc",
   "metadata": {},
   "outputs": [
    {
     "data": {
      "text/plain": [
       "'RADAr'"
      ]
     },
     "execution_count": 24,
     "metadata": {},
     "output_type": "execute_result"
    }
   ],
   "source": [
    "reverse_str('Radar')"
   ]
  },
  {
   "cell_type": "markdown",
   "id": "e1921efe",
   "metadata": {},
   "source": [
    "Question 3\n",
    "\n",
    "You can assign variables from lists like this:\n",
    "lst = [1, 2, 3, 4, 5, 6]\n",
    "first = lst[0]\n",
    "middle = lst[1:-1]\n",
    "last = lst[-1]\n",
    "\n",
    "print(first) ➞ outputs 1\n",
    "print(middle) ➞ outputs [2, 3, 4, 5]\n",
    "print(last) ➞ outputs 6\n",
    "With Python 3, you can assign variables from lists in a much more succinct way. Create variables first, middle and last from the given list using destructuring assignment (check the Resources tab for some examples), where:\n",
    "first  ➞ 1\n",
    "\n",
    "middle ➞ [2, 3, 4, 5]\n",
    "\n",
    "last ➞ 6\n",
    "\n",
    "Your task is to unpack the list writeyourcodehere into three variables, being first, middle, and last, with middle being everything in between the first and last element. Then print all three variables."
   ]
  },
  {
   "cell_type": "code",
   "execution_count": 37,
   "id": "08cd7551",
   "metadata": {},
   "outputs": [
    {
     "name": "stdout",
     "output_type": "stream",
     "text": [
      "first : 1\n",
      "middle : [2, 3, 4, 5]\n",
      "last : 6\n"
     ]
    }
   ],
   "source": [
    "lst=[1,2,3,4,5,6]\n",
    "first,*middle,last=lst\n",
    "\n",
    "print('first :',first)\n",
    "print('middle :',middle)\n",
    "print('last :',last)"
   ]
  },
  {
   "cell_type": "markdown",
   "id": "ec611a64",
   "metadata": {},
   "source": [
    "Question 4\n",
    "Write a function that calculates the factorial of a number recursively.\n",
    "Examples\n",
    "factorial(5) ➞ 120\n",
    "\n",
    "factorial(3) ➞ 6\n",
    "\n",
    "factorial(1) ➞ 1\n",
    "\n",
    "factorial(0) ➞ 1\n"
   ]
  },
  {
   "cell_type": "code",
   "execution_count": 26,
   "id": "bd0bfa47",
   "metadata": {},
   "outputs": [],
   "source": [
    "def find_factorial(num):\n",
    "    my_ls=list(range(1,(num+1)))\n",
    "    my_ls=my_ls[::-1]\n",
    "    prod=1\n",
    "    for vals in my_ls:\n",
    "        prod=prod*vals\n",
    "    return prod"
   ]
  },
  {
   "cell_type": "code",
   "execution_count": 28,
   "id": "f2bf972f",
   "metadata": {},
   "outputs": [
    {
     "data": {
      "text/plain": [
       "6"
      ]
     },
     "execution_count": 28,
     "metadata": {},
     "output_type": "execute_result"
    }
   ],
   "source": [
    "find_factorial(3)"
   ]
  },
  {
   "cell_type": "markdown",
   "id": "9787b54f",
   "metadata": {},
   "source": [
    "Question 5\n",
    "\n",
    "Write a function that moves all elements of one type to the end of the list.\n",
    "\n",
    "Examples\n",
    "\n",
    "move_to_end([1, 3, 2, 4, 4, 1], 1) ➞ [3, 2, 4, 4, 1, 1]\n",
    "\n",
    "Move all the 1s to the end of the array.\n",
    "\n",
    "move_to_end([7, 8, 9, 1, 2, 3, 4], 9) ➞ [7, 8, 1, 2, 3, 4, 9]\n",
    "\n",
    "move_to_end([\"a\", \"a\", \"a\", \"b\"], \"a\") ➞ [\"b\", \"a\", \"a\", \"a\"]\n"
   ]
  },
  {
   "cell_type": "code",
   "execution_count": 32,
   "id": "7e6b86fa",
   "metadata": {},
   "outputs": [],
   "source": [
    "def move_to_end(inp_lst,item_to_move):\n",
    "    my_ls1=list()\n",
    "    my_ls2=list()\n",
    "    # actual_lst=[1,3,2,4,4,1]\n",
    "    # item_to_move=1\n",
    "    for items in inp_lst:\n",
    "        if items==item_to_move:\n",
    "            my_ls2.append(items)\n",
    "        else:\n",
    "            my_ls1.append(items)\n",
    "    my_ls1.extend(my_ls2)\n",
    "    return my_ls1"
   ]
  },
  {
   "cell_type": "code",
   "execution_count": 33,
   "id": "320ce89f",
   "metadata": {},
   "outputs": [
    {
     "data": {
      "text/plain": [
       "[3, 2, 4, 4, 1, 1]"
      ]
     },
     "execution_count": 33,
     "metadata": {},
     "output_type": "execute_result"
    }
   ],
   "source": [
    "move_to_end([1,3,2,4,4,1],1)"
   ]
  },
  {
   "cell_type": "code",
   "execution_count": 34,
   "id": "e7fb45bc",
   "metadata": {},
   "outputs": [
    {
     "data": {
      "text/plain": [
       "[7, 8, 1, 2, 3, 4, 9]"
      ]
     },
     "execution_count": 34,
     "metadata": {},
     "output_type": "execute_result"
    }
   ],
   "source": [
    "move_to_end([7,8,9,1,2,3,4],9)"
   ]
  },
  {
   "cell_type": "code",
   "execution_count": 35,
   "id": "1f9cf8fd",
   "metadata": {},
   "outputs": [
    {
     "data": {
      "text/plain": [
       "['b', 'a', 'a', 'a']"
      ]
     },
     "execution_count": 35,
     "metadata": {},
     "output_type": "execute_result"
    }
   ],
   "source": [
    "move_to_end(['a','a','a','b'],'a')"
   ]
  }
 ],
 "metadata": {
  "kernelspec": {
   "display_name": "Python 3 (ipykernel)",
   "language": "python",
   "name": "python3"
  },
  "language_info": {
   "codemirror_mode": {
    "name": "ipython",
    "version": 3
   },
   "file_extension": ".py",
   "mimetype": "text/x-python",
   "name": "python",
   "nbconvert_exporter": "python",
   "pygments_lexer": "ipython3",
   "version": "3.10.9"
  }
 },
 "nbformat": 4,
 "nbformat_minor": 5
}

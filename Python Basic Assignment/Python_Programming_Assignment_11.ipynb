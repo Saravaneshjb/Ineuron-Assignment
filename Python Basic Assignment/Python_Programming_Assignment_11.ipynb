{
 "cells": [
  {
   "cell_type": "markdown",
   "id": "297f0216",
   "metadata": {},
   "source": [
    "1.\tWrite a Python program to find words which are greater than given length k?"
   ]
  },
  {
   "cell_type": "code",
   "execution_count": 1,
   "id": "0df53fe9",
   "metadata": {},
   "outputs": [
    {
     "data": {
      "text/plain": [
       "['Saravanesh', 'Saissh', 'Kellys']"
      ]
     },
     "execution_count": 1,
     "metadata": {},
     "output_type": "execute_result"
    }
   ],
   "source": [
    "k=5 #Given Length\n",
    "list_of_words=['Saravanesh','Saissh','Jack','Amy','Kellys']\n",
    "words_greater=list()\n",
    "\n",
    "for words in list_of_words:\n",
    "    if len(words)>k:\n",
    "        words_greater.append(words)\n",
    "\n",
    "words_greater"
   ]
  },
  {
   "cell_type": "markdown",
   "id": "256f0216",
   "metadata": {},
   "source": [
    "2.\tWrite a Python program for removing i-th character from a string?"
   ]
  },
  {
   "cell_type": "code",
   "execution_count": 8,
   "id": "f5cd9f69",
   "metadata": {},
   "outputs": [],
   "source": [
    "k=5\n",
    "my_str='Saravanesh'"
   ]
  },
  {
   "cell_type": "code",
   "execution_count": 16,
   "id": "01d389b0",
   "metadata": {},
   "outputs": [
    {
     "name": "stdout",
     "output_type": "stream",
     "text": [
      "removing 5th chraracter \"a\" from the string\n",
      "The final string after removing the 5th character Saravnesh\n"
     ]
    }
   ],
   "source": [
    "counter = 0\n",
    "final_str=list()\n",
    "for i in my_str:\n",
    "    if counter==k:\n",
    "        print(f'removing {k}th chraracter \"{i}\" from the string')\n",
    "    else:\n",
    "        final_str.append(i)\n",
    "    counter = counter + 1\n",
    "print(f'The final string after removing the {k}th character',''.join(final_str))"
   ]
  },
  {
   "cell_type": "markdown",
   "id": "d156fabf",
   "metadata": {},
   "source": [
    "3.\tWrite a Python program to split and join a string?"
   ]
  },
  {
   "cell_type": "code",
   "execution_count": 19,
   "id": "fd6c3597",
   "metadata": {},
   "outputs": [
    {
     "name": "stdout",
     "output_type": "stream",
     "text": [
      "['This', 'is', 'a', 'string', 'with', 'no', 'delimiter']\n"
     ]
    }
   ],
   "source": [
    "s = \"This is a string with no delimiter\"\n",
    "words = s.split()\n",
    "print(words)"
   ]
  },
  {
   "cell_type": "code",
   "execution_count": 21,
   "id": "0d7eb711",
   "metadata": {},
   "outputs": [
    {
     "data": {
      "text/plain": [
       "'This is a string with no delimiter'"
      ]
     },
     "execution_count": 21,
     "metadata": {},
     "output_type": "execute_result"
    }
   ],
   "source": [
    "' '.join(words)"
   ]
  },
  {
   "cell_type": "markdown",
   "id": "d85ff44f",
   "metadata": {},
   "source": [
    "4.\tWrite a Python to check if a given string is binary string or not?"
   ]
  },
  {
   "cell_type": "code",
   "execution_count": 22,
   "id": "6ae2aec6",
   "metadata": {},
   "outputs": [
    {
     "name": "stdout",
     "output_type": "stream",
     "text": [
      "True\n",
      "False\n",
      "False\n"
     ]
    }
   ],
   "source": [
    "def is_binary_string(s):\n",
    "    for char in s:\n",
    "        if char not in \"01\":\n",
    "            return False\n",
    "    return True\n",
    "\n",
    "# example usage\n",
    "s1 = \"10101010\"\n",
    "s2 = \"1100102\"\n",
    "s3 = \"10111210\"\n",
    "print(is_binary_string(s1)) \n",
    "print(is_binary_string(s2)) \n",
    "print(is_binary_string(s3)) \n"
   ]
  },
  {
   "cell_type": "markdown",
   "id": "a4a8c190",
   "metadata": {},
   "source": [
    "5.\tWrite a Python program to find uncommon words from two Strings?"
   ]
  },
  {
   "cell_type": "code",
   "execution_count": 23,
   "id": "e2d0497e",
   "metadata": {},
   "outputs": [
    {
     "name": "stdout",
     "output_type": "stream",
     "text": [
      "Uncommon words: {'first', 'second'}\n"
     ]
    }
   ],
   "source": [
    "def find_uncommon_words(str1, str2):\n",
    "    words1 = set(str1.split())\n",
    "    words2 = set(str2.split())\n",
    "    uncommon_words = words1.symmetric_difference(words2)\n",
    "    return uncommon_words\n",
    "\n",
    "# Example usage\n",
    "str1 = \"This is the first string\"\n",
    "str2 = \"This is the second string\"\n",
    "uncommon_words = find_uncommon_words(str1, str2)\n",
    "print(\"Uncommon words:\", uncommon_words)\n"
   ]
  },
  {
   "cell_type": "markdown",
   "id": "c449d70c",
   "metadata": {},
   "source": [
    "6.\tWrite a Python to find all duplicate characters in string?"
   ]
  },
  {
   "cell_type": "code",
   "execution_count": 24,
   "id": "53b04b5f",
   "metadata": {},
   "outputs": [
    {
     "name": "stdout",
     "output_type": "stream",
     "text": [
      "['l', 'o']\n"
     ]
    }
   ],
   "source": [
    "def find_duplicate_chars(s):\n",
    "    char_frequency = {}\n",
    "    duplicates = []\n",
    "\n",
    "    for char in s:\n",
    "        if char in char_frequency:\n",
    "            if char not in duplicates:\n",
    "                duplicates.append(char)\n",
    "        else:\n",
    "            char_frequency[char] = 1\n",
    "\n",
    "    return duplicates\n",
    "\n",
    "# example usage\n",
    "s = \"hello world\"\n",
    "print(find_duplicate_chars(s))\n"
   ]
  },
  {
   "cell_type": "markdown",
   "id": "b91525c3",
   "metadata": {},
   "source": [
    "7.\tWrite a Python Program to check if a string contains any special character?"
   ]
  },
  {
   "cell_type": "code",
   "execution_count": 25,
   "id": "f894c45a",
   "metadata": {},
   "outputs": [],
   "source": [
    "import re\n",
    "\n",
    "def contains_special_char(s):\n",
    "    regex = re.compile('[@_!#$%^&*()<>?/\\|}{~:]')\n",
    "    return regex.search(s) is not None"
   ]
  },
  {
   "cell_type": "code",
   "execution_count": 26,
   "id": "dc9aa4f7",
   "metadata": {},
   "outputs": [
    {
     "name": "stdout",
     "output_type": "stream",
     "text": [
      "True\n",
      "True\n",
      "False\n"
     ]
    }
   ],
   "source": [
    "# Example usage\n",
    "s1 = 'Hello World!'\n",
    "s2 = 'This is a string with @ symbol'\n",
    "s3 = '1234'\n",
    "\n",
    "print(contains_special_char(s1)) \n",
    "print(contains_special_char(s2)) \n",
    "print(contains_special_char(s3)) "
   ]
  }
 ],
 "metadata": {
  "kernelspec": {
   "display_name": "Python 3 (ipykernel)",
   "language": "python",
   "name": "python3"
  },
  "language_info": {
   "codemirror_mode": {
    "name": "ipython",
    "version": 3
   },
   "file_extension": ".py",
   "mimetype": "text/x-python",
   "name": "python",
   "nbconvert_exporter": "python",
   "pygments_lexer": "ipython3",
   "version": "3.10.9"
  }
 },
 "nbformat": 4,
 "nbformat_minor": 5
}

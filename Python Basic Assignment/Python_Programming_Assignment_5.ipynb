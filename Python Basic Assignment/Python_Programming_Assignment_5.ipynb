{
 "cells": [
  {
   "cell_type": "markdown",
   "metadata": {},
   "source": [
    "1.\tWrite a Python Program to Find LCM?"
   ]
  },
  {
   "cell_type": "code",
   "execution_count": 4,
   "metadata": {},
   "outputs": [],
   "source": [
    "def lcm(x, y):\n",
    "    if x > y:\n",
    "      z = x\n",
    "    else:\n",
    "      z = y\n",
    "    while(True):\n",
    "        if((z % x == 0) and (z % y == 0)):\n",
    "            lcm = z\n",
    "            break\n",
    "        z += 1\n",
    "    return lcm"
   ]
  },
  {
   "cell_type": "code",
   "execution_count": 5,
   "metadata": {},
   "outputs": [
    {
     "data": {
      "text/plain": [
       "12"
      ]
     },
     "execution_count": 5,
     "metadata": {},
     "output_type": "execute_result"
    }
   ],
   "source": [
    "lcm(4,6)"
   ]
  },
  {
   "cell_type": "markdown",
   "metadata": {},
   "source": [
    "2.\tWrite a Python Program to Find HCF?"
   ]
  },
  {
   "cell_type": "code",
   "execution_count": 6,
   "metadata": {},
   "outputs": [],
   "source": [
    "def gcd_of_two_nums(inp_num):\n",
    "    print('The two numbers are : ', inp_num)\n",
    "    my_dict = dict()\n",
    "    final_set = set()\n",
    "    for items in inp_num:\n",
    "        my_lst = list()\n",
    "        my_dict[items] = my_lst\n",
    "        for vals in range(1,(items+1)):\n",
    "            if vals == items:\n",
    "                pass\n",
    "            elif items%vals == 0:\n",
    "                my_dict[items].append(vals)\n",
    "        else:\n",
    "#             print('Inside the inner else of inner for loop')\n",
    "#             print('length of my_dict :',len(my_dict))\n",
    "            my_dict[items]=set(my_dict[items])  \n",
    "            if len(my_dict) <= 1:\n",
    "                final_set = my_dict[items]\n",
    "#                 print('final set inside the if condition',final_set)\n",
    "            else:\n",
    "                final_set = final_set & my_dict[items]\n",
    "#                 print('final set inside the else condition :', final_set)\n",
    "    else:\n",
    "        print(\"Dictionary with the input values & their GCD's :\", my_dict)\n",
    "        print(\"Common GCD between the two input values :\",final_set)\n",
    "        print(f\"Greatest common divisor of the input {inp_num} :\",max(final_set))"
   ]
  },
  {
   "cell_type": "code",
   "execution_count": 7,
   "metadata": {},
   "outputs": [
    {
     "name": "stdout",
     "output_type": "stream",
     "text": [
      "The two numbers are :  (54, 24)\n",
      "Dictionary with the input values & their GCD's : {54: {1, 2, 3, 6, 9, 18, 27}, 24: {1, 2, 3, 4, 6, 8, 12}}\n",
      "Common GCD between the two input values : {1, 2, 3, 6}\n",
      "Greatest common divisor of the input (54, 24) : 6\n"
     ]
    }
   ],
   "source": [
    "gcd_of_two_nums((54,24))"
   ]
  },
  {
   "cell_type": "markdown",
   "metadata": {},
   "source": [
    "3.\tWrite a Python Program to Convert Decimal to Binary, Octal and Hexadecimal?"
   ]
  },
  {
   "cell_type": "code",
   "execution_count": 19,
   "metadata": {},
   "outputs": [
    {
     "name": "stdout",
     "output_type": "stream",
     "text": [
      "Enter the Decimal number to convert :475\n",
      "The binary value of the decimal number 475 is : 111011011\n",
      "The Octal value of the decimal number 475 is : 733\n",
      "The hexa value of the decimal number 475 is : 1db\n"
     ]
    }
   ],
   "source": [
    "decimal_input = int(input('Enter the Decimal number to convert :'))\n",
    "\n",
    "print(f'The binary value of the decimal number {decimal_input} is :',bin(decimal_input)[2:])\n",
    "print(f'The Octal value of the decimal number {decimal_input} is :',oct(decimal_input)[2:])\n",
    "print(f'The hexa value of the decimal number {decimal_input} is :',hex(decimal_input)[2:])"
   ]
  },
  {
   "cell_type": "markdown",
   "metadata": {},
   "source": [
    "4.\tWrite a Python Program To Find ASCII value of a character?"
   ]
  },
  {
   "cell_type": "code",
   "execution_count": 23,
   "metadata": {},
   "outputs": [
    {
     "name": "stdout",
     "output_type": "stream",
     "text": [
      "Enter any character: d\n",
      "The ASCII value of char d is:  100\n"
     ]
    }
   ],
   "source": [
    "ch = input(\"Enter any character: \")\n",
    "\n",
    "print(\"The ASCII value of char \" + ch + \" is: \",ord(ch))"
   ]
  },
  {
   "cell_type": "markdown",
   "metadata": {},
   "source": [
    "5.\tWrite a Python Program to Make a Simple Calculator with 4 basic mathematical operations?"
   ]
  },
  {
   "cell_type": "code",
   "execution_count": 28,
   "metadata": {},
   "outputs": [],
   "source": [
    "def my_calc(val1,val2,operation):\n",
    "    if type(val1) in (int,float) and type(val2) in (int,float):\n",
    "        if operation == 'add':\n",
    "            add_result = val1 + val2\n",
    "            return f'The sum of two numbers {val1} & {val2} is : {add_result}'\n",
    "        elif operation == 'sub':\n",
    "            sub_result = val1 - val2\n",
    "            return f'The difference between two numbers {val1} & {val2} is : {sub_result}'\n",
    "        elif operation == 'mul':\n",
    "            mul_result = val1 * val2\n",
    "            return f'The product of two numbers {val1} & {val2} is : {mul_result}'\n",
    "        elif operation == 'div':\n",
    "            div_result = val1 / val2\n",
    "            return f'The result of {val1} / {val2} is : {div_result}'\n",
    "        else:\n",
    "            return 'provide the operation as : add/sub/mul/div'\n",
    "    else:\n",
    "        return 'Provide proper input values'"
   ]
  },
  {
   "cell_type": "code",
   "execution_count": 26,
   "metadata": {},
   "outputs": [
    {
     "data": {
      "text/plain": [
       "'The sum of two numbers 10 & 20 is : 30'"
      ]
     },
     "execution_count": 26,
     "metadata": {},
     "output_type": "execute_result"
    }
   ],
   "source": [
    "my_calc(10,20,'add')"
   ]
  },
  {
   "cell_type": "code",
   "execution_count": 29,
   "metadata": {},
   "outputs": [
    {
     "data": {
      "text/plain": [
       "'The result of 20 / 10 is : 2.0'"
      ]
     },
     "execution_count": 29,
     "metadata": {},
     "output_type": "execute_result"
    }
   ],
   "source": [
    "my_calc(20,10,'div')"
   ]
  },
  {
   "cell_type": "code",
   "execution_count": 30,
   "metadata": {},
   "outputs": [
    {
     "data": {
      "text/plain": [
       "'The difference between two numbers 20 & 10 is : 10'"
      ]
     },
     "execution_count": 30,
     "metadata": {},
     "output_type": "execute_result"
    }
   ],
   "source": [
    "my_calc(20,10,'sub')"
   ]
  },
  {
   "cell_type": "code",
   "execution_count": 31,
   "metadata": {},
   "outputs": [
    {
     "data": {
      "text/plain": [
       "'The product of two numbers 20 & 10 is : 200'"
      ]
     },
     "execution_count": 31,
     "metadata": {},
     "output_type": "execute_result"
    }
   ],
   "source": [
    "my_calc(20,10,'mul')"
   ]
  }
 ],
 "metadata": {
  "kernelspec": {
   "display_name": "Python 3",
   "language": "python",
   "name": "python3"
  },
  "language_info": {
   "codemirror_mode": {
    "name": "ipython",
    "version": 3
   },
   "file_extension": ".py",
   "mimetype": "text/x-python",
   "name": "python",
   "nbconvert_exporter": "python",
   "pygments_lexer": "ipython3",
   "version": "3.8.5"
  }
 },
 "nbformat": 4,
 "nbformat_minor": 4
}

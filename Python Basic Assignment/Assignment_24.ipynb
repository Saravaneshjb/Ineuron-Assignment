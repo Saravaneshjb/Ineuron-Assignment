{
 "cells": [
  {
   "cell_type": "markdown",
   "metadata": {},
   "source": [
    "### 1. What is the relationship between def statements and lambda expressions ?"
   ]
  },
  {
   "cell_type": "markdown",
   "metadata": {},
   "source": [
    "- Both the def and the def statements are used to create custom/user defined functions. \n",
    "- These help in reducing code redundancy/writing same code/logic again and again."
   ]
  },
  {
   "cell_type": "markdown",
   "metadata": {},
   "source": [
    "### 2. What is the benefit of lambda?"
   ]
  },
  {
   "cell_type": "markdown",
   "metadata": {},
   "source": [
    "- Syntacticaly easy to define, does not follow the usual function structure\n",
    "- Comes very handy while creating some simple to medium complex logics\n",
    "- They need not be defined and called seperately can be written on the fly wherever a function usage is seen."
   ]
  },
  {
   "cell_type": "markdown",
   "metadata": {},
   "source": [
    "### 3. Compare and contrast map, filter, and reduce."
   ]
  },
  {
   "cell_type": "markdown",
   "metadata": {},
   "source": [
    "|map() function|filter() function|reduce() function|\n",
    "|---|---|---|\n",
    "|Syntax : map(function, iterable)|Syntax : filter(function, iterable)|Syntax : reduce(function, iterable/sequence)|\n",
    "|The map() function is applied on each element of the element and is used when we need to modify any values in the iterable. Eg: To get the square of each elements in the iterable| The filter() function as the name suggests is used to filter the iterable based on the Truth value of the outcome (i.e.) ideally it filters the data in the iterable based on the input function passed only if its True|reduce() function is used when we want to recursively get to reduce/apply the function logic to get a final value.|"
   ]
  },
  {
   "cell_type": "markdown",
   "metadata": {},
   "source": [
    "### 4. What are function annotations, and how are they used?"
   ]
  },
  {
   "cell_type": "markdown",
   "metadata": {},
   "source": [
    "- Annotations are nothing but part of documentation work that is done whenever a piece of code is written as a function to solve a problem.\n",
    "- These annotations provides the end user about a brief idea about the usage of the function, the parameters defined and also their respect datatypes.\n",
    "- Its serves as a goto material whenever we need to explore something more about the function. So its always a good practise to provide function annotations."
   ]
  },
  {
   "cell_type": "markdown",
   "metadata": {},
   "source": [
    "### 5. What are recursive functions, and how are they used?"
   ]
  },
  {
   "cell_type": "markdown",
   "metadata": {},
   "source": [
    "- Recursive functions are functions that call themselves repeatedly until they reach a base case or condition. These types of functions are useful for solving problems that can be broken down into smaller, simpler versions of the same problem.\n",
    "\n",
    "- A typical recursive function consists of two parts: a base case that stops the recursion, and a recursive case that calls the function with a smaller version of the same problem until it reaches the base case."
   ]
  },
  {
   "cell_type": "markdown",
   "metadata": {},
   "source": [
    "### 6. What are some general design guidelines for coding functions?"
   ]
  },
  {
   "cell_type": "markdown",
   "metadata": {},
   "source": [
    "Here are some general design guidelines for coding functions:\n",
    "\n",
    "1. Function name: Choose a descriptive name for the function that clearly indicates what it does.\n",
    "\n",
    "2. Function arguments: Choose descriptive names for the function arguments. Try to limit the number of arguments to a reasonable amount. \n",
    "\n",
    "3. Function documentation: Add a docstring at the beginning of the function that describes what the function does, what arguments it takes, and what it returns.\n",
    "\n",
    "4. Function structure: Break the function down into smaller, more manageable parts, using helper functions where appropriate.\n",
    "\n",
    "5. Function efficiency: Write functions that are efficient and optimized for speed and memory usage. Use built-in functions and libraries where possible.\n",
    "\n",
    "6. Error handling: Include appropriate error handling in your function to ensure that it can handle unexpected input and return helpful error messages.\n",
    "\n",
    "7. Testability: Write functions that are easily testable. Consider writing unit tests for your functions to ensure that they work as intended.\n",
    "\n",
    "8. Modularity: Write functions that can be easily reused in other parts of your code. Keep the function small and focused on a single task."
   ]
  },
  {
   "cell_type": "markdown",
   "metadata": {},
   "source": [
    "### 7. Name three or more ways that functions can communicate results to a caller."
   ]
  },
  {
   "cell_type": "markdown",
   "metadata": {},
   "source": [
    "1. Return statement: The most common way to communicate results from a Python function is by using the `return` statement. This allows the function to send a value or a set of values back to the caller. For example:\n",
    "2. Global variables: Functions can modify global variables to communicate results. For example:\n",
    "3. Side effects: Functions can have side effects that change the state of objects or variables outside of the function. \n",
    "4. Print statements: Functions can use `print` statements to communicate results by printing them to the console. However, this is usually used for debugging purposes only and should not be relied on for production code."
   ]
  }
 ],
 "metadata": {
  "kernelspec": {
   "display_name": "Python 3 (ipykernel)",
   "language": "python",
   "name": "python3"
  },
  "language_info": {
   "codemirror_mode": {
    "name": "ipython",
    "version": 3
   },
   "file_extension": ".py",
   "mimetype": "text/x-python",
   "name": "python",
   "nbconvert_exporter": "python",
   "pygments_lexer": "ipython3",
   "version": "3.10.9"
  }
 },
 "nbformat": 4,
 "nbformat_minor": 4
}

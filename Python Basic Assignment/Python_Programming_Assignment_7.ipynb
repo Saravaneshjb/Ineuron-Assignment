{
 "cells": [
  {
   "cell_type": "markdown",
   "metadata": {},
   "source": [
    "1.\tWrite a Python Program to find sum of array?"
   ]
  },
  {
   "cell_type": "code",
   "execution_count": 4,
   "metadata": {},
   "outputs": [
    {
     "name": "stdout",
     "output_type": "stream",
     "text": [
      "The elements in array : [1, 2, 3, 4, 5]\n",
      "Sum of elements in array : 15\n"
     ]
    }
   ],
   "source": [
    "#method 1\n",
    "arr = [1,2,3,4,5]\n",
    "print('The elements in array :',arr)\n",
    "sum_ = 0\n",
    "for items in arr:\n",
    "    sum_ = sum_ + items\n",
    "print('Sum of elements in array :',sum_)"
   ]
  },
  {
   "cell_type": "code",
   "execution_count": 3,
   "metadata": {},
   "outputs": [
    {
     "name": "stdout",
     "output_type": "stream",
     "text": [
      "Elements in array : [1, 2, 3, 4, 5]\n",
      "Sum of elements of array : 15\n"
     ]
    }
   ],
   "source": [
    "#method 2 - Using sum function \n",
    "arr = [1,2,3,4,5]\n",
    "print('Elements in array :',arr)\n",
    "print('Sum of elements of array :', sum(arr))"
   ]
  },
  {
   "cell_type": "code",
   "execution_count": 5,
   "metadata": {},
   "outputs": [
    {
     "name": "stdout",
     "output_type": "stream",
     "text": [
      "Elements in array : [1 2 3 4 5]\n",
      "Sum of elements in array : 15\n"
     ]
    }
   ],
   "source": [
    "#method 3 using numpy array\n",
    "import numpy as np\n",
    "arr1 = np.array([1,2,3,4,5])\n",
    "print('Elements in array :',arr1)\n",
    "print('Sum of elements in array :',np.sum(arr1))"
   ]
  },
  {
   "cell_type": "markdown",
   "metadata": {},
   "source": [
    "2.\tWrite a Python Program to find largest element in an array?"
   ]
  },
  {
   "cell_type": "code",
   "execution_count": 7,
   "metadata": {},
   "outputs": [
    {
     "name": "stdout",
     "output_type": "stream",
     "text": [
      "The array elements : [1, 2, 3, 4, 5]\n",
      "Maximum element in the array : 5\n"
     ]
    }
   ],
   "source": [
    "print('The array elements :',arr)\n",
    "max_num = 0\n",
    "for elements in arr:\n",
    "    if elements > max_num:\n",
    "        max_num = elements\n",
    "print('Maximum element in the array :', max_num)"
   ]
  },
  {
   "cell_type": "code",
   "execution_count": 8,
   "metadata": {},
   "outputs": [
    {
     "data": {
      "text/plain": [
       "5"
      ]
     },
     "execution_count": 8,
     "metadata": {},
     "output_type": "execute_result"
    }
   ],
   "source": [
    "#Method - 2, using the max function\n",
    "max(arr)"
   ]
  },
  {
   "cell_type": "markdown",
   "metadata": {},
   "source": [
    "3.\tWrite a Python Program for array rotation?"
   ]
  },
  {
   "cell_type": "code",
   "execution_count": 1,
   "metadata": {},
   "outputs": [],
   "source": [
    "def rotate_array(arr, k):\n",
    "    n = len(arr)\n",
    "    k = k % n  # Adjust k if it is larger than n\n",
    "    return arr[-k:] + arr[:-k]\n"
   ]
  },
  {
   "cell_type": "code",
   "execution_count": 2,
   "metadata": {},
   "outputs": [
    {
     "data": {
      "text/plain": [
       "[3, 2, 3, 4, 5, 6]"
      ]
     },
     "execution_count": 2,
     "metadata": {},
     "output_type": "execute_result"
    }
   ],
   "source": [
    "rotate_array([2,3,4,5,6,3],1)"
   ]
  },
  {
   "cell_type": "code",
   "execution_count": 3,
   "metadata": {},
   "outputs": [
    {
     "data": {
      "text/plain": [
       "[6, 3, 2, 3, 4, 5]"
      ]
     },
     "execution_count": 3,
     "metadata": {},
     "output_type": "execute_result"
    }
   ],
   "source": [
    "rotate_array([2,3,4,5,6,3],2)"
   ]
  },
  {
   "cell_type": "markdown",
   "metadata": {},
   "source": [
    "#### In case of multidemnsional array"
   ]
  },
  {
   "cell_type": "code",
   "execution_count": 6,
   "metadata": {},
   "outputs": [
    {
     "name": "stdout",
     "output_type": "stream",
     "text": [
      "[[3 6 9]\n",
      " [2 5 8]\n",
      " [1 4 7]]\n"
     ]
    }
   ],
   "source": [
    "import numpy as np\n",
    "\n",
    "arr = np.array([[1, 2, 3],\n",
    "                [4, 5, 6],\n",
    "                [7, 8, 9]])\n",
    "\n",
    "rotated_arr = np.rot90(arr)\n",
    "\n",
    "print(rotated_arr)\n"
   ]
  },
  {
   "cell_type": "markdown",
   "metadata": {},
   "source": [
    "4.\tWrite a Python Program to Split the array and add the first part to the end?"
   ]
  },
  {
   "cell_type": "code",
   "execution_count": 21,
   "metadata": {},
   "outputs": [],
   "source": [
    "def split_array(arr,split_pos):\n",
    "    iter=0\n",
    "    new_arr1=list()\n",
    "    new_arr2=list()\n",
    "\n",
    "    for items in range(len(arr1)):\n",
    "        if iter<=split_pos:\n",
    "            new_arr1.append(arr1[items])\n",
    "        else:\n",
    "            new_arr2.append(arr1[items])\n",
    "        iter=iter+1\n",
    "    print(f'The split arrays are : {new_arr1} and {new_arr2}')\n",
    "    new_arr2.extend(new_arr1)\n",
    "    print('Final Array :',new_arr2)\n",
    "    return new_arr2.extend(new_arr1)"
   ]
  },
  {
   "cell_type": "code",
   "execution_count": 22,
   "metadata": {},
   "outputs": [],
   "source": [
    "arr1=[34,45,67,44,56,78,90]\n",
    "split_pos=2"
   ]
  },
  {
   "cell_type": "code",
   "execution_count": 23,
   "metadata": {},
   "outputs": [
    {
     "name": "stdout",
     "output_type": "stream",
     "text": [
      "The split arrays are : [34, 45, 67] and [44, 56, 78, 90]\n",
      "Final Array : [44, 56, 78, 90, 34, 45, 67]\n"
     ]
    }
   ],
   "source": [
    "split_array(arr1,split_pos)"
   ]
  },
  {
   "cell_type": "markdown",
   "metadata": {},
   "source": [
    "5.\tWrite a Python Program to check if given array is Monotonic?"
   ]
  },
  {
   "cell_type": "code",
   "execution_count": 24,
   "metadata": {},
   "outputs": [],
   "source": [
    "def is_monotonic(array):\n",
    "    \"\"\"\n",
    "    Check if an array is monotonic.\n",
    "    \"\"\"\n",
    "    return all(array[i] <= array[i + 1] for i in range(len(array) - 1)) or all(array[i] >= array[i + 1] for i in range(len(array) - 1))"
   ]
  },
  {
   "cell_type": "code",
   "execution_count": 25,
   "metadata": {},
   "outputs": [
    {
     "name": "stdout",
     "output_type": "stream",
     "text": [
      "True\n",
      "True\n",
      "False\n"
     ]
    }
   ],
   "source": [
    "array1 = [1, 2, 3, 4, 5]\n",
    "array2 = [5, 4, 3, 2, 1]\n",
    "array3 = [1, 2, 3, 2, 1]\n",
    "\n",
    "print(is_monotonic(array1))  \n",
    "print(is_monotonic(array2))  \n",
    "print(is_monotonic(array3))  \n"
   ]
  }
 ],
 "metadata": {
  "kernelspec": {
   "display_name": "Python 3",
   "language": "python",
   "name": "python3"
  },
  "language_info": {
   "codemirror_mode": {
    "name": "ipython",
    "version": 3
   },
   "file_extension": ".py",
   "mimetype": "text/x-python",
   "name": "python",
   "nbconvert_exporter": "python",
   "pygments_lexer": "ipython3",
   "version": "3.8.5"
  }
 },
 "nbformat": 4,
 "nbformat_minor": 4
}

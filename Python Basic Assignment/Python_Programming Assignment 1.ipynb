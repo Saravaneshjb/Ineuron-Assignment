{
 "cells": [
  {
   "cell_type": "markdown",
   "metadata": {},
   "source": [
    "1.Write a Python program to print \"Hello Python\"?"
   ]
  },
  {
   "cell_type": "code",
   "execution_count": 1,
   "metadata": {},
   "outputs": [
    {
     "name": "stdout",
     "output_type": "stream",
     "text": [
      "Hello Python\n"
     ]
    }
   ],
   "source": [
    "print(\"Hello Python\")"
   ]
  },
  {
   "cell_type": "markdown",
   "metadata": {},
   "source": [
    "2.Write a Python program to do arithmetical operations addition and division.?"
   ]
  },
  {
   "cell_type": "code",
   "execution_count": 2,
   "metadata": {},
   "outputs": [],
   "source": [
    "def add_div_func():\n",
    "    inp_num_1 = int(input('Enter the first number :'))\n",
    "    inp_num_2 = int(input('Enter the second number :'))\n",
    "    Operation = input('Enter the operation to perform :')\n",
    "    \n",
    "    if Operation == 'addition':\n",
    "        add_result = inp_num_1 + inp_num_2\n",
    "        print('The addition result is :',add_result)\n",
    "    elif Operation == 'division':\n",
    "        division_result = inp_num_1 / inp_num_2\n",
    "        print('The division result is :',division_result)\n",
    "    else:\n",
    "        print(\"Provide a correct operation either addition or division\")"
   ]
  },
  {
   "cell_type": "code",
   "execution_count": 4,
   "metadata": {},
   "outputs": [
    {
     "name": "stdout",
     "output_type": "stream",
     "text": [
      "Enter the first number :10\n",
      "Enter the second number :2\n",
      "Enter the operation to perform :addition\n",
      "The addition result is : 12\n"
     ]
    }
   ],
   "source": [
    "add_div_func()"
   ]
  },
  {
   "cell_type": "code",
   "execution_count": 5,
   "metadata": {},
   "outputs": [
    {
     "name": "stdout",
     "output_type": "stream",
     "text": [
      "Enter the first number :10\n",
      "Enter the second number :2\n",
      "Enter the operation to perform :division\n",
      "The division result is : 5.0\n"
     ]
    }
   ],
   "source": [
    "add_div_func()"
   ]
  },
  {
   "cell_type": "code",
   "execution_count": 6,
   "metadata": {},
   "outputs": [
    {
     "name": "stdout",
     "output_type": "stream",
     "text": [
      "Enter the first number :10\n",
      "Enter the second number :2\n",
      "Enter the operation to perform :add\n",
      "Provide a correct operation either addition or division\n"
     ]
    }
   ],
   "source": [
    "add_div_func()"
   ]
  },
  {
   "cell_type": "markdown",
   "metadata": {},
   "source": [
    "3.Write a Python program to find the area of a triangle?"
   ]
  },
  {
   "cell_type": "code",
   "execution_count": 8,
   "metadata": {},
   "outputs": [
    {
     "name": "stdout",
     "output_type": "stream",
     "text": [
      "Enter the base of triangle :10\n",
      "Enter the height of triangle :5\n",
      "The are of triangle is : 25.0\n"
     ]
    }
   ],
   "source": [
    "base = int(input('Enter the base of triangle :'))\n",
    "height = int(input('Enter the height of triangle :'))\n",
    "\n",
    "area_of_triangle = 1/2 *(base) *(height)\n",
    "print('The are of triangle is :',area_of_triangle)"
   ]
  },
  {
   "cell_type": "markdown",
   "metadata": {},
   "source": [
    "4.Write a Python program to swap two variables?"
   ]
  },
  {
   "cell_type": "code",
   "execution_count": 11,
   "metadata": {},
   "outputs": [
    {
     "name": "stdout",
     "output_type": "stream",
     "text": [
      "The value of a & b before swapping :10, 20\n",
      "The value of a & b after swapping : 20, 10\n"
     ]
    }
   ],
   "source": [
    "a = 10\n",
    "b = 20\n",
    "c = 0\n",
    "\n",
    "print(f'The value of a & b before swapping :{a}, {b}')\n",
    "c = a\n",
    "a = b\n",
    "b = c\n",
    "print(f'The value of a & b after swapping : {a}, {b}')"
   ]
  },
  {
   "cell_type": "markdown",
   "metadata": {},
   "source": [
    "5.\tWrite a Python program to generate a random number?"
   ]
  },
  {
   "cell_type": "code",
   "execution_count": 12,
   "metadata": {},
   "outputs": [],
   "source": [
    "import random"
   ]
  },
  {
   "cell_type": "code",
   "execution_count": 17,
   "metadata": {},
   "outputs": [
    {
     "data": {
      "text/plain": [
       "37"
      ]
     },
     "execution_count": 17,
     "metadata": {},
     "output_type": "execute_result"
    }
   ],
   "source": [
    "random.randint(1,40)"
   ]
  }
 ],
 "metadata": {
  "kernelspec": {
   "display_name": "Python 3",
   "language": "python",
   "name": "python3"
  },
  "language_info": {
   "codemirror_mode": {
    "name": "ipython",
    "version": 3
   },
   "file_extension": ".py",
   "mimetype": "text/x-python",
   "name": "python",
   "nbconvert_exporter": "python",
   "pygments_lexer": "ipython3",
   "version": "3.8.5"
  }
 },
 "nbformat": 4,
 "nbformat_minor": 4
}

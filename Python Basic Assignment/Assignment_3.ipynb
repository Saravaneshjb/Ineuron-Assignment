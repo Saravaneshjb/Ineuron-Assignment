{
 "cells": [
  {
   "cell_type": "markdown",
   "metadata": {},
   "source": [
    "1. Why are functions advantageous to have in your programs?\n",
    "\n",
    "- They help in reducing the code redundancy. \n",
    "- Once a function is created it can be used whenever needed to apply the logic."
   ]
  },
  {
   "cell_type": "markdown",
   "metadata": {},
   "source": [
    "2. When does the code in a function run: when it's specified or when it's called?\n",
    "    \n",
    "- The code written in a function run only when its called. \n",
    "- Specifying a function is more like defining it by writing the required logic inside the function to be used later."
   ]
  },
  {
   "cell_type": "markdown",
   "metadata": {},
   "source": [
    "3. What statement creates a function?\n",
    "- The \"def\" statement is used to create a function. "
   ]
  },
  {
   "cell_type": "markdown",
   "metadata": {},
   "source": [
    "**4. What is the difference between a function and a function call?\n",
    "\n",
    "- function \n",
    "  - is a piece of code that is usually written if the same code/logic is to be used wherever needed. \n",
    "- function call \n",
    "   - It is actually calling to use the functionality written in the function. \n",
    "   - function call is the place where the function is actually executed.\n",
    "\n",
    "    Eg: Following is a function definition\n",
    "        ```python\n",
    "        def add(a,b):\n",
    "            return a+b\n",
    "        ```\n",
    "- Function call \n",
    "- add(10,20)"
   ]
  },
  {
   "cell_type": "markdown",
   "metadata": {},
   "source": [
    "5. How many global scopes are there in a Python program? How many local scopes?\n",
    "\n",
    "- In any given time there will be only one global and local scope in a python program."
   ]
  },
  {
   "cell_type": "markdown",
   "metadata": {},
   "source": [
    "**6. What happens to variables in a local scope when the function call returns?\n",
    "\n",
    "- The variable defined as a local scope inside a function would stay as local even after the function returns. \n",
    "- Eg: Consider the below python code \n",
    "  ```python \n",
    "   def myfunc(var1):\n",
    "    res = var1 * 2\n",
    "    return res\n",
    "   ```\n",
    "- Here the when we call the function & pass a value\n",
    "  myfunc(2) - It would return a value 4 \n",
    "- Next if we try to access the variables in local scope (i.e.) res / var1. It would return an error stating 'res' not defined. "
   ]
  },
  {
   "cell_type": "markdown",
   "metadata": {},
   "source": [
    "**7. What is the concept of a return value? Is it possible to have a return value in an expression?\n",
    "\n",
    "- Return value - It can come handy when we would like to have the output of the function used in another program or for any other operations.\n",
    "- Eg: \n",
    "```python\n",
    "   def add(num1,num2):\n",
    "        return num1 + num2\n",
    "```\n",
    "- function call -> result =  add(10,20)\n",
    "- This would return 30 it is being stored in a new variable result \n",
    "\n",
    "- Is it possible to have a return value in an expression ?\n",
    "- Yes it is possible. \n",
    "  result = add(10,20) * 3 \n",
    "  This arithmetic operation is possible where the result of add(i.e) 30 is multiplied with 3. Result would be 90."
   ]
  },
  {
   "cell_type": "markdown",
   "metadata": {},
   "source": [
    "**8. If a function does not have a return statement, what is the return value of a call to that function?\n",
    "- NoneType"
   ]
  },
  {
   "cell_type": "markdown",
   "metadata": {},
   "source": [
    "**9. How do you make a function variable refer to the global variable?\n",
    "\n",
    "- Define the global variable first \n",
    "- create a function, use the global variable name created for any operations performed in the function. \n",
    "```python\n",
    "x = 10 #defining the global variable \n",
    "def test(var1):\n",
    "    res = x + var1 #using the global variable defined for operation\n",
    "    return res\n",
    "```\n"
   ]
  },
  {
   "cell_type": "markdown",
   "metadata": {},
   "source": [
    "**10. What is the data type of None?\n",
    "- NoneType"
   ]
  },
  {
   "cell_type": "markdown",
   "metadata": {},
   "source": [
    "11. What does the sentence import areallyourpetsnamederic do?\n",
    "\n",
    "- It imports all the functionality that is defined in areallyourpetsnamederic"
   ]
  },
  {
   "cell_type": "markdown",
   "metadata": {},
   "source": [
    "**12. If you had a bacon() feature in a spam module, what would you call it after importing spam?\n",
    "```python\n",
    "import spam\n",
    "spam.bacon()\n",
    "``` "
   ]
  },
  {
   "cell_type": "markdown",
   "metadata": {},
   "source": [
    "**13. What can you do to save a programme from crashing if it encounters an error?\n",
    "\n",
    "- We can create a try, Exception block in order save the programme from crashing."
   ]
  },
  {
   "cell_type": "code",
   "execution_count": 40,
   "metadata": {},
   "outputs": [
    {
     "name": "stdout",
     "output_type": "stream",
     "text": [
      "Provide your input :10\n"
     ]
    },
    {
     "ename": "TypeError",
     "evalue": "unsupported operand type(s) for +: 'int' and 'str'",
     "output_type": "error",
     "traceback": [
      "\u001b[1;31m---------------------------------------------------------------------------\u001b[0m",
      "\u001b[1;31mTypeError\u001b[0m                                 Traceback (most recent call last)",
      "\u001b[1;32m<ipython-input-40-408375663dc1>\u001b[0m in \u001b[0;36m<module>\u001b[1;34m\u001b[0m\n\u001b[0;32m      1\u001b[0m \u001b[1;31m#Without try-except block\u001b[0m\u001b[1;33m\u001b[0m\u001b[1;33m\u001b[0m\u001b[1;33m\u001b[0m\u001b[0m\n\u001b[0;32m      2\u001b[0m \u001b[0mget_inp\u001b[0m \u001b[1;33m=\u001b[0m \u001b[0mint\u001b[0m\u001b[1;33m(\u001b[0m\u001b[0minput\u001b[0m\u001b[1;33m(\u001b[0m\u001b[1;34m'Provide your input :'\u001b[0m\u001b[1;33m)\u001b[0m\u001b[1;33m)\u001b[0m\u001b[1;33m\u001b[0m\u001b[1;33m\u001b[0m\u001b[0m\n\u001b[1;32m----> 3\u001b[1;33m \u001b[0mresult\u001b[0m \u001b[1;33m=\u001b[0m \u001b[0mget_inp\u001b[0m \u001b[1;33m+\u001b[0m \u001b[1;34m'JB'\u001b[0m\u001b[1;33m\u001b[0m\u001b[1;33m\u001b[0m\u001b[0m\n\u001b[0m\u001b[0;32m      4\u001b[0m \u001b[0mprint\u001b[0m\u001b[1;33m(\u001b[0m\u001b[0mresult\u001b[0m\u001b[1;33m)\u001b[0m\u001b[1;33m\u001b[0m\u001b[1;33m\u001b[0m\u001b[0m\n",
      "\u001b[1;31mTypeError\u001b[0m: unsupported operand type(s) for +: 'int' and 'str'"
     ]
    }
   ],
   "source": [
    "#Without try-except block\n",
    "get_inp = int(input('Provide your input :'))\n",
    "result = get_inp + 'JB'\n",
    "print(result)"
   ]
  },
  {
   "cell_type": "code",
   "execution_count": 38,
   "metadata": {},
   "outputs": [
    {
     "name": "stdout",
     "output_type": "stream",
     "text": [
      "Provide your input :10\n",
      "There is some issue with the input, check and provide again\n"
     ]
    }
   ],
   "source": [
    "# Including the try except block. \n",
    "# Intimating the user that there is some issue with the input provided. \n",
    "get_inp = int(input('Provide your input :'))\n",
    "\n",
    "try:\n",
    "    result = get_inp + 'JB'\n",
    "    print(result)\n",
    "except Exception as e:\n",
    "    print('There is some issue with the input, check and provide again')"
   ]
  },
  {
   "cell_type": "markdown",
   "metadata": {},
   "source": [
    "**14. What is the purpose of the try clause? What is the purpose of the except clause?"
   ]
  },
  {
   "cell_type": "markdown",
   "metadata": {},
   "source": [
    "## Purpose of try and except block \n",
    "\n",
    "|Try|Except|\n",
    "| --- | --- |\n",
    "| Try is the section where we would provide the piece of code that needs to be executed (i.e.) The actual logic/program to be executed | Except is a section which would get executed/activated if there is any issue with the Try block | \n",
    "| Both are used to avoid a program from crashing in case of any issues with the input provided | There are different types of Exceptions that are present, that can be used based on the logic we are executing in the try block."
   ]
  }
 ],
 "metadata": {
  "kernelspec": {
   "display_name": "Python 3",
   "language": "python",
   "name": "python3"
  },
  "language_info": {
   "codemirror_mode": {
    "name": "ipython",
    "version": 3
   },
   "file_extension": ".py",
   "mimetype": "text/x-python",
   "name": "python",
   "nbconvert_exporter": "python",
   "pygments_lexer": "ipython3",
   "version": "3.8.5"
  }
 },
 "nbformat": 4,
 "nbformat_minor": 4
}

{
 "cells": [
  {
   "cell_type": "markdown",
   "metadata": {},
   "source": [
    "1.\tWrite a Python program to find sum of elements in list?"
   ]
  },
  {
   "cell_type": "code",
   "execution_count": 1,
   "metadata": {},
   "outputs": [],
   "source": [
    "lst1= [1,2,3,4,5,6]"
   ]
  },
  {
   "cell_type": "code",
   "execution_count": 2,
   "metadata": {},
   "outputs": [
    {
     "name": "stdout",
     "output_type": "stream",
     "text": [
      "The sum of elements in list [1, 2, 3, 4, 5, 6] is : 21\n"
     ]
    }
   ],
   "source": [
    "#method -1 using sum function \n",
    "print(f'The sum of elements in list {lst1} is :', sum(lst1))"
   ]
  },
  {
   "cell_type": "code",
   "execution_count": 3,
   "metadata": {},
   "outputs": [
    {
     "name": "stdout",
     "output_type": "stream",
     "text": [
      "The sum of elements in the list [1, 2, 3, 4, 5, 6] is : 21\n"
     ]
    }
   ],
   "source": [
    "#method - 2 - Looping through each element of list \n",
    "\n",
    "sum_lst = 0\n",
    "for items in lst1:\n",
    "    sum_lst = sum_lst + items\n",
    "print(f'The sum of elements in the list {lst1} is :',sum_lst)\n",
    "    "
   ]
  },
  {
   "cell_type": "markdown",
   "metadata": {},
   "source": [
    "2.\tWrite a Python program to  Multiply all numbers in the list?"
   ]
  },
  {
   "cell_type": "code",
   "execution_count": 9,
   "metadata": {},
   "outputs": [
    {
     "name": "stdout",
     "output_type": "stream",
     "text": [
      "The sum of elements in the list [1, 2, 3, 4, 5, 6] is : 720\n"
     ]
    }
   ],
   "source": [
    "mul_lst = 1\n",
    "for items in lst1:\n",
    "    mul_lst = mul_lst * items\n",
    "print(f'The sum of elements in the list {lst1} is :',mul_lst)"
   ]
  },
  {
   "cell_type": "markdown",
   "metadata": {},
   "source": [
    "3.\tWrite a Python program to find smallest number in a list?"
   ]
  },
  {
   "cell_type": "code",
   "execution_count": 11,
   "metadata": {},
   "outputs": [],
   "source": [
    "lst2 = [2,56,-1,0,45,77,999,5]"
   ]
  },
  {
   "cell_type": "code",
   "execution_count": 13,
   "metadata": {},
   "outputs": [
    {
     "data": {
      "text/plain": [
       "-1"
      ]
     },
     "execution_count": 13,
     "metadata": {},
     "output_type": "execute_result"
    }
   ],
   "source": [
    "#Method 1 - Using the inbuilt function \n",
    "min(lst2)"
   ]
  },
  {
   "cell_type": "code",
   "execution_count": 14,
   "metadata": {},
   "outputs": [
    {
     "name": "stdout",
     "output_type": "stream",
     "text": [
      "The smallest number in the list [2, 56, -1, 0, 45, 77, 999, 5] is :  -1\n"
     ]
    }
   ],
   "source": [
    "#method 2 - Loopin through the list \n",
    "\n",
    "min_val = 0 \n",
    "for items in lst2:\n",
    "    if items < min_val:\n",
    "        min_val = items\n",
    "    else:\n",
    "        pass\n",
    "print(f'The smallest number in the list {lst2} is : ',min_val)"
   ]
  },
  {
   "cell_type": "markdown",
   "metadata": {},
   "source": [
    "4.\tWrite a Python program to find largest number in a list?"
   ]
  },
  {
   "cell_type": "code",
   "execution_count": 15,
   "metadata": {},
   "outputs": [
    {
     "data": {
      "text/plain": [
       "999"
      ]
     },
     "execution_count": 15,
     "metadata": {},
     "output_type": "execute_result"
    }
   ],
   "source": [
    "#Method 1 - Using the inbuilt function \n",
    "max(lst2)"
   ]
  },
  {
   "cell_type": "code",
   "execution_count": 17,
   "metadata": {},
   "outputs": [
    {
     "name": "stdout",
     "output_type": "stream",
     "text": [
      "The smallest number in the list [2, 56, -1, 0, 45, 77, 999, 5] is :  999\n"
     ]
    }
   ],
   "source": [
    "#method 2 - Loopin through the list \n",
    "\n",
    "max_val = 0 \n",
    "for items in lst2:\n",
    "    if items > max_val:\n",
    "        max_val = items\n",
    "    else:\n",
    "        pass\n",
    "print(f'The smallest number in the list {lst2} is : ',max_val)"
   ]
  },
  {
   "cell_type": "markdown",
   "metadata": {},
   "source": [
    "5.\tWrite a Python program to find second largest number in a list?"
   ]
  },
  {
   "cell_type": "code",
   "execution_count": 57,
   "metadata": {},
   "outputs": [],
   "source": [
    "def second_largest_num(inp_list):\n",
    "    new_list=list()\n",
    "    while len(inp_list)>=1:\n",
    "        max_item=max(inp_list)\n",
    "        new_list.append(max_item)\n",
    "        inp_list.remove(max_item)\n",
    "    print('The second largest element is :',new_list[1])\n",
    "    return new_list"
   ]
  },
  {
   "cell_type": "code",
   "execution_count": 58,
   "metadata": {},
   "outputs": [
    {
     "name": "stdout",
     "output_type": "stream",
     "text": [
      "The second largest element is : 67\n"
     ]
    },
    {
     "data": {
      "text/plain": [
       "[89, 67, 56, 45, 34, 23]"
      ]
     },
     "execution_count": 58,
     "metadata": {},
     "output_type": "execute_result"
    }
   ],
   "source": [
    "second_largest_num([23,45,67,89,34,56])"
   ]
  },
  {
   "cell_type": "markdown",
   "metadata": {},
   "source": [
    "6.\tWrite a Python program to find N largest elements from a list?"
   ]
  },
  {
   "cell_type": "code",
   "execution_count": 68,
   "metadata": {},
   "outputs": [],
   "source": [
    "def find_largest_elements(lst, n):\n",
    "    sorted_list = sorted(lst, reverse=True)\n",
    "    return sorted_list[:n]\n"
   ]
  },
  {
   "cell_type": "code",
   "execution_count": 69,
   "metadata": {},
   "outputs": [
    {
     "name": "stdout",
     "output_type": "stream",
     "text": [
      "[9, 8, 7]\n"
     ]
    }
   ],
   "source": [
    "lst = [3, 5, 1, 9, 7, 2, 8, 4, 6]\n",
    "n = 3\n",
    "largest_elements = find_largest_elements(lst, n)\n",
    "print(largest_elements) "
   ]
  },
  {
   "cell_type": "markdown",
   "metadata": {},
   "source": [
    "7.\tWrite a Python program to print even numbers in a list?"
   ]
  },
  {
   "cell_type": "code",
   "execution_count": 59,
   "metadata": {},
   "outputs": [],
   "source": [
    "def print_even_numbers(lst):\n",
    "    for num in lst:\n",
    "        if num % 2 == 0:\n",
    "            print(num)"
   ]
  },
  {
   "cell_type": "code",
   "execution_count": 60,
   "metadata": {},
   "outputs": [
    {
     "name": "stdout",
     "output_type": "stream",
     "text": [
      "2\n",
      "4\n",
      "6\n",
      "8\n",
      "10\n"
     ]
    }
   ],
   "source": [
    "my_list = [1, 2, 3, 4, 5, 6, 7, 8, 9, 10]\n",
    "print_even_numbers(my_list)\n"
   ]
  },
  {
   "cell_type": "markdown",
   "metadata": {},
   "source": [
    "8.\tWrite a Python program to print odd numbers in a List?"
   ]
  },
  {
   "cell_type": "code",
   "execution_count": 61,
   "metadata": {},
   "outputs": [
    {
     "name": "stdout",
     "output_type": "stream",
     "text": [
      "1\n",
      "3\n",
      "5\n",
      "7\n",
      "9\n"
     ]
    }
   ],
   "source": [
    "my_list = [1, 2, 3, 4, 5, 6, 7, 8, 9, 10]\n",
    "\n",
    "# Using for loop and modulo operator to print odd numbers\n",
    "for num in my_list:\n",
    "    if num % 2 != 0:\n",
    "        print(num)\n"
   ]
  },
  {
   "cell_type": "markdown",
   "metadata": {},
   "source": [
    "9.\tWrite a Python program to Remove empty List from List?"
   ]
  },
  {
   "cell_type": "code",
   "execution_count": 62,
   "metadata": {},
   "outputs": [
    {
     "name": "stdout",
     "output_type": "stream",
     "text": [
      "[[1, 2, 3], [4, 5], [6], [7, 8, 9]]\n"
     ]
    }
   ],
   "source": [
    "original_list = [[], [1, 2, 3], [], [4, 5], [], [], [6], [7, 8, 9], []]\n",
    "\n",
    "new_list = [x for x in original_list if x]\n",
    "\n",
    "print(new_list)\n"
   ]
  },
  {
   "cell_type": "markdown",
   "metadata": {},
   "source": [
    "10.\tWrite a Python program to Cloning or Copying a list?"
   ]
  },
  {
   "cell_type": "code",
   "execution_count": 63,
   "metadata": {},
   "outputs": [
    {
     "name": "stdout",
     "output_type": "stream",
     "text": [
      "Old List: [1, 2, 3]\n",
      "New List: [1, 2, 3]\n"
     ]
    }
   ],
   "source": [
    "old_list = [1, 2, 3]\n",
    "new_list = old_list.copy()\n",
    "print(\"Old List:\", old_list) \n",
    "print(\"New List:\", new_list)\n"
   ]
  },
  {
   "cell_type": "markdown",
   "metadata": {},
   "source": [
    "11.\tWrite a Python program to Count occurrences of an element in a list?"
   ]
  },
  {
   "cell_type": "code",
   "execution_count": 65,
   "metadata": {},
   "outputs": [],
   "source": [
    "def count_occurrences(lst, x):\n",
    "    return lst.count(x)\n"
   ]
  },
  {
   "cell_type": "code",
   "execution_count": 66,
   "metadata": {},
   "outputs": [
    {
     "name": "stdout",
     "output_type": "stream",
     "text": [
      "The number of occurrences of 2 in the list is 3.\n"
     ]
    }
   ],
   "source": [
    "lst = [1, 2, 3, 2, 4, 2, 5]\n",
    "x = 2\n",
    "count = count_occurrences(lst, x)\n",
    "print(f\"The number of occurrences of {x} in the list is {count}.\")"
   ]
  }
 ],
 "metadata": {
  "kernelspec": {
   "display_name": "Python 3",
   "language": "python",
   "name": "python3"
  },
  "language_info": {
   "codemirror_mode": {
    "name": "ipython",
    "version": 3
   },
   "file_extension": ".py",
   "mimetype": "text/x-python",
   "name": "python",
   "nbconvert_exporter": "python",
   "pygments_lexer": "ipython3",
   "version": "3.8.5"
  }
 },
 "nbformat": 4,
 "nbformat_minor": 4
}

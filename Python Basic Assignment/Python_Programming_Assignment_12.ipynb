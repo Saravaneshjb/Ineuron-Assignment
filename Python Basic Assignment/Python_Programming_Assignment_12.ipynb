{
 "cells": [
  {
   "cell_type": "markdown",
   "id": "575fc7ee",
   "metadata": {},
   "source": [
    "1.\tWrite a Python program to Extract Unique values dictionary values?"
   ]
  },
  {
   "cell_type": "code",
   "execution_count": 73,
   "id": "03f1ebbc",
   "metadata": {},
   "outputs": [],
   "source": [
    "my_dict2={'key1':[1,2,3,4,5],'key2':[2,3,4.5],'key3':47}"
   ]
  },
  {
   "cell_type": "code",
   "execution_count": 75,
   "id": "cedd0ab6",
   "metadata": {},
   "outputs": [
    {
     "name": "stdout",
     "output_type": "stream",
     "text": [
      "{'key1': [1, 2, 3, 4, 5], 'key2': [2, 3, 4.5], 'key3': 47}\n",
      "[1, 2, 3, 4, 5, 4.5, 47]\n"
     ]
    }
   ],
   "source": [
    "print(my_dict2)\n",
    "my_list=list()\n",
    "for vals in my_dict2.values():\n",
    "    if isinstance(vals,(list,tuple,set)):\n",
    "        my_list.extend(vals)\n",
    "    else:\n",
    "        my_list.append(vals)\n",
    "\n",
    "my_list=list(set(my_list))\n",
    "print(my_list)"
   ]
  },
  {
   "cell_type": "markdown",
   "id": "0ab24748",
   "metadata": {},
   "source": [
    "2.\tWrite a Python program to find the sum of all items in a dictionary?"
   ]
  },
  {
   "cell_type": "code",
   "execution_count": 1,
   "id": "d47dbe82",
   "metadata": {},
   "outputs": [],
   "source": [
    "my_dict2={'key1':[1,2,3,4,5],'key2':[2.5,3.5,4.5],'key3':47}"
   ]
  },
  {
   "cell_type": "code",
   "execution_count": 23,
   "id": "d6201740",
   "metadata": {},
   "outputs": [
    {
     "data": {
      "text/plain": [
       "dict_items([('key1', [1, 2, 3, 4, 5]), ('key2', [2.5, 3.5, 4.5]), ('key3', 47)])"
      ]
     },
     "execution_count": 23,
     "metadata": {},
     "output_type": "execute_result"
    }
   ],
   "source": [
    "my_dict2.items()"
   ]
  },
  {
   "cell_type": "code",
   "execution_count": 28,
   "id": "92e7945c",
   "metadata": {},
   "outputs": [
    {
     "name": "stdout",
     "output_type": "stream",
     "text": [
      "72.5\n"
     ]
    }
   ],
   "source": [
    "sum_of_elements=0\n",
    "for key,vals in my_dict2.items():\n",
    "    if isinstance(vals,(list,tuple,set)):\n",
    "#         print(f'{vals} Its an iterable of type list/tuple/set')\n",
    "        for elements in vals:\n",
    "            sum_of_elements=sum_of_elements+elements\n",
    "    elif isinstance(vals,(dict)):\n",
    "#         print(f'{vals} Its an iterable of type dictionary')\n",
    "        for key, values in vals:\n",
    "            if isinstance(values,(list,tuple,set)):\n",
    "                for elem in values:\n",
    "                    sum_of_elements=sum_of_elements+elem\n",
    "    else:\n",
    "        sum_of_elements=sum_of_elements+vals\n",
    "#         print(f'{vals} Its not an iterable')\n",
    "print(sum_of_elements)"
   ]
  },
  {
   "cell_type": "markdown",
   "id": "1649f396",
   "metadata": {},
   "source": [
    "3.\tWrite a Python program to Merging two Dictionaries?"
   ]
  },
  {
   "cell_type": "code",
   "execution_count": 35,
   "id": "ff6d3e41",
   "metadata": {},
   "outputs": [
    {
     "name": "stdout",
     "output_type": "stream",
     "text": [
      "{'key1': 34, 'key2': 'sde', 'key3': {1, 2, 3, 4}, 'key4': (3, 4, 5), 'key7': 78, 'key8': 9.8, 'key10': ['res', 'der']}\n"
     ]
    }
   ],
   "source": [
    "dict1 = {'key1': [1, 2, 3, 4], 'key2': [1.2, 3.4, 4.5], 'key3': {1, 2, 3, 4}, 'key4': (3, 4, 5)}\n",
    "dict2 = {'key1': 34, 'key2': ('sde'), 'key7': 78, 'key8': 9.8, 'key10': ['res', 'der']}\n",
    "\n",
    "for key, value in dict2.items():\n",
    "    if key in dict1:\n",
    "        if isinstance(dict1[key], list) and isinstance(value, list):\n",
    "            dict1[key].extend(value)\n",
    "        elif isinstance(dict1[key], tuple) and isinstance(value, tuple):\n",
    "            dict1[key] = dict1[key] + value\n",
    "        elif isinstance(dict1[key], set) and isinstance(value, set):\n",
    "            dict1[key].update(value)\n",
    "        else:\n",
    "            dict1[key] = value\n",
    "    else:\n",
    "        dict1[key] = value\n",
    "\n",
    "print(dict1)\n"
   ]
  },
  {
   "cell_type": "markdown",
   "id": "f9d214fc",
   "metadata": {},
   "source": [
    "4.\tWrite a Python program to convert key-values list to flat dictionary?"
   ]
  },
  {
   "cell_type": "code",
   "execution_count": 36,
   "id": "3c3ec91e",
   "metadata": {},
   "outputs": [
    {
     "name": "stdout",
     "output_type": "stream",
     "text": [
      "{'key1': 1, 'key2': 2, 'key3': 3, 'key4': 4}\n"
     ]
    }
   ],
   "source": [
    "key_values = [(\"key1\", 1), (\"key2\", 2), (\"key3\", 3), (\"key4\", 4)]\n",
    "\n",
    "flat_dict = {}\n",
    "\n",
    "for key, value in key_values:\n",
    "    flat_dict[key] = value\n",
    "\n",
    "print(flat_dict)\n"
   ]
  },
  {
   "cell_type": "markdown",
   "id": "a816b79a",
   "metadata": {},
   "source": [
    "5.\tWrite a Python program to insertion at the beginning in OrderedDict?"
   ]
  },
  {
   "cell_type": "code",
   "execution_count": 37,
   "id": "57013ce2",
   "metadata": {},
   "outputs": [
    {
     "name": "stdout",
     "output_type": "stream",
     "text": [
      "OrderedDict([('d', 4), ('a', 1), ('b', 2), ('c', 3)])\n"
     ]
    }
   ],
   "source": [
    "from collections import OrderedDict\n",
    "\n",
    "# create an OrderedDict\n",
    "ordered_dict = OrderedDict([('a', 1), ('b', 2), ('c', 3)])\n",
    "\n",
    "# add a new key-value pair at the beginning of the OrderedDict\n",
    "ordered_dict.update({'d': 4})\n",
    "ordered_dict.move_to_end('d', last=False)\n",
    "\n",
    "# print the updated OrderedDict\n",
    "print(ordered_dict)\n"
   ]
  },
  {
   "cell_type": "markdown",
   "id": "323c9139",
   "metadata": {},
   "source": [
    "6.\tWrite a Python program to check order of character in string using OrderedDict()?"
   ]
  },
  {
   "cell_type": "code",
   "execution_count": 54,
   "id": "d4bc0957",
   "metadata": {},
   "outputs": [],
   "source": [
    "def checkOrder(input, pattern):\n",
    "     \n",
    "    # create empty OrderedDict\n",
    "    # output will be like {'a': None,'b': None, 'c': None}\n",
    "    dict = OrderedDict.fromkeys(input)\n",
    " \n",
    "    # traverse generated OrderedDict parallel with\n",
    "    # pattern string to check if order of characters\n",
    "    # are same or not\n",
    "    ptrlen = 0\n",
    "    for key,value in dict.items():\n",
    "        if (key == pattern[ptrlen]):\n",
    "            ptrlen = ptrlen + 1\n",
    "         \n",
    "        # check if we have traverse complete\n",
    "        # pattern string\n",
    "        if (ptrlen == (len(pattern))):\n",
    "            return 'true'\n",
    " \n",
    "    # if we come out from for loop that means\n",
    "    # order was mismatched\n",
    "    return 'false'"
   ]
  },
  {
   "cell_type": "code",
   "execution_count": 55,
   "id": "8f007397",
   "metadata": {},
   "outputs": [
    {
     "name": "stdout",
     "output_type": "stream",
     "text": [
      "true\n"
     ]
    }
   ],
   "source": [
    "input = 'engineers rock'\n",
    "pattern = 'er'\n",
    "print (checkOrder(input,pattern))"
   ]
  },
  {
   "cell_type": "markdown",
   "id": "0959393e",
   "metadata": {},
   "source": [
    "7.\tWrite a Python program to sort Python Dictionaries by Key or Value?"
   ]
  },
  {
   "cell_type": "code",
   "execution_count": 61,
   "id": "0e6e66e0",
   "metadata": {},
   "outputs": [],
   "source": [
    "def sort_dict(dict_name,type_of_sort):\n",
    "    if type_of_sort=='key':\n",
    "        sorted_dict = dict(sorted(unsorted_dict.items()))\n",
    "    elif type_of_sort=='value':\n",
    "        sorted_dict = dict(sorted(unsorted_dict.items(), key=lambda item: item[1]))\n",
    "    else:\n",
    "        print('Provide a proper input')\n",
    "    return sorted_dict"
   ]
  },
  {
   "cell_type": "code",
   "execution_count": 59,
   "id": "12a013c8",
   "metadata": {},
   "outputs": [],
   "source": [
    "unsorted_dict = {'b': 3, 'a': 2, 'd': 1, 'c': 4}\n",
    "type_of_sort='key'"
   ]
  },
  {
   "cell_type": "code",
   "execution_count": 60,
   "id": "b024d24c",
   "metadata": {},
   "outputs": [
    {
     "data": {
      "text/plain": [
       "{'a': 2, 'b': 3, 'c': 4, 'd': 1}"
      ]
     },
     "execution_count": 60,
     "metadata": {},
     "output_type": "execute_result"
    }
   ],
   "source": [
    "sort_dict(unsorted_dict,type_of_sort)"
   ]
  },
  {
   "cell_type": "code",
   "execution_count": 62,
   "id": "e3f0aef0",
   "metadata": {},
   "outputs": [],
   "source": [
    "unsorted_dict = {'b': 3, 'a': 2, 'd': 1, 'c': 4}\n",
    "type_of_sort='value'"
   ]
  },
  {
   "cell_type": "code",
   "execution_count": 63,
   "id": "888c74c7",
   "metadata": {},
   "outputs": [
    {
     "data": {
      "text/plain": [
       "{'d': 1, 'a': 2, 'b': 3, 'c': 4}"
      ]
     },
     "execution_count": 63,
     "metadata": {},
     "output_type": "execute_result"
    }
   ],
   "source": [
    "sort_dict(unsorted_dict,type_of_sort)"
   ]
  }
 ],
 "metadata": {
  "kernelspec": {
   "display_name": "Python 3 (ipykernel)",
   "language": "python",
   "name": "python3"
  },
  "language_info": {
   "codemirror_mode": {
    "name": "ipython",
    "version": 3
   },
   "file_extension": ".py",
   "mimetype": "text/x-python",
   "name": "python",
   "nbconvert_exporter": "python",
   "pygments_lexer": "ipython3",
   "version": "3.10.9"
  }
 },
 "nbformat": 4,
 "nbformat_minor": 5
}

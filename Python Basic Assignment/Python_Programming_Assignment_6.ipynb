{
 "cells": [
  {
   "cell_type": "markdown",
   "metadata": {},
   "source": [
    "### 1.\tWrite a Python Program to Display Fibonacci Sequence Using Recursion?"
   ]
  },
  {
   "cell_type": "code",
   "execution_count": 11,
   "metadata": {},
   "outputs": [],
   "source": [
    "def fibonacci(n):\n",
    "    if n <= 1:\n",
    "        return n\n",
    "    else:\n",
    "        return fibonacci(n-1) + fibonacci(n-2)"
   ]
  },
  {
   "cell_type": "code",
   "execution_count": 13,
   "metadata": {},
   "outputs": [
    {
     "name": "stdout",
     "output_type": "stream",
     "text": [
      "Enter the number to get the fibonnaci series :5\n"
     ]
    }
   ],
   "source": [
    "fib_num = int(input('Enter the number to get the fibonnaci series :'))"
   ]
  },
  {
   "cell_type": "code",
   "execution_count": 14,
   "metadata": {},
   "outputs": [
    {
     "name": "stdout",
     "output_type": "stream",
     "text": [
      "0\n",
      "1\n",
      "1\n",
      "2\n",
      "3\n"
     ]
    }
   ],
   "source": [
    "for i in range(fib_num):\n",
    "    print(fibonacci(i))"
   ]
  },
  {
   "cell_type": "markdown",
   "metadata": {},
   "source": [
    "### 2.\tWrite a Python Program to Find Factorial of Number Using Recursion?"
   ]
  },
  {
   "cell_type": "code",
   "execution_count": 9,
   "metadata": {},
   "outputs": [],
   "source": [
    "def factorial(n):\n",
    "    if n == 0:\n",
    "        return 1\n",
    "    else:\n",
    "        return n * factorial(n-1)"
   ]
  },
  {
   "cell_type": "code",
   "execution_count": 10,
   "metadata": {},
   "outputs": [
    {
     "data": {
      "text/plain": [
       "24"
      ]
     },
     "execution_count": 10,
     "metadata": {},
     "output_type": "execute_result"
    }
   ],
   "source": [
    "factorial(4)"
   ]
  },
  {
   "cell_type": "markdown",
   "metadata": {},
   "source": [
    "### 3.\tWrite a Python Program to calculate your Body Mass Index?"
   ]
  },
  {
   "cell_type": "code",
   "execution_count": 10,
   "metadata": {},
   "outputs": [],
   "source": [
    "def body_mass_index():\n",
    "    '''\n",
    "    This function determines the body_mass_index based on the height(in meteres) and weight(in Kilograms).\n",
    "    height : float : The height of an individual in metres\n",
    "    weight : int : The weight of individual in metres\n",
    "    '''\n",
    "    weight = float(input('Enter your weight in Kilograms : '))\n",
    "    height = float(input('Enter your height in metres : '))\n",
    "    while weight==0 or height==0:\n",
    "        print('The weight of height cannot be zero provide proper height/weight')\n",
    "        weight = float(input('Enter your weight in Kilograms : '))\n",
    "        height = float(input('Enter your height in metres : '))\n",
    "    bmi = weight / (height)**2\n",
    "    print('The bmi is :',bmi)\n",
    "    return bmi"
   ]
  },
  {
   "cell_type": "code",
   "execution_count": 11,
   "metadata": {},
   "outputs": [
    {
     "name": "stdout",
     "output_type": "stream",
     "text": [
      "Enter your weight in Kilograms : 95\n",
      "Enter your height in metres : 0\n",
      "The weight of height cannot be zero provide proper height/weight\n",
      "Enter your weight in Kilograms : 95\n",
      "Enter your height in metres : 3.25\n",
      "The bmi is : 8.994082840236686\n"
     ]
    },
    {
     "data": {
      "text/plain": [
       "8.994082840236686"
      ]
     },
     "execution_count": 11,
     "metadata": {},
     "output_type": "execute_result"
    }
   ],
   "source": [
    "body_mass_index()"
   ]
  },
  {
   "cell_type": "markdown",
   "metadata": {},
   "source": [
    "### 4.\tWrite a Python Program to calculate the natural logarithm of any number?"
   ]
  },
  {
   "cell_type": "code",
   "execution_count": 25,
   "metadata": {},
   "outputs": [],
   "source": [
    "import math \n",
    "import cmath \n",
    "\n",
    "def calc_natural_log():\n",
    "    '''\n",
    "    Function to calculate the natural logarithm of the number.\n",
    "    '''\n",
    "    num=input('Enter the number to calculate natural logarithm :')\n",
    "    if '+' in num:\n",
    "        num=complex(num)\n",
    "        log_res=cmath.log(num)\n",
    "        print('The Natural Log of the number is :',log_res)\n",
    "    elif '.' in num:\n",
    "        num=float(num)\n",
    "        log_res=math.log(num)\n",
    "        print('The Natural Log of the number is :',log_res)\n",
    "    else:\n",
    "        num=int(num)\n",
    "        log_res=math.log(num)\n",
    "        print('The Natural Log of the number is :',log_res)\n",
    "    return log_res"
   ]
  },
  {
   "cell_type": "code",
   "execution_count": 22,
   "metadata": {},
   "outputs": [
    {
     "name": "stdout",
     "output_type": "stream",
     "text": [
      "Enter the number to calculate natural logarithm :23\n",
      "The Natural Log of the number is : 3.1354942159291497\n"
     ]
    },
    {
     "data": {
      "text/plain": [
       "3.1354942159291497"
      ]
     },
     "execution_count": 22,
     "metadata": {},
     "output_type": "execute_result"
    }
   ],
   "source": [
    "calc_natural_log()"
   ]
  },
  {
   "cell_type": "code",
   "execution_count": 23,
   "metadata": {},
   "outputs": [
    {
     "name": "stdout",
     "output_type": "stream",
     "text": [
      "Enter the number to calculate natural logarithm :3.56\n",
      "The Natural Log of the number is : 1.269760544863939\n"
     ]
    },
    {
     "data": {
      "text/plain": [
       "1.269760544863939"
      ]
     },
     "execution_count": 23,
     "metadata": {},
     "output_type": "execute_result"
    }
   ],
   "source": [
    "calc_natural_log()"
   ]
  },
  {
   "cell_type": "code",
   "execution_count": 24,
   "metadata": {
    "scrolled": true
   },
   "outputs": [
    {
     "name": "stdout",
     "output_type": "stream",
     "text": [
      "Enter the number to calculate natural logarithm :3+2j\n",
      "The Natural Log of the number is : (1.2824746787307684+0.5880026035475675j)\n"
     ]
    },
    {
     "data": {
      "text/plain": [
       "(1.2824746787307684+0.5880026035475675j)"
      ]
     },
     "execution_count": 24,
     "metadata": {},
     "output_type": "execute_result"
    }
   ],
   "source": [
    "calc_natural_log()"
   ]
  },
  {
   "cell_type": "markdown",
   "metadata": {},
   "source": [
    "### 5.\tWrite a Python Program for cube sum of first n natural numbers?"
   ]
  },
  {
   "cell_type": "code",
   "execution_count": 1,
   "metadata": {},
   "outputs": [],
   "source": [
    "def sum_of_natural_num():\n",
    "    '''\n",
    "    Function to calculate cube sum of first n natural numbers\n",
    "    '''\n",
    "    num=int(input('Enter a natural number to get the sum of cubes :'))\n",
    "    sum_1=0\n",
    "    for i in range(1,num+1):\n",
    "        sum_1 = sum_1 + i**3\n",
    "    return sum_1"
   ]
  },
  {
   "cell_type": "code",
   "execution_count": 4,
   "metadata": {},
   "outputs": [
    {
     "name": "stdout",
     "output_type": "stream",
     "text": [
      "Enter a natural number to get the sum of cubes :3\n"
     ]
    },
    {
     "data": {
      "text/plain": [
       "36"
      ]
     },
     "execution_count": 4,
     "metadata": {},
     "output_type": "execute_result"
    }
   ],
   "source": [
    "sum_of_natural_num()"
   ]
  }
 ],
 "metadata": {
  "kernelspec": {
   "display_name": "Python 3",
   "language": "python",
   "name": "python3"
  },
  "language_info": {
   "codemirror_mode": {
    "name": "ipython",
    "version": 3
   },
   "file_extension": ".py",
   "mimetype": "text/x-python",
   "name": "python",
   "nbconvert_exporter": "python",
   "pygments_lexer": "ipython3",
   "version": "3.8.5"
  }
 },
 "nbformat": 4,
 "nbformat_minor": 4
}

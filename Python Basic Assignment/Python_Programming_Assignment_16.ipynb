{
 "cells": [
  {
   "cell_type": "markdown",
   "id": "a265909b",
   "metadata": {},
   "source": [
    "Question1. Write a function that stutters a word as if someone is struggling to read it. The first two letters are repeated twice with an ellipsis ... and space after each, and then the word is pronounced with a question mark ?.\n",
    "\n",
    "Examples\n",
    "\n",
    "stutter(\"incredible\") ➞ \"in... in... incredible?\"\n",
    "\n",
    "stutter(\"enthusiastic\") ➞ \"en... en... enthusiastic?\"\n",
    "\n",
    "stutter(\"outstanding\") ➞ \"ou... ou... outstanding?\"\n",
    "\n",
    "Hint :- Assume all input is in lower case and at least two characters long.\n"
   ]
  },
  {
   "cell_type": "code",
   "execution_count": 15,
   "id": "38068fd2",
   "metadata": {},
   "outputs": [],
   "source": [
    "def str_print_twice(my_str):\n",
    "    for i in range(3):\n",
    "        if i<=1:\n",
    "            print(my_str[0:2],end='..')\n",
    "        else:\n",
    "            print(my_str,end='?')"
   ]
  },
  {
   "cell_type": "code",
   "execution_count": 23,
   "id": "16aadd7a",
   "metadata": {},
   "outputs": [
    {
     "name": "stdout",
     "output_type": "stream",
     "text": [
      "in..in..incredible?\t\n",
      "en..en..enthusiastic?\t\n",
      "ou..ou..outstanding?"
     ]
    }
   ],
   "source": [
    "str_print_twice('incredible')\n",
    "print('\\t')\n",
    "str_print_twice('enthusiastic')\n",
    "print('\\t')\n",
    "str_print_twice('outstanding')"
   ]
  },
  {
   "cell_type": "markdown",
   "id": "6d5090b5",
   "metadata": {},
   "source": [
    "Question 2.Create a function that takes an angle in radians and returns the corresponding angle in degrees rounded to one decimal place.\n",
    "\n",
    "Examples\n",
    "\n",
    "radians_to_degrees(1) ➞ 57.3\n",
    "\n",
    "radians_to_degrees(20) ➞ 1145.9\n",
    "\n",
    "radians_to_degrees(50) ➞ 2864.8\n"
   ]
  },
  {
   "cell_type": "code",
   "execution_count": 42,
   "id": "525275fb",
   "metadata": {},
   "outputs": [],
   "source": [
    "def radians_to_degree(radians):\n",
    "    pi=3.14\n",
    "    degrees = radians * (180 / pi)\n",
    "    return round(degrees,1)"
   ]
  },
  {
   "cell_type": "code",
   "execution_count": 45,
   "id": "b6da014c",
   "metadata": {},
   "outputs": [
    {
     "name": "stdout",
     "output_type": "stream",
     "text": [
      "57.3\n",
      "1146.5\n",
      "2866.2\n"
     ]
    }
   ],
   "source": [
    "print(radians_to_degree(1))\n",
    "print(radians_to_degree(20))\n",
    "print(radians_to_degree(50))"
   ]
  },
  {
   "cell_type": "markdown",
   "id": "4056e57d",
   "metadata": {},
   "source": [
    "Question 3. \n",
    "\n",
    "In this challenge, establish if a given integer num is a Curzon number. If 1 plus 2 elevated to num is exactly divisible by 1 plus 2 multiplied by num, then num is a Curzon number.\n",
    "Given a non-negative integer num, implement a function that returns True if num is a Curzon number, or False otherwise.\n",
    "\n",
    "Examples\n",
    "\n",
    "is_curzon(5) ➞ True\n",
    " 2 ** 5 + 1 = 33\n",
    " 2 * 5 + 1 = 11\n",
    " 33 is a multiple of 11\n",
    "\n",
    "is_curzon(10) ➞ False\n",
    "2 ** 10 + 1 = 1025\n",
    "2 * 10 + 1 = 21\n",
    "1025 is not a multiple of 21\n",
    "\n",
    "is_curzon(14) ➞ True\n",
    "2 ** 14 + 1 = 16385\n",
    "2 * 14 + 1 = 29\n",
    "16385 is a multiple of 29\n"
   ]
  },
  {
   "cell_type": "code",
   "execution_count": 50,
   "id": "f53154f1",
   "metadata": {},
   "outputs": [],
   "source": [
    "def is_curzon(num):\n",
    "    if num == 0:\n",
    "        return False\n",
    "    else:\n",
    "        numerator = 2**num + 1\n",
    "        denominator = 2*num + 1\n",
    "        return numerator % denominator == 0"
   ]
  },
  {
   "cell_type": "code",
   "execution_count": 49,
   "id": "25b7ff9d",
   "metadata": {},
   "outputs": [
    {
     "data": {
      "text/plain": [
       "True"
      ]
     },
     "execution_count": 49,
     "metadata": {},
     "output_type": "execute_result"
    }
   ],
   "source": [
    "is_curzon(14)"
   ]
  },
  {
   "cell_type": "code",
   "execution_count": 51,
   "id": "bb7f85e3",
   "metadata": {},
   "outputs": [
    {
     "data": {
      "text/plain": [
       "False"
      ]
     },
     "execution_count": 51,
     "metadata": {},
     "output_type": "execute_result"
    }
   ],
   "source": [
    "is_curzon(10)"
   ]
  },
  {
   "cell_type": "code",
   "execution_count": 52,
   "id": "bcbbe9da",
   "metadata": {},
   "outputs": [
    {
     "data": {
      "text/plain": [
       "True"
      ]
     },
     "execution_count": 52,
     "metadata": {},
     "output_type": "execute_result"
    }
   ],
   "source": [
    "is_curzon(14)"
   ]
  },
  {
   "cell_type": "markdown",
   "id": "a6e7213f",
   "metadata": {},
   "source": [
    "Question 4.Given the side length x find the area of a hexagon."
   ]
  },
  {
   "cell_type": "code",
   "execution_count": 54,
   "id": "81f6d963",
   "metadata": {},
   "outputs": [],
   "source": [
    "import math\n",
    "\n",
    "def area_of_hexagon(s):\n",
    "    area = (3 * math.sqrt(3) * s ** 2) / 2\n",
    "    return area"
   ]
  },
  {
   "cell_type": "code",
   "execution_count": 55,
   "id": "c816dd8e",
   "metadata": {},
   "outputs": [
    {
     "name": "stdout",
     "output_type": "stream",
     "text": [
      "Area of hexagon with side length 5 is: 2.598076211353316\n",
      "Area of hexagon with side length 5 is: 10.392304845413264\n",
      "Area of hexagon with side length 5 is: 23.382685902179844\n"
     ]
    }
   ],
   "source": [
    "print(\"Area of hexagon with side length\", s, \"is:\", area_of_hexagon(1))\n",
    "print(\"Area of hexagon with side length\", s, \"is:\", area_of_hexagon(2))\n",
    "print(\"Area of hexagon with side length\", s, \"is:\", area_of_hexagon(3))"
   ]
  },
  {
   "cell_type": "markdown",
   "id": "3622948f",
   "metadata": {},
   "source": [
    "Question 5. \n",
    "\n",
    "Create a function that returns a base-2 (binary) representation of a base-10 (decimal) string number. To convert is simple: ((2) means base-2 and (10) means base-10) 010101001(2) = 1 + 8 + 32 + 128.\n",
    "Going from right to left, the value of the most right bit is 1, now from that every bit to the left will be x2 the value, value of an 8 bit binary numbers are (256, 128, 64, 32, 16, 8, 4, 2, 1).\n",
    "\n",
    "Examples\n",
    "binary(1) ➞ \"1\"\n",
    " 1*1 = 1\n",
    "\n",
    "binary(5) ➞ \"101\"\n",
    " 1*1 + 1*4 = 5\n",
    "\n",
    "binary(10) ➞ \"1010\"\n",
    " 1*2 + 1*8 = 10\n"
   ]
  },
  {
   "cell_type": "code",
   "execution_count": 57,
   "id": "24660783",
   "metadata": {},
   "outputs": [],
   "source": [
    "def decimal_to_binary(decimal_num):\n",
    "    binary_num = bin(decimal_num)[2:]\n",
    "    return binary_num"
   ]
  },
  {
   "cell_type": "code",
   "execution_count": 58,
   "id": "77248066",
   "metadata": {},
   "outputs": [
    {
     "data": {
      "text/plain": [
       "'1'"
      ]
     },
     "execution_count": 58,
     "metadata": {},
     "output_type": "execute_result"
    }
   ],
   "source": [
    "decimal_to_binary(1)"
   ]
  },
  {
   "cell_type": "code",
   "execution_count": 59,
   "id": "480d8b37",
   "metadata": {},
   "outputs": [
    {
     "data": {
      "text/plain": [
       "'101'"
      ]
     },
     "execution_count": 59,
     "metadata": {},
     "output_type": "execute_result"
    }
   ],
   "source": [
    "decimal_to_binary(5)"
   ]
  }
 ],
 "metadata": {
  "kernelspec": {
   "display_name": "Python 3 (ipykernel)",
   "language": "python",
   "name": "python3"
  },
  "language_info": {
   "codemirror_mode": {
    "name": "ipython",
    "version": 3
   },
   "file_extension": ".py",
   "mimetype": "text/x-python",
   "name": "python",
   "nbconvert_exporter": "python",
   "pygments_lexer": "ipython3",
   "version": "3.10.9"
  }
 },
 "nbformat": 4,
 "nbformat_minor": 5
}

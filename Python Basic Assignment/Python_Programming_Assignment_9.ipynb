{
 "cells": [
  {
   "cell_type": "markdown",
   "metadata": {},
   "source": [
    "1.\tWrite a Python program to check if the given number is a Disarium Number?"
   ]
  },
  {
   "cell_type": "code",
   "execution_count": 11,
   "metadata": {},
   "outputs": [],
   "source": [
    "def disarium_num():\n",
    "    num=input('Enter the number to check if its a Disarium Number or not :')\n",
    "    sum_of_num=0\n",
    "    for i in range(1,len(num)+1):\n",
    "        sum_of_num=sum_of_num+(int(num[i-1])**i)\n",
    "    if sum_of_num == int(num):\n",
    "        print(f'the {num} is a disarium number')\n",
    "    else:\n",
    "        print(f'the {num} is not a disarium number')"
   ]
  },
  {
   "cell_type": "code",
   "execution_count": 12,
   "metadata": {},
   "outputs": [
    {
     "name": "stdout",
     "output_type": "stream",
     "text": [
      "Enter the number to check if its a Disarium Number or not :135\n",
      "the 135 is a disarium number\n"
     ]
    }
   ],
   "source": [
    "disarium_num()"
   ]
  },
  {
   "cell_type": "code",
   "execution_count": 13,
   "metadata": {},
   "outputs": [
    {
     "name": "stdout",
     "output_type": "stream",
     "text": [
      "Enter the number to check if its a Disarium Number or not :89\n",
      "the 89 is a disarium number\n"
     ]
    }
   ],
   "source": [
    "disarium_num()"
   ]
  },
  {
   "cell_type": "code",
   "execution_count": 14,
   "metadata": {},
   "outputs": [
    {
     "name": "stdout",
     "output_type": "stream",
     "text": [
      "Enter the number to check if its a Disarium Number or not :234\n",
      "the 234 is not a disarium number\n"
     ]
    }
   ],
   "source": [
    "disarium_num()"
   ]
  },
  {
   "cell_type": "markdown",
   "metadata": {},
   "source": [
    "2.\tWrite a Python program to print all disarium numbers between 1 to 100?"
   ]
  },
  {
   "cell_type": "code",
   "execution_count": 11,
   "metadata": {},
   "outputs": [],
   "source": [
    "def disarium_num_1_to_100(start_range,end_range):\n",
    "    disarium_num=list()\n",
    "    for num in list(range(start_range,(end_range+1))):\n",
    "        num=str(num)\n",
    "        sum_of_num=0\n",
    "        for i in range(1,len(num)+1):\n",
    "            sum_of_num=sum_of_num+(int(num[i-1])**i)\n",
    "        if sum_of_num == int(num):\n",
    "#             print(f'the {num} is a disarium number')\n",
    "            disarium_num.append(sum_of_num)\n",
    "        else:\n",
    "            pass\n",
    "#             print(f'the {num} is not a disarium number\n",
    "    return disarium_num  "
   ]
  },
  {
   "cell_type": "code",
   "execution_count": 12,
   "metadata": {},
   "outputs": [],
   "source": [
    "disarium_num=disarium_num_1_to_100(1,100)"
   ]
  },
  {
   "cell_type": "code",
   "execution_count": 13,
   "metadata": {},
   "outputs": [
    {
     "data": {
      "text/plain": [
       "[1, 2, 3, 4, 5, 6, 7, 8, 9, 89]"
      ]
     },
     "execution_count": 13,
     "metadata": {},
     "output_type": "execute_result"
    }
   ],
   "source": [
    "disarium_num"
   ]
  },
  {
   "cell_type": "markdown",
   "metadata": {},
   "source": [
    "3.\tWrite a Python program to check if the given number is Happy Number?"
   ]
  },
  {
   "cell_type": "code",
   "execution_count": 15,
   "metadata": {},
   "outputs": [],
   "source": [
    "def is_happy_number(num):\n",
    "    # set to store visited numbers\n",
    "    visited = set()\n",
    "    \n",
    "    while num != 1:\n",
    "        # add the current number to the visited set\n",
    "        visited.add(num)\n",
    "        \n",
    "        # calculate the sum of squares of digits\n",
    "        num = sum(int(digit)**2 for digit in str(num))\n",
    "        \n",
    "        # if the sum of squares of digits is already in the visited set, it's a cycle\n",
    "        if num in visited:\n",
    "            return False\n",
    "        \n",
    "    return True"
   ]
  },
  {
   "cell_type": "code",
   "execution_count": 16,
   "metadata": {},
   "outputs": [
    {
     "data": {
      "text/plain": [
       "True"
      ]
     },
     "execution_count": 16,
     "metadata": {},
     "output_type": "execute_result"
    }
   ],
   "source": [
    "is_happy_number(19)"
   ]
  },
  {
   "cell_type": "code",
   "execution_count": 17,
   "metadata": {},
   "outputs": [
    {
     "data": {
      "text/plain": [
       "False"
      ]
     },
     "execution_count": 17,
     "metadata": {},
     "output_type": "execute_result"
    }
   ],
   "source": [
    "is_happy_number(199)"
   ]
  },
  {
   "cell_type": "markdown",
   "metadata": {},
   "source": [
    "4.\tWrite a Python program to print all happy numbers between 1 and 100?"
   ]
  },
  {
   "cell_type": "code",
   "execution_count": 23,
   "metadata": {},
   "outputs": [
    {
     "name": "stdout",
     "output_type": "stream",
     "text": [
      "[1, 7, 10, 13, 19, 23, 28, 31, 32, 44, 49, 68, 70, 79, 82, 86, 91, 94, 97, 100]\n"
     ]
    }
   ],
   "source": [
    "def is_happy(num):\n",
    "    seen = set()\n",
    "    while num not in seen:\n",
    "        seen.add(num)\n",
    "        num = sum(int(i) ** 2 for i in str(num))\n",
    "    return num == 1\n",
    "\n",
    "happy_num=list()\n",
    "for num in range(1, 101):\n",
    "    if is_happy(num):\n",
    "        happy_num.append(num)\n",
    "    else:\n",
    "        pass\n",
    "\n",
    "print(happy_num)"
   ]
  },
  {
   "cell_type": "markdown",
   "metadata": {},
   "source": [
    "5.\tWrite a Python program to determine whether the given number is a Harshad Number?"
   ]
  },
  {
   "cell_type": "code",
   "execution_count": 24,
   "metadata": {},
   "outputs": [
    {
     "name": "stdout",
     "output_type": "stream",
     "text": [
      "18 is a Harshad number\n"
     ]
    }
   ],
   "source": [
    "def is_harshad_number(n):\n",
    "    # Calculate the sum of digits of the number\n",
    "    digit_sum = sum(int(digit) for digit in str(n))\n",
    "    \n",
    "    # Check if the number is divisible by the sum of its digits\n",
    "    return n % digit_sum == 0\n",
    "\n",
    "# Example usage\n",
    "num = 18\n",
    "if is_harshad_number(num):\n",
    "    print(num, \"is a Harshad number\")\n",
    "else:\n",
    "    print(num, \"is not a Harshad number\")"
   ]
  },
  {
   "cell_type": "markdown",
   "metadata": {},
   "source": [
    "6.\tWrite a Python program to print all pronic numbers between 1 and 100?"
   ]
  },
  {
   "cell_type": "code",
   "execution_count": 25,
   "metadata": {},
   "outputs": [
    {
     "name": "stdout",
     "output_type": "stream",
     "text": [
      "2\n",
      "6\n",
      "12\n",
      "20\n",
      "30\n",
      "42\n",
      "56\n",
      "72\n",
      "90\n"
     ]
    }
   ],
   "source": [
    "for i in range(1, 101):\n",
    "    for j in range(1, i):\n",
    "        if j * (j + 1) == i:\n",
    "            print(i)\n",
    "            break"
   ]
  }
 ],
 "metadata": {
  "kernelspec": {
   "display_name": "Python 3 (ipykernel)",
   "language": "python",
   "name": "python3"
  },
  "language_info": {
   "codemirror_mode": {
    "name": "ipython",
    "version": 3
   },
   "file_extension": ".py",
   "mimetype": "text/x-python",
   "name": "python",
   "nbconvert_exporter": "python",
   "pygments_lexer": "ipython3",
   "version": "3.10.9"
  }
 },
 "nbformat": 4,
 "nbformat_minor": 4
}

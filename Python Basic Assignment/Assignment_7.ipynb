{
 "cells": [
  {
   "cell_type": "markdown",
   "metadata": {},
   "source": [
    "### 1. What is the name of the feature responsible for generating Regex objects?"
   ]
  },
  {
   "cell_type": "markdown",
   "metadata": {},
   "source": [
    "The regex.compile() feature is responsible for generating Regex objectts"
   ]
  },
  {
   "cell_type": "markdown",
   "metadata": {},
   "source": [
    "### 2. Why do raw strings often appear in Regex objects?"
   ]
  },
  {
   "cell_type": "markdown",
   "metadata": {},
   "source": [
    "Raw strings often appear in Regex objects so that blackslashes do not have to be escaped while processing."
   ]
  },
  {
   "cell_type": "markdown",
   "metadata": {},
   "source": [
    "### 3. What is the return value of the search() method?"
   ]
  },
  {
   "cell_type": "markdown",
   "metadata": {},
   "source": [
    "The search() method returns a match object if a match is found else it returns None."
   ]
  },
  {
   "cell_type": "markdown",
   "metadata": {},
   "source": [
    "### 4. From a Match item, how do you get the actual strings that match the pattern?"
   ]
  },
  {
   "cell_type": "markdown",
   "metadata": {},
   "source": [
    "group() method is used to get the actual strings that match the pattern."
   ]
  },
  {
   "cell_type": "markdown",
   "metadata": {},
   "source": [
    "### 5. In the regex which created from the r'(\\d\\d\\d)-(\\d\\d\\d-\\d\\d\\d\\d)', what does group zero cover? Group 2? Group 1?"
   ]
  },
  {
   "cell_type": "markdown",
   "metadata": {},
   "source": [
    "- Group 0 covers the entire match \n",
    "- Group 1 covers the first set of parenthesis\n",
    "- Group 2 covers the second set of parenthesis"
   ]
  },
  {
   "cell_type": "markdown",
   "metadata": {},
   "source": [
    "### 6. In standard expression syntax, parentheses and intervals have distinct meanings. How can you tell a regex that you want it to fit real parentheses and periods?"
   ]
  },
  {
   "cell_type": "markdown",
   "metadata": {},
   "source": [
    "Periods and parentheses can be escaped with a backslash: \\., \\(, and \\)."
   ]
  },
  {
   "cell_type": "markdown",
   "metadata": {},
   "source": [
    "### 7. The findall() method returns a string list or a list of string tuples. What causes it to return one of the two options?"
   ]
  },
  {
   "cell_type": "markdown",
   "metadata": {},
   "source": [
    " If the regex has no groups, a list of strings is returned. If the regex has groups, a list of tuples of strings is returned.\n"
   ]
  },
  {
   "cell_type": "markdown",
   "metadata": {},
   "source": [
    "### 8. In standard expressions, what does the | character mean?"
   ]
  },
  {
   "cell_type": "markdown",
   "metadata": {},
   "source": [
    "A pipe character (|) denotes an \"Or\" operation. Either this or that."
   ]
  },
  {
   "cell_type": "markdown",
   "metadata": {},
   "source": [
    "### 9. In regular expressions, what does the character | stand for?"
   ]
  },
  {
   "cell_type": "markdown",
   "metadata": {},
   "source": [
    "Indicates that a match can be one of the two terms on either side of the pipe."
   ]
  },
  {
   "cell_type": "markdown",
   "metadata": {},
   "source": [
    "### 10.In regular expressions, what is the difference between the + and * characters?"
   ]
  },
  {
   "cell_type": "markdown",
   "metadata": {},
   "source": [
    "- $+$ means atleast one occurence of the match should succeed\n",
    "- $*$ means match succeeds regardless of the presence of search string"
   ]
  },
  {
   "cell_type": "markdown",
   "metadata": {},
   "source": [
    "### 11. What is the difference between {4} and {4,5} in regular expression?"
   ]
  },
  {
   "cell_type": "markdown",
   "metadata": {},
   "source": [
    "- In regular expressions, `{}` is used to specify quantifiers that indicate how many times a particular character or group should be repeated. `{4}` means that the preceding character or group should occur exactly 4 times. For example, the regular expression `[a-z]{4}` matches any four lowercase letters.\n",
    "\n",
    "- On the other hand, `{4,5}` means that the preceding character or group should occur at least 4 times and at most 5 times. For example, the regular expression `[a-z]{4,5}` matches any string of lowercase letters that is either 4 or 5 characters long.\n",
    "\n",
    "- So, the difference between `{4}` and `{4,5}` is that the former specifies an exact number of repetitions, while the latter specifies a range of repetitions."
   ]
  },
  {
   "cell_type": "markdown",
   "metadata": {},
   "source": [
    "### 12. What do you mean by the \\d, \\w, and \\s shorthand character classes signify in regular expressions?"
   ]
  },
  {
   "cell_type": "markdown",
   "metadata": {},
   "source": [
    "In regular expressions, shorthand character classes are predefined sets of characters that match a particular type of character. The shorthand character classes \\d, \\w, and \\s signify the following:\n",
    "\n",
    "- \\d matches any digit character, equivalent to [0-9].\n",
    "- \\w matches any word character, which includes alphanumeric characters (letters and digits) and underscores (_), equivalent to [a-zA-Z0-9_].\n",
    "- \\s matches any whitespace character, including space, tab, and newline, equivalent to [\\t\\n\\r\\f\\v].\n",
    "\n",
    "These shorthand character classes can be used to simplify regular expressions and make them more concise. For example, the regular expression \"\\d+\" matches one or more digits, while the regular expression \"\\w+\" matches one or more word characters."
   ]
  },
  {
   "cell_type": "markdown",
   "metadata": {},
   "source": [
    "### 13. What do means by \\D, \\W, and \\S shorthand character classes signify in regular expressions?"
   ]
  },
  {
   "cell_type": "markdown",
   "metadata": {},
   "source": [
    "In regular expressions, the shorthand character classes \\D, \\W, and \\S are used to represent the complement of the \\d, \\w, and \\s character classes, respectively. \n",
    "\n",
    "- `\\D` matches any character that is not a digit (0-9).\n",
    "- `\\W` matches any character that is not a word character (alphanumeric character or underscore).\n",
    "- `\\S` matches any character that is not whitespace (space, tab, newline).\n",
    "\n",
    "For example, the regular expression pattern `\\D` will match any non-digit character in a string. Similarly, the pattern `\\W` will match any non-word character, and `\\S` will match any non-whitespace character."
   ]
  },
  {
   "cell_type": "markdown",
   "metadata": {},
   "source": [
    "### 14. What is the difference between .*? and .*?"
   ]
  },
  {
   "cell_type": "markdown",
   "metadata": {},
   "source": [
    "Both the expressions `.*?` and `.*` are commonly used in regular expressions, but their meanings are different. \n",
    "\n",
    "The expression `.*?` is a non-greedy match for zero or more occurrences of any character. The question mark `?` makes the match non-greedy, which means it will match the minimum possible number of characters. For example, in the string \"hello world\", the pattern `h.*?d` will match \"helld\" instead of \"hello world\".\n",
    "\n",
    "On the other hand, the expression `.*` is a greedy match for zero or more occurrences of any character. It will match as many characters as possible. For example, in the string \"hello world\", the pattern `h.*d` will match \"hello worl\"."
   ]
  },
  {
   "cell_type": "markdown",
   "metadata": {},
   "source": [
    "### 15. What is the syntax for matching both numbers and lowercase letters with a character class?"
   ]
  },
  {
   "cell_type": "markdown",
   "metadata": {},
   "source": [
    "To match both numbers and lowercase letters with a character class, you can use the syntax `[0-9a-z]`. Here, `0-9` matches any digit from 0 to 9 and `a-z` matches any lowercase letter from a to z."
   ]
  },
  {
   "cell_type": "markdown",
   "metadata": {},
   "source": [
    "### 16. What is the procedure for making a normal expression in regax case insensitive?"
   ]
  },
  {
   "cell_type": "markdown",
   "metadata": {},
   "source": [
    "To make a regular expression case-insensitive in Python, you can use the re.IGNORECASE flag. You can add this flag as a second argument to the re.compile() function or pass it as the second argument to any re function that accepts flags."
   ]
  },
  {
   "cell_type": "markdown",
   "metadata": {},
   "source": [
    "### 17. What does the . character normally match? What does it match if re.DOTALL is passed as 2nd argument in re.compile()?"
   ]
  },
  {
   "cell_type": "markdown",
   "metadata": {},
   "source": [
    "In a regular expression, the . character normally matches any character except for a newline character. However, if re.DOTALL is passed as the second argument in re.compile(), then the . character will match any character, including newline characters."
   ]
  },
  {
   "cell_type": "markdown",
   "metadata": {},
   "source": [
    "### 18. If numReg = re.compile(r'\\d+'), what will numRegex.sub('X', '11 drummers, 10 pipers, five rings, 4 hen') return?"
   ]
  },
  {
   "cell_type": "markdown",
   "metadata": {},
   "source": [
    "The `numRegex.sub('X', '11 drummers, 10 pipers, five rings, 4 hen')` statement will replace all occurrences of one or more digits (`\\d+`) in the input string `'11 drummers, 10 pipers, five rings, 4 hen'` with the letter 'X'. "
   ]
  },
  {
   "cell_type": "markdown",
   "metadata": {},
   "source": [
    "### 19. What does passing re.VERBOSE as the 2nd argument to re.compile() allow to do?"
   ]
  },
  {
   "cell_type": "markdown",
   "metadata": {},
   "source": [
    "Passing re.VERBOSE as the second argument to re.compile() allows you to add comments and whitespace to the regular expression pattern. It can make the pattern more readable and easier to understand.\n",
    "\n",
    "When re.VERBOSE is used, whitespace and comments are ignored within the pattern unless they are escaped with a backslash (\\). The # character is used to start a comment, which continues to the end of the line."
   ]
  },
  {
   "cell_type": "markdown",
   "metadata": {},
   "source": [
    "20. How would you write a regex that match a number with comma for every three digits? It must match the given following:\n",
    "- '42'\n",
    "- '1,234'\n",
    "- '6,368,745'\n",
    "\n",
    "but not the following:\n",
    "- '12,34,567' (which has only two digits between the commas)\n",
    "- '1234' (which lacks commas)\n",
    "\n"
   ]
  },
  {
   "cell_type": "code",
   "execution_count": 1,
   "metadata": {},
   "outputs": [
    {
     "name": "stdout",
     "output_type": "stream",
     "text": [
      "<re.Match object; span=(0, 2), match='42'>\n",
      "<re.Match object; span=(0, 5), match='1,234'>\n",
      "<re.Match object; span=(0, 9), match='6,368,745'>\n",
      "None\n",
      "None\n"
     ]
    }
   ],
   "source": [
    "import re\n",
    "\n",
    "pattern = re.compile(r'^\\d{1,3}(,\\d{3})*$')\n",
    "\n",
    "print(pattern.match('42'))         # Match\n",
    "print(pattern.match('1,234'))      # Match\n",
    "print(pattern.match('6,368,745'))  # Match\n",
    "print(pattern.match('12,34,567'))  # No match\n",
    "print(pattern.match('1234'))       # No match\n"
   ]
  },
  {
   "cell_type": "markdown",
   "metadata": {},
   "source": [
    "21. How would you write a regex that matches the full name of someone whose last name is Watanabe? You can assume that the first name that comes before it will always be one word that begins with a capital letter. The regex must match the following:\n",
    "\n",
    "- 'Haruto Watanabe'\n",
    "- 'Alice Watanabe'\n",
    "- 'RoboCop Watanabe'\n",
    "\n",
    "but not the following:\n",
    "- 'haruto Watanabe' (where the first name is not capitalized)\n",
    "- 'Mr. Watanabe' (where the preceding word has a nonletter character)\n",
    "- 'Watanabe' (which has no first name)\n",
    "- 'Haruto watanabe' (where Watanabe is not capitalized)"
   ]
  },
  {
   "cell_type": "code",
   "execution_count": 6,
   "metadata": {},
   "outputs": [
    {
     "name": "stdout",
     "output_type": "stream",
     "text": [
      "Haruto Watanabe is a match!\n",
      "Alice Watanabe is a match!\n",
      "RoboCop Watanabe is a match!\n",
      "haruto Watanabe is not a match.\n",
      "Mr. Watanabe is not a match.\n",
      "Watanabe is not a match.\n",
      "Haruto watanabe is not a match.\n"
     ]
    }
   ],
   "source": [
    "import re\n",
    "\n",
    "name_regex = re.compile(r'[A-Z][a-z]*\\sWatanabe')\n",
    "\n",
    "names = ['Haruto Watanabe', 'Alice Watanabe', 'RoboCop Watanabe', 'haruto Watanabe', 'Mr. Watanabe', 'Watanabe', 'Haruto watanabe']\n",
    "\n",
    "for name in names:\n",
    "    if name_regex.search(name):\n",
    "        print(f\"{name} is a match!\")\n",
    "    else:\n",
    "        print(f\"{name} is not a match.\")\n"
   ]
  },
  {
   "cell_type": "markdown",
   "metadata": {},
   "source": [
    "22. How would you write a regex that matches a sentence where the first word is either Alice, Bob, or Carol; the second word is either eats, pets, or throws; the third word is apples, cats, or baseballs; and the sentence ends with a period? This regex should be case-insensitive. It must match the following:\n",
    "\n",
    "- 'Alice eats apples.'\n",
    "- 'Bob pets cats.'\n",
    "- 'Carol throws baseballs.'\n",
    "- 'Alice throws Apples.'\n",
    "- 'BOB EATS CATS.'\n",
    "\n",
    "but not the following:\n",
    "\n",
    "- 'RoboCop eats apples.'\n",
    "- 'ALICE THROWS FOOTBALLS.'\n",
    "- 'Carol eats 7 cats.'\n",
    "\n"
   ]
  },
  {
   "cell_type": "code",
   "execution_count": 7,
   "metadata": {},
   "outputs": [
    {
     "name": "stdout",
     "output_type": "stream",
     "text": [
      "Alice eats apples. is a match!\n",
      "Bob pets cats. is a match!\n",
      "Carol throws baseballs. is a match!\n",
      "Alice throws Apples. is a match!\n",
      "BOB EATS CATS. is a match!\n",
      "RoboCop eats apples. is not a match.\n",
      "ALICE THROWS FOOTBALLS. is not a match.\n",
      "Carol eats 7 cats. is not a match.\n"
     ]
    }
   ],
   "source": [
    "import re\n",
    "\n",
    "sentence_regex = re.compile(r'^(Alice|Bob|Carol)\\s+(eats|pets|throws)\\s+(apples|cats|baseballs)\\.$', re.IGNORECASE)\n",
    "\n",
    "sentences = [\n",
    "    'Alice eats apples.',\n",
    "    'Bob pets cats.',\n",
    "    'Carol throws baseballs.',\n",
    "    'Alice throws Apples.',\n",
    "    'BOB EATS CATS.',\n",
    "    'RoboCop eats apples.',\n",
    "    'ALICE THROWS FOOTBALLS.',\n",
    "    'Carol eats 7 cats.'\n",
    "]\n",
    "\n",
    "for sentence in sentences:\n",
    "    if sentence_regex.match(sentence):\n",
    "        print(f\"{sentence} is a match!\")\n",
    "    else:\n",
    "        print(f\"{sentence} is not a match.\")\n"
   ]
  }
 ],
 "metadata": {
  "kernelspec": {
   "display_name": "Python 3 (ipykernel)",
   "language": "python",
   "name": "python3"
  },
  "language_info": {
   "codemirror_mode": {
    "name": "ipython",
    "version": 3
   },
   "file_extension": ".py",
   "mimetype": "text/x-python",
   "name": "python",
   "nbconvert_exporter": "python",
   "pygments_lexer": "ipython3",
   "version": "3.10.9"
  }
 },
 "nbformat": 4,
 "nbformat_minor": 4
}

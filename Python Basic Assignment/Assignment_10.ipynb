{
 "cells": [
  {
   "cell_type": "markdown",
   "metadata": {},
   "source": [
    "1. How do you distinguish between shutil.copy() and shutil.copytree()?"
   ]
  },
  {
   "cell_type": "markdown",
   "metadata": {},
   "source": [
    "\n",
    "|shutil.copy()|shutil.copytree()|\n",
    "|---|---|\n",
    "|This method is used to copy a single file from source to destination directory|This method is used to copy the entire directory from source to target |\n",
    "|The copy() method does copy the metadata|The copytree() method uses the copy2 in order to copy the individual files hence maintains the metadata.|"
   ]
  },
  {
   "cell_type": "markdown",
   "metadata": {},
   "source": [
    "2. What function is used to rename files??"
   ]
  },
  {
   "cell_type": "markdown",
   "metadata": {},
   "source": [
    "os.rename() function is used to rename the files "
   ]
  },
  {
   "cell_type": "markdown",
   "metadata": {},
   "source": [
    "3. What is the difference between the delete functions in the send2trash and shutil modules?"
   ]
  },
  {
   "cell_type": "markdown",
   "metadata": {},
   "source": [
    "|send2trash()|delete() in shutil module|\n",
    "|---|---|\n",
    "|This function does not delete the file permanently rather sends it to the recyle bin/trash| The delete function on other hand deletes the file permanently|"
   ]
  },
  {
   "cell_type": "markdown",
   "metadata": {},
   "source": [
    "4.ZipFile objects have a close() method just like File objects’ close() method. What ZipFile method is equivalent to File objects’ open() method?"
   ]
  },
  {
   "cell_type": "markdown",
   "metadata": {},
   "source": [
    "- Similar to the file open() method, the ZipFile object has a Zipfile.open() method which can be used to access files in the zipped folder."
   ]
  },
  {
   "cell_type": "markdown",
   "metadata": {},
   "source": [
    "5. Create a programme that searches a folder tree for files with a certain file extension (such as .pdf or .jpg). Copy these files from whatever location they are in to a new folder."
   ]
  },
  {
   "cell_type": "code",
   "execution_count": 3,
   "metadata": {},
   "outputs": [],
   "source": [
    "import os\n",
    "import fnmatch\n",
    "import shutil\n",
    "import logging"
   ]
  },
  {
   "cell_type": "code",
   "execution_count": 4,
   "metadata": {},
   "outputs": [],
   "source": [
    "src_dir = 'C:\\\\Users\\\\Nesh\\\\OneDrive\\\\Desktop\\\\source_directory'\n",
    "tgt_dir = 'C:\\\\Users\\\\Nesh\\\\OneDrive\\\\Desktop\\\\target_directory'"
   ]
  },
  {
   "cell_type": "code",
   "execution_count": 5,
   "metadata": {},
   "outputs": [],
   "source": [
    "def file_transfer(src_dir,tgt_dir):\n",
    "    \n",
    "    '''\n",
    "    This function transfers the files with extension '.pdf','.jpg' from source to the target directory.\n",
    "    src_dir : str : Input parameter, source directory from where the file needs to be copied.\n",
    "    tgt_dir : str : Input parameter, target directory to which the file needs to be copied. \n",
    "    '''\n",
    "    \n",
    "    logger = logging.getLogger(__name__)\n",
    "    logger.setLevel(logging.DEBUG)\n",
    "\n",
    "    f = logging.Formatter('%(asctime)s:%(name)s:%(levelname)s:%(message)s')\n",
    "    fh = logging.FileHandler('file_transfer.log')\n",
    "    ch = logging.StreamHandler()\n",
    "    fh.setFormatter(f)\n",
    "    ch.setFormatter(f)\n",
    "    logger.addHandler(fh)\n",
    "    logger.addHandler(ch)\n",
    "\n",
    "    logger.info('###############START OF LOG###############################')\n",
    "    logger.debug('Starting the file_transfer Program')\n",
    "\n",
    "    try:\n",
    "        logger.info(f'List of files present in source directory :{os.listdir(src_dir)}')\n",
    "        if len(os.listdir(src_dir)) != 0:\n",
    "            files_to_copy = []\n",
    "            for file in os.listdir(src_dir):\n",
    "                if fnmatch.fnmatch(file,'*.pdf') or fnmatch.fnmatch(file,'*.jpg'):\n",
    "                    files_to_copy.append(file)\n",
    "        #             shutil.copy2(src_dir+'\\\\'+file,tgt_dir)\n",
    "            logger.debug(f'List of files with extension .pdf, .jpg :{files_to_copy}')\n",
    "            if len(files_to_copy) != 0:\n",
    "                for file_c in files_to_copy:\n",
    "                    if os.path.exists(tgt_dir+'\\\\'+file_c):\n",
    "                        logger.debug(f'file {file_c} already exists in the target directory {tgt_dir}')\n",
    "                    else:\n",
    "                        shutil.copy(src_dir+'\\\\'+file_c,tgt_dir)\n",
    "                        logger.debug(f'file {file_c} copied successfully to the target directory {tgt_dir}')\n",
    "            else:\n",
    "                logger.debug(f'No files with extension .pdf, .jpg present in source directory {src_dir}')\n",
    "        else:\n",
    "            logger.debug(f'No files exist in the source directory : {src_dir}')\n",
    "    except FileExistsError as e:\n",
    "        logger.error(e)\n",
    "    except FileNotFoundError as e:\n",
    "        logger.error(e)\n",
    "    except IsADirectoryError as e:\n",
    "        logger.error(e)\n",
    "    except NotADirectoryError as e:\n",
    "        logger.error(e)\n",
    "    except Exception as e:\n",
    "        logger.error(e)\n",
    "    logger.info('##################END OF LOG##################################')"
   ]
  },
  {
   "cell_type": "markdown",
   "metadata": {},
   "source": [
    "### Execution 1 - When no files with extension .pdf , .jpg in the target directory"
   ]
  },
  {
   "cell_type": "code",
   "execution_count": 6,
   "metadata": {},
   "outputs": [
    {
     "name": "stdout",
     "output_type": "stream",
     "text": [
      "list of files in source directory :\n",
      " ['goals-2022.txt', 'IMG_3885_Original.jpg', 'ppf_payment_2022.pdf', 'Saissh_Doc.docx', 'Two_wheeler_Ins_Certificate.pdf']\n"
     ]
    }
   ],
   "source": [
    "print('list of files in source directory :\\n',os.listdir(src_dir))"
   ]
  },
  {
   "cell_type": "code",
   "execution_count": 7,
   "metadata": {
    "scrolled": true
   },
   "outputs": [
    {
     "name": "stdout",
     "output_type": "stream",
     "text": [
      "list of files present in the target directory :\n",
      " []\n"
     ]
    }
   ],
   "source": [
    "print('list of files present in the target directory :\\n',os.listdir(tgt_dir))"
   ]
  },
  {
   "cell_type": "code",
   "execution_count": 8,
   "metadata": {},
   "outputs": [
    {
     "name": "stderr",
     "output_type": "stream",
     "text": [
      "2023-01-02 13:22:16,080:__main__:INFO:###############START OF LOG###############################\n",
      "2023-01-02 13:22:16,083:__main__:DEBUG:Starting the file_transfer Program\n",
      "2023-01-02 13:22:16,085:__main__:INFO:List of files present in source directory :['goals-2022.txt', 'IMG_3885_Original.jpg', 'ppf_payment_2022.pdf', 'Saissh_Doc.docx', 'Two_wheeler_Ins_Certificate.pdf']\n",
      "2023-01-02 13:22:16,088:__main__:DEBUG:List of files with extension .pdf, .jpg :['IMG_3885_Original.jpg', 'ppf_payment_2022.pdf', 'Two_wheeler_Ins_Certificate.pdf']\n",
      "2023-01-02 13:22:16,095:__main__:DEBUG:file IMG_3885_Original.jpg copied successfully to the target directory C:\\Users\\Nesh\\OneDrive\\Desktop\\target_directory\n",
      "2023-01-02 13:22:16,147:__main__:DEBUG:file ppf_payment_2022.pdf copied successfully to the target directory C:\\Users\\Nesh\\OneDrive\\Desktop\\target_directory\n",
      "2023-01-02 13:22:16,177:__main__:DEBUG:file Two_wheeler_Ins_Certificate.pdf copied successfully to the target directory C:\\Users\\Nesh\\OneDrive\\Desktop\\target_directory\n",
      "2023-01-02 13:22:16,179:__main__:INFO:##################END OF LOG##################################\n"
     ]
    }
   ],
   "source": [
    "file_transfer(src_dir,tgt_dir)"
   ]
  },
  {
   "cell_type": "markdown",
   "metadata": {},
   "source": [
    "### Execution 2 - When the same set of files with extension .pdf, .jpg are present in the target directory"
   ]
  },
  {
   "cell_type": "code",
   "execution_count": 9,
   "metadata": {},
   "outputs": [
    {
     "name": "stdout",
     "output_type": "stream",
     "text": [
      "list of files in source directory :\n",
      " ['goals-2022.txt', 'IMG_3885_Original.jpg', 'ppf_payment_2022.pdf', 'Saissh_Doc.docx', 'Two_wheeler_Ins_Certificate.pdf']\n"
     ]
    }
   ],
   "source": [
    "print('list of files in source directory :\\n',os.listdir(src_dir))"
   ]
  },
  {
   "cell_type": "code",
   "execution_count": 10,
   "metadata": {},
   "outputs": [
    {
     "name": "stdout",
     "output_type": "stream",
     "text": [
      "list of files present in the target directory :\n",
      " ['IMG_3885_Original.jpg', 'ppf_payment_2022.pdf', 'Two_wheeler_Ins_Certificate.pdf']\n"
     ]
    }
   ],
   "source": [
    "print('list of files present in the target directory :\\n',os.listdir(tgt_dir))"
   ]
  },
  {
   "cell_type": "code",
   "execution_count": 11,
   "metadata": {},
   "outputs": [
    {
     "name": "stderr",
     "output_type": "stream",
     "text": [
      "2023-01-02 13:23:02,820:__main__:INFO:###############START OF LOG###############################\n",
      "2023-01-02 13:23:02,820:__main__:INFO:###############START OF LOG###############################\n",
      "2023-01-02 13:23:02,823:__main__:DEBUG:Starting the file_transfer Program\n",
      "2023-01-02 13:23:02,823:__main__:DEBUG:Starting the file_transfer Program\n",
      "2023-01-02 13:23:02,826:__main__:INFO:List of files present in source directory :['goals-2022.txt', 'IMG_3885_Original.jpg', 'ppf_payment_2022.pdf', 'Saissh_Doc.docx', 'Two_wheeler_Ins_Certificate.pdf']\n",
      "2023-01-02 13:23:02,826:__main__:INFO:List of files present in source directory :['goals-2022.txt', 'IMG_3885_Original.jpg', 'ppf_payment_2022.pdf', 'Saissh_Doc.docx', 'Two_wheeler_Ins_Certificate.pdf']\n",
      "2023-01-02 13:23:02,830:__main__:DEBUG:List of files with extension .pdf, .jpg :['IMG_3885_Original.jpg', 'ppf_payment_2022.pdf', 'Two_wheeler_Ins_Certificate.pdf']\n",
      "2023-01-02 13:23:02,830:__main__:DEBUG:List of files with extension .pdf, .jpg :['IMG_3885_Original.jpg', 'ppf_payment_2022.pdf', 'Two_wheeler_Ins_Certificate.pdf']\n",
      "2023-01-02 13:23:02,833:__main__:DEBUG:file IMG_3885_Original.jpg already exists in the target directory C:\\Users\\Nesh\\OneDrive\\Desktop\\target_directory\n",
      "2023-01-02 13:23:02,833:__main__:DEBUG:file IMG_3885_Original.jpg already exists in the target directory C:\\Users\\Nesh\\OneDrive\\Desktop\\target_directory\n",
      "2023-01-02 13:23:02,836:__main__:DEBUG:file ppf_payment_2022.pdf already exists in the target directory C:\\Users\\Nesh\\OneDrive\\Desktop\\target_directory\n",
      "2023-01-02 13:23:02,836:__main__:DEBUG:file ppf_payment_2022.pdf already exists in the target directory C:\\Users\\Nesh\\OneDrive\\Desktop\\target_directory\n",
      "2023-01-02 13:23:02,838:__main__:DEBUG:file Two_wheeler_Ins_Certificate.pdf already exists in the target directory C:\\Users\\Nesh\\OneDrive\\Desktop\\target_directory\n",
      "2023-01-02 13:23:02,838:__main__:DEBUG:file Two_wheeler_Ins_Certificate.pdf already exists in the target directory C:\\Users\\Nesh\\OneDrive\\Desktop\\target_directory\n",
      "2023-01-02 13:23:02,841:__main__:INFO:##################END OF LOG##################################\n",
      "2023-01-02 13:23:02,841:__main__:INFO:##################END OF LOG##################################\n"
     ]
    }
   ],
   "source": [
    "file_transfer(src_dir,tgt_dir)"
   ]
  },
  {
   "cell_type": "markdown",
   "metadata": {},
   "source": [
    "### Execution 3 - When no files with the extension .jpg , .pdf present in source directory"
   ]
  },
  {
   "cell_type": "code",
   "execution_count": 12,
   "metadata": {},
   "outputs": [
    {
     "name": "stdout",
     "output_type": "stream",
     "text": [
      "list of files in source directory :\n",
      " ['goals-2022.txt', 'Saissh_Doc.docx']\n"
     ]
    }
   ],
   "source": [
    "print('list of files in source directory :\\n',os.listdir(src_dir))"
   ]
  },
  {
   "cell_type": "code",
   "execution_count": 13,
   "metadata": {},
   "outputs": [
    {
     "name": "stderr",
     "output_type": "stream",
     "text": [
      "2023-01-02 13:24:03,439:__main__:INFO:###############START OF LOG###############################\n",
      "2023-01-02 13:24:03,439:__main__:INFO:###############START OF LOG###############################\n",
      "2023-01-02 13:24:03,439:__main__:INFO:###############START OF LOG###############################\n",
      "2023-01-02 13:24:03,444:__main__:DEBUG:Starting the file_transfer Program\n",
      "2023-01-02 13:24:03,444:__main__:DEBUG:Starting the file_transfer Program\n",
      "2023-01-02 13:24:03,444:__main__:DEBUG:Starting the file_transfer Program\n",
      "2023-01-02 13:24:03,448:__main__:INFO:List of files present in source directory :['goals-2022.txt', 'Saissh_Doc.docx']\n",
      "2023-01-02 13:24:03,448:__main__:INFO:List of files present in source directory :['goals-2022.txt', 'Saissh_Doc.docx']\n",
      "2023-01-02 13:24:03,448:__main__:INFO:List of files present in source directory :['goals-2022.txt', 'Saissh_Doc.docx']\n",
      "2023-01-02 13:24:03,454:__main__:DEBUG:List of files with extension .pdf, .jpg :[]\n",
      "2023-01-02 13:24:03,454:__main__:DEBUG:List of files with extension .pdf, .jpg :[]\n",
      "2023-01-02 13:24:03,454:__main__:DEBUG:List of files with extension .pdf, .jpg :[]\n",
      "2023-01-02 13:24:03,458:__main__:DEBUG:No files with extension .pdf, .jpg present in source directory C:\\Users\\Nesh\\OneDrive\\Desktop\\source_directory\n",
      "2023-01-02 13:24:03,458:__main__:DEBUG:No files with extension .pdf, .jpg present in source directory C:\\Users\\Nesh\\OneDrive\\Desktop\\source_directory\n",
      "2023-01-02 13:24:03,458:__main__:DEBUG:No files with extension .pdf, .jpg present in source directory C:\\Users\\Nesh\\OneDrive\\Desktop\\source_directory\n",
      "2023-01-02 13:24:03,462:__main__:INFO:##################END OF LOG##################################\n",
      "2023-01-02 13:24:03,462:__main__:INFO:##################END OF LOG##################################\n",
      "2023-01-02 13:24:03,462:__main__:INFO:##################END OF LOG##################################\n"
     ]
    }
   ],
   "source": [
    "file_transfer(src_dir,tgt_dir)"
   ]
  },
  {
   "cell_type": "markdown",
   "metadata": {},
   "source": [
    "### Execution 4 - No files available in source directory"
   ]
  },
  {
   "cell_type": "code",
   "execution_count": 14,
   "metadata": {},
   "outputs": [
    {
     "name": "stdout",
     "output_type": "stream",
     "text": [
      "list of files in source directory :\n",
      " []\n"
     ]
    }
   ],
   "source": [
    "print('list of files in source directory :\\n',os.listdir(src_dir))"
   ]
  },
  {
   "cell_type": "code",
   "execution_count": 15,
   "metadata": {},
   "outputs": [
    {
     "name": "stderr",
     "output_type": "stream",
     "text": [
      "2023-01-02 13:25:03,467:__main__:INFO:###############START OF LOG###############################\n",
      "2023-01-02 13:25:03,467:__main__:INFO:###############START OF LOG###############################\n",
      "2023-01-02 13:25:03,467:__main__:INFO:###############START OF LOG###############################\n",
      "2023-01-02 13:25:03,467:__main__:INFO:###############START OF LOG###############################\n",
      "2023-01-02 13:25:03,475:__main__:DEBUG:Starting the file_transfer Program\n",
      "2023-01-02 13:25:03,475:__main__:DEBUG:Starting the file_transfer Program\n",
      "2023-01-02 13:25:03,475:__main__:DEBUG:Starting the file_transfer Program\n",
      "2023-01-02 13:25:03,475:__main__:DEBUG:Starting the file_transfer Program\n",
      "2023-01-02 13:25:03,484:__main__:INFO:List of files present in source directory :[]\n",
      "2023-01-02 13:25:03,484:__main__:INFO:List of files present in source directory :[]\n",
      "2023-01-02 13:25:03,484:__main__:INFO:List of files present in source directory :[]\n",
      "2023-01-02 13:25:03,484:__main__:INFO:List of files present in source directory :[]\n",
      "2023-01-02 13:25:03,492:__main__:DEBUG:No files exist in the source directory : C:\\Users\\Nesh\\OneDrive\\Desktop\\source_directory\n",
      "2023-01-02 13:25:03,492:__main__:DEBUG:No files exist in the source directory : C:\\Users\\Nesh\\OneDrive\\Desktop\\source_directory\n",
      "2023-01-02 13:25:03,492:__main__:DEBUG:No files exist in the source directory : C:\\Users\\Nesh\\OneDrive\\Desktop\\source_directory\n",
      "2023-01-02 13:25:03,492:__main__:DEBUG:No files exist in the source directory : C:\\Users\\Nesh\\OneDrive\\Desktop\\source_directory\n",
      "2023-01-02 13:25:03,501:__main__:INFO:##################END OF LOG##################################\n",
      "2023-01-02 13:25:03,501:__main__:INFO:##################END OF LOG##################################\n",
      "2023-01-02 13:25:03,501:__main__:INFO:##################END OF LOG##################################\n",
      "2023-01-02 13:25:03,501:__main__:INFO:##################END OF LOG##################################\n"
     ]
    }
   ],
   "source": [
    "file_transfer(src_dir,tgt_dir)"
   ]
  }
 ],
 "metadata": {
  "kernelspec": {
   "display_name": "Python 3",
   "language": "python",
   "name": "python3"
  },
  "language_info": {
   "codemirror_mode": {
    "name": "ipython",
    "version": 3
   },
   "file_extension": ".py",
   "mimetype": "text/x-python",
   "name": "python",
   "nbconvert_exporter": "python",
   "pygments_lexer": "ipython3",
   "version": "3.8.5"
  }
 },
 "nbformat": 4,
 "nbformat_minor": 4
}

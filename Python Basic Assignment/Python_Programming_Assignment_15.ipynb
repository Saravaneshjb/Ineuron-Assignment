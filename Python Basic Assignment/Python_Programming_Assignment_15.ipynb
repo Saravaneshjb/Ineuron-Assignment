{
 "cells": [
  {
   "cell_type": "markdown",
   "id": "802a104a",
   "metadata": {},
   "source": [
    "Question 1:\n",
    "\n",
    "Please write a program using generator to print the numbers which can be divisible by 5 and 7 between 0 and n in comma separated form while n is input by console.\n",
    "\n",
    "Example:\n",
    "If the following n is given as input to the program:\n",
    "100\n",
    "\n",
    "Then, the output of the program should be:\n",
    "0,35,70"
   ]
  },
  {
   "cell_type": "code",
   "execution_count": 1,
   "id": "2c32ad99",
   "metadata": {},
   "outputs": [],
   "source": [
    "def divisible_by_5_and_7(n):\n",
    "    num=0\n",
    "    while num<=n:\n",
    "        if num%5==0 and num%7==0:\n",
    "            yield num\n",
    "        num=num+1"
   ]
  },
  {
   "cell_type": "code",
   "execution_count": 2,
   "id": "82719656",
   "metadata": {},
   "outputs": [],
   "source": [
    "result=list(divisible_by_5_and_7(100))"
   ]
  },
  {
   "cell_type": "code",
   "execution_count": 3,
   "id": "358128dd",
   "metadata": {},
   "outputs": [
    {
     "name": "stdout",
     "output_type": "stream",
     "text": [
      "0,35,70\n"
     ]
    }
   ],
   "source": [
    "print(*result,sep=',')"
   ]
  },
  {
   "cell_type": "markdown",
   "id": "42e1841a",
   "metadata": {},
   "source": [
    "Question 2:\n",
    "    \n",
    "Please write a program using generator to print the even numbers between 0 and n in comma separated form while n is input by console.\n",
    "\n",
    "Example:\n",
    "If the following n is given as input to the program:\n",
    "10\n",
    "\n",
    "Then, the output of the program should be:\n",
    "0,2,4,6,8,10\n"
   ]
  },
  {
   "cell_type": "code",
   "execution_count": 4,
   "id": "4f5d33db",
   "metadata": {},
   "outputs": [],
   "source": [
    "def even_numbers(n):\n",
    "    num=0\n",
    "    while num<=n:\n",
    "        if num%2==0:\n",
    "            yield num\n",
    "        num=num+1"
   ]
  },
  {
   "cell_type": "code",
   "execution_count": 5,
   "id": "ddcf1635",
   "metadata": {},
   "outputs": [],
   "source": [
    "even_num=list(even_numbers(10))"
   ]
  },
  {
   "cell_type": "code",
   "execution_count": 6,
   "id": "0867fd01",
   "metadata": {},
   "outputs": [
    {
     "name": "stdout",
     "output_type": "stream",
     "text": [
      "0,2,4,6,8,10\n"
     ]
    }
   ],
   "source": [
    "print(*even_num,sep=',')"
   ]
  },
  {
   "cell_type": "markdown",
   "id": "2a0029d3",
   "metadata": {},
   "source": [
    "Question 3:\n",
    "    \n",
    "The Fibonacci Sequence is computed based on the following formula:\n",
    "f(n)=0 if n=0\n",
    "f(n)=1 if n=1\n",
    "f(n)=f(n-1)+f(n-2) if n>1\n",
    "Please write a program using list comprehension to print the Fibonacci Sequence in comma separated form with a given n input by console.\n",
    "\n",
    "Example:\n",
    "    \n",
    "If the following n is given as input to the program:7\n",
    "\n",
    "Then, the output of the program should be:\n",
    "0,1,1,2,3,5,8,13\n"
   ]
  },
  {
   "cell_type": "code",
   "execution_count": 26,
   "id": "1d02ca20",
   "metadata": {},
   "outputs": [
    {
     "name": "stdout",
     "output_type": "stream",
     "text": [
      "Enter the value of n: 7\n",
      "0,1,1,2,3,5,8,13\n"
     ]
    }
   ],
   "source": [
    "n = int(input(\"Enter the value of n: \"))\n",
    "\n",
    "fib = [0, 1]\n",
    "[fib.append(fib[-2] + fib[-1]) for i in range(n-1)]\n",
    "\n",
    "print(*fib,sep=',')\n"
   ]
  },
  {
   "cell_type": "markdown",
   "id": "5bfa04b3",
   "metadata": {},
   "source": [
    "Question 4:\n",
    "\n",
    "Assuming that we have some email addresses in the \"username@companyname.com\" format, please write program to print the user name of a given email address. Both user names and company names are composed of letters only.\n",
    "\n",
    "Example:\n",
    "If the following email address is given as input to the program:\n",
    "john@google.com\n",
    "\n",
    "Then, the output of the program should be:\n",
    "john\n"
   ]
  },
  {
   "cell_type": "code",
   "execution_count": 30,
   "id": "9d6cddcd",
   "metadata": {},
   "outputs": [
    {
     "name": "stdout",
     "output_type": "stream",
     "text": [
      "Enter the email address <format: username@companyname.com> :john@google.com\n"
     ]
    }
   ],
   "source": [
    "email_address=input('Enter the email address <format: username@companyname.com> :')"
   ]
  },
  {
   "cell_type": "code",
   "execution_count": 31,
   "id": "bea312c7",
   "metadata": {},
   "outputs": [
    {
     "data": {
      "text/plain": [
       "'john'"
      ]
     },
     "execution_count": 31,
     "metadata": {},
     "output_type": "execute_result"
    }
   ],
   "source": [
    "email_address.split('@')[0]"
   ]
  },
  {
   "cell_type": "markdown",
   "id": "4bf685f9",
   "metadata": {},
   "source": [
    "Question 5:\n",
    "\n",
    "Define a class named Shape and its subclass Square. The Square class has an init function which takes a length as argument. Both classes have a area function which can print the area of the shape where Shape's area is 0 by default.\n"
   ]
  },
  {
   "cell_type": "code",
   "execution_count": 32,
   "id": "07741738",
   "metadata": {},
   "outputs": [],
   "source": [
    "class Shape:\n",
    "    def area(self):\n",
    "        return 0\n",
    "\n",
    "class Square(Shape):\n",
    "    def __init__(self, length):\n",
    "        self.length = length\n",
    "\n",
    "    def area(self):\n",
    "        return self.length * self.length\n"
   ]
  },
  {
   "cell_type": "code",
   "execution_count": 36,
   "id": "9d775e86",
   "metadata": {},
   "outputs": [],
   "source": [
    "s1=Shape()\n",
    "s2=Square(10)"
   ]
  },
  {
   "cell_type": "code",
   "execution_count": 37,
   "id": "bb62deea",
   "metadata": {},
   "outputs": [
    {
     "data": {
      "text/plain": [
       "0"
      ]
     },
     "execution_count": 37,
     "metadata": {},
     "output_type": "execute_result"
    }
   ],
   "source": [
    "s1.area()#Default Area"
   ]
  },
  {
   "cell_type": "code",
   "execution_count": 39,
   "id": "9f9b6f5c",
   "metadata": {},
   "outputs": [
    {
     "data": {
      "text/plain": [
       "100"
      ]
     },
     "execution_count": 39,
     "metadata": {},
     "output_type": "execute_result"
    }
   ],
   "source": [
    "s2.area()#Area defined by the square"
   ]
  }
 ],
 "metadata": {
  "kernelspec": {
   "display_name": "Python 3 (ipykernel)",
   "language": "python",
   "name": "python3"
  },
  "language_info": {
   "codemirror_mode": {
    "name": "ipython",
    "version": 3
   },
   "file_extension": ".py",
   "mimetype": "text/x-python",
   "name": "python",
   "nbconvert_exporter": "python",
   "pygments_lexer": "ipython3",
   "version": "3.10.9"
  }
 },
 "nbformat": 4,
 "nbformat_minor": 5
}

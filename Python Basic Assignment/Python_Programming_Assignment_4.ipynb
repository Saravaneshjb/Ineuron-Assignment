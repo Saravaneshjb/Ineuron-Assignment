{
 "cells": [
  {
   "cell_type": "markdown",
   "metadata": {},
   "source": [
    "1.\tWrite a Python Program to Find the Factorial of a Number?"
   ]
  },
  {
   "cell_type": "code",
   "execution_count": 1,
   "metadata": {},
   "outputs": [],
   "source": [
    "def fact(num):\n",
    "    if num == 1:\n",
    "        return 1\n",
    "    else:\n",
    "        return (num*fact(num-1))"
   ]
  },
  {
   "cell_type": "code",
   "execution_count": 2,
   "metadata": {},
   "outputs": [
    {
     "data": {
      "text/plain": [
       "24"
      ]
     },
     "execution_count": 2,
     "metadata": {},
     "output_type": "execute_result"
    }
   ],
   "source": [
    "fact(4)"
   ]
  },
  {
   "cell_type": "code",
   "execution_count": 3,
   "metadata": {},
   "outputs": [
    {
     "data": {
      "text/plain": [
       "720"
      ]
     },
     "execution_count": 3,
     "metadata": {},
     "output_type": "execute_result"
    }
   ],
   "source": [
    "fact(6)"
   ]
  },
  {
   "cell_type": "markdown",
   "metadata": {},
   "source": [
    "2.\tWrite a Python Program to Display the multiplication Table?"
   ]
  },
  {
   "cell_type": "code",
   "execution_count": 5,
   "metadata": {},
   "outputs": [
    {
     "name": "stdout",
     "output_type": "stream",
     "text": [
      "Enter the number for which multiplication table to be displayed :19\n",
      "19 * 1 = 19\n",
      "19 * 2 = 38\n",
      "19 * 3 = 57\n",
      "19 * 4 = 76\n",
      "19 * 5 = 95\n",
      "19 * 6 = 114\n",
      "19 * 7 = 133\n",
      "19 * 8 = 152\n",
      "19 * 9 = 171\n",
      "19 * 10 = 190\n"
     ]
    }
   ],
   "source": [
    "inp_num = int(input('Enter the number for which multiplication table to be displayed :'))\n",
    "\n",
    "for i in range(1,11):\n",
    "    result = inp_num * i\n",
    "    print(f'{inp_num} * {i} =', result)"
   ]
  },
  {
   "cell_type": "markdown",
   "metadata": {},
   "source": [
    "3.\tWrite a Python Program to Print the Fibonacci sequence?"
   ]
  },
  {
   "cell_type": "code",
   "execution_count": 13,
   "metadata": {},
   "outputs": [
    {
     "name": "stdout",
     "output_type": "stream",
     "text": [
      "How many terms? 7\n",
      "Fibonacci sequence:\n",
      "0\n",
      "1\n",
      "1\n",
      "2\n",
      "3\n",
      "5\n",
      "8\n",
      "13\n"
     ]
    }
   ],
   "source": [
    "nterms = int(input(\"How many terms? \"))\n",
    "\n",
    "n1, n2 = 0, 1\n",
    "count = 0\n",
    "\n",
    "if nterms <= 0:\n",
    "    print(\"Please enter a positive integer\")\n",
    "elif nterms == 1:\n",
    "    print(\"Fibonacci sequence upto\",nterms,\":\")\n",
    "    print(n1)\n",
    "else:\n",
    "    print(\"Fibonacci sequence:\")\n",
    "    while count <= nterms:\n",
    "        print(f'{n1}')\n",
    "        nth = n1 + n2\n",
    "        # update values\n",
    "        n1 = n2\n",
    "        n2 = nth\n",
    "        count += 1"
   ]
  },
  {
   "cell_type": "markdown",
   "metadata": {},
   "source": [
    "4.\tWrite a Python Program to Check Armstrong Number?"
   ]
  },
  {
   "cell_type": "code",
   "execution_count": 2,
   "metadata": {},
   "outputs": [
    {
     "name": "stdout",
     "output_type": "stream",
     "text": [
      "Enter the number to check if armstrong:10\n",
      "10 is not an Armstrong number\n"
     ]
    }
   ],
   "source": [
    "inp = input('Enter the number to check if armstrong:')\n",
    "len_of_inp = len(inp)\n",
    "sum_ = 0 \n",
    "for num in inp:\n",
    "    sum_ = sum_ + int(num)**len_of_inp\n",
    "#     my_lst.append(int(num)**len_of_inp)\n",
    "else:\n",
    "    if sum_ == int(inp):\n",
    "        print(f'{inp} is a Armstrong number')\n",
    "    else:\n",
    "        print(f'{inp} is not an Armstrong number')"
   ]
  },
  {
   "cell_type": "markdown",
   "metadata": {},
   "source": [
    "5.\tWrite a Python Program to Find Armstrong Number in an Interval?"
   ]
  },
  {
   "cell_type": "code",
   "execution_count": 9,
   "metadata": {},
   "outputs": [
    {
     "name": "stdout",
     "output_type": "stream",
     "text": [
      "Enter the start value of the interval:1\n",
      "Enter the end value of the interval:20\n",
      "\n",
      "\n",
      "The list or armstrong numbers between 1 and 20: \n",
      "\n",
      "[1, 2, 3, 4, 5, 6, 7, 8, 9]\n"
     ]
    }
   ],
   "source": [
    "start_val = int(input('Enter the start value of the interval:'))\n",
    "end_val   = int(input('Enter the end value of the interval:'))\n",
    "print('\\n')\n",
    "arm_lst = list()\n",
    "for inp in range(start_val,(end_val+1)):\n",
    "    len_of_inp = len(str(inp))\n",
    "    sum_ = 0 \n",
    "    for num in str(inp):\n",
    "        sum_ = sum_ + int(num)**len_of_inp\n",
    "    #     my_lst.append(int(num)**len_of_inp)\n",
    "    else:\n",
    "        if sum_ == int(inp):\n",
    "            arm_lst.append(int(inp))\n",
    "#             print(f'{inp} is a Armstrong number')\n",
    "        else:\n",
    "            pass\n",
    "#             print(f'{inp} is not an Armstrong number')\n",
    "else:\n",
    "    print(f'The list or armstrong numbers between {start_val} and {end_val}: \\n')\n",
    "    print(arm_lst)"
   ]
  }
 ],
 "metadata": {
  "kernelspec": {
   "display_name": "Python 3",
   "language": "python",
   "name": "python3"
  },
  "language_info": {
   "codemirror_mode": {
    "name": "ipython",
    "version": 3
   },
   "file_extension": ".py",
   "mimetype": "text/x-python",
   "name": "python",
   "nbconvert_exporter": "python",
   "pygments_lexer": "ipython3",
   "version": "3.8.5"
  }
 },
 "nbformat": 4,
 "nbformat_minor": 4
}

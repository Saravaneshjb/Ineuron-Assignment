{
 "cells": [
  {
   "cell_type": "markdown",
   "metadata": {},
   "source": [
    "**1. To what does a relative path refer?\n",
    "- Relative path refers to the location which is more relevant to the current directory"
   ]
  },
  {
   "cell_type": "markdown",
   "metadata": {},
   "source": [
    "**2. What does an absolute path start with in your operating system?\n",
    "- An absolute path is a path that contains the entire path to the file or directory that you need to access. This path will begin at the home directory of your computer and will end with the file or directory that you wish to access"
   ]
  },
  {
   "cell_type": "markdown",
   "metadata": {},
   "source": [
    "**3. What do the functions os.getcwd() and os.chdir() do?\n",
    "- os.getcwd() - Returns the current working directory from where the program is executing \n",
    "- os.chdir()  - This function is used to change the directory to a specified path"
   ]
  },
  {
   "cell_type": "markdown",
   "metadata": {},
   "source": [
    "**4. What are the . and .. folders?\n",
    "- . => This refers to the current folder/directory\n",
    "- .. => This refers to the parent folder/directory"
   ]
  },
  {
   "cell_type": "markdown",
   "metadata": {},
   "source": [
    "**5. In C:\\bacon\\eggs\\spam.txt, which part is the dir name, and which part is the base name?\n",
    "\n",
    "- C:\\bacon\\eggs\\ - This is the dir name \n",
    "- spam.txt - This is the base name "
   ]
  },
  {
   "cell_type": "markdown",
   "metadata": {},
   "source": [
    "**6. What are the three “mode” arguments that can be passed to the open() function?\n",
    "- r: open an existing file for a read operation.\n",
    "- w: open an existing file for a write operation. If the file already contains some data then it will be overridden but if the file is not present then it creates the file as well.\n",
    "- a:  open an existing file for append operation. It won’t override existing data.\n",
    "- r+:  To read and write data into the file. The previous data in the file will be overridden.\n",
    "- w+: To write and read data. It will override existing data.\n",
    "- a+: To append and read data from the file. It won’t override existing data."
   ]
  },
  {
   "cell_type": "markdown",
   "metadata": {},
   "source": [
    "**7. What happens if an existing file is opened in write mode?\n",
    "- opens an existing file for a write operation. If the file already contains some data then it will be overridden."
   ]
  },
  {
   "cell_type": "markdown",
   "metadata": {},
   "source": [
    "**8. How do you tell the difference between read() and readlines()?\n",
    "- read() reads the entire contents of the file into a string. You can also give read() an optional argument, which designates the number of characters to read from the file:\n",
    "- readlines() - It reads the next line from the file."
   ]
  },
  {
   "cell_type": "markdown",
   "metadata": {},
   "source": [
    "**9. What data structure does a shelf value resemble?\n",
    "- It resembles a dictionary"
   ]
  }
 ],
 "metadata": {
  "kernelspec": {
   "display_name": "Python 3",
   "language": "python",
   "name": "python3"
  },
  "language_info": {
   "codemirror_mode": {
    "name": "ipython",
    "version": 3
   },
   "file_extension": ".py",
   "mimetype": "text/x-python",
   "name": "python",
   "nbconvert_exporter": "python",
   "pygments_lexer": "ipython3",
   "version": "3.8.5"
  }
 },
 "nbformat": 4,
 "nbformat_minor": 4
}

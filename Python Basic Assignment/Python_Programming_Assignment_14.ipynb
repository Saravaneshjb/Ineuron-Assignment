{
 "cells": [
  {
   "cell_type": "markdown",
   "id": "907cda79",
   "metadata": {},
   "source": [
    "Question 1:\n",
    "\n",
    "Define a class with a generator which can iterate the numbers, which are divisible by 7, between a given range 0 and n.\n"
   ]
  },
  {
   "cell_type": "code",
   "execution_count": 37,
   "id": "40e3fa1a",
   "metadata": {},
   "outputs": [],
   "source": [
    "class DivisibleBySeven:\n",
    "    def __init__(self, n):\n",
    "        self.n = n\n",
    "\n",
    "    def generate_numbers(self):\n",
    "        for i in range(self.n):\n",
    "            if i % 7 == 0:\n",
    "                yield i"
   ]
  },
  {
   "cell_type": "code",
   "execution_count": 41,
   "id": "64e0c826",
   "metadata": {},
   "outputs": [],
   "source": [
    "numbers = DivisibleBySeven(50)\n",
    "num_gen=numbers.generate_numbers()"
   ]
  },
  {
   "cell_type": "code",
   "execution_count": 42,
   "id": "ae5d01ba",
   "metadata": {},
   "outputs": [
    {
     "name": "stdout",
     "output_type": "stream",
     "text": [
      "0\n",
      "7\n",
      "14\n",
      "21\n",
      "28\n",
      "35\n",
      "42\n",
      "49\n"
     ]
    }
   ],
   "source": [
    "for num in num_gen:\n",
    "    print(num)"
   ]
  },
  {
   "cell_type": "markdown",
   "id": "08522769",
   "metadata": {},
   "source": [
    "Question 2:\n",
    "Write a program to compute the frequency of the words from the input. The output should output after sorting the key alphanumerically. \n",
    "\n",
    "Suppose the following input is supplied to the program:\n",
    "\n",
    "New to Python or choosing between Python 2 and Python 3? Read Python 2 or Python 3.\n",
    "\n",
    "Then, the output should be:\n",
    "\n",
    "2:2\n",
    "\n",
    "3.:1\n",
    "\n",
    "3?:1\n",
    "\n",
    "New:1\n",
    "\n",
    "Python:5\n",
    "\n",
    "Read:1\n",
    "\n",
    "and:1\n",
    "\n",
    "between:1\n",
    "\n",
    "choosing:1\n",
    "\n",
    "or:2\n",
    "\n",
    "to:1\n"
   ]
  },
  {
   "cell_type": "code",
   "execution_count": 15,
   "id": "7ff6580c",
   "metadata": {},
   "outputs": [],
   "source": [
    "my_str='New to Python or choosing between  Python 2 and Python 3? Read Python 2 or Python 3'"
   ]
  },
  {
   "cell_type": "code",
   "execution_count": 21,
   "id": "65881b68",
   "metadata": {},
   "outputs": [
    {
     "name": "stdout",
     "output_type": "stream",
     "text": [
      "The sorted string : ['2', '2', '3', '3?', 'New', 'Python', 'Python', 'Python', 'Python', 'Python', 'Read', 'and', 'between', 'choosing', 'or', 'or', 'to']\n",
      "\n",
      "\n",
      "2:2\n",
      "3:1\n",
      "3?:1\n",
      "New:1\n",
      "Python:5\n",
      "Read:1\n",
      "and:1\n",
      "between:1\n",
      "choosing:1\n",
      "or:2\n",
      "to:1\n"
     ]
    }
   ],
   "source": [
    "my_str1=my_str.split()\n",
    "my_str_sorted=sorted(my_str1)\n",
    "print('The sorted string :',my_str_sorted)\n",
    "print('\\n')\n",
    "#Starting with the counting process\n",
    "previous_val=0\n",
    "for vals in my_str_sorted:\n",
    "    if vals==previous_val:\n",
    "        continue\n",
    "    else:\n",
    "        print(f'{vals}:{my_str_sorted.count(vals)}')\n",
    "    previous_val=vals"
   ]
  },
  {
   "cell_type": "markdown",
   "id": "c6c9b3d8",
   "metadata": {},
   "source": [
    "Question 3:\n",
    "\n",
    "\n",
    "\n",
    "Define a class Person and its two child classes: Male and Female. All classes have a method \"getGender\" which can print \"Male\" for Male class and \"Female\" for Female class.\n"
   ]
  },
  {
   "cell_type": "code",
   "execution_count": 22,
   "id": "4f34454e",
   "metadata": {},
   "outputs": [],
   "source": [
    "class Person:\n",
    "    def getGender(self):\n",
    "        pass # abstract method\n",
    "\n",
    "class Male(Person):\n",
    "    def getGender(self):\n",
    "        print(\"Male\")\n",
    "\n",
    "class Female(Person):\n",
    "    def getGender(self):\n",
    "        print(\"Female\")"
   ]
  },
  {
   "cell_type": "code",
   "execution_count": 29,
   "id": "5491d70f",
   "metadata": {},
   "outputs": [],
   "source": [
    "p1=Person()\n",
    "m=Male()\n",
    "f=Female()"
   ]
  },
  {
   "cell_type": "code",
   "execution_count": 28,
   "id": "c435e6ac",
   "metadata": {},
   "outputs": [
    {
     "name": "stdout",
     "output_type": "stream",
     "text": [
      "Male\n"
     ]
    }
   ],
   "source": [
    "m.getGender()"
   ]
  },
  {
   "cell_type": "code",
   "execution_count": 30,
   "id": "c5fff3b0",
   "metadata": {},
   "outputs": [
    {
     "name": "stdout",
     "output_type": "stream",
     "text": [
      "Female\n"
     ]
    }
   ],
   "source": [
    "f.getGender()"
   ]
  },
  {
   "cell_type": "markdown",
   "id": "893c92fa",
   "metadata": {},
   "source": [
    "Question 4:\n",
    "\n",
    "Please write a program to generate all sentences where subject is in [\"I\", \"You\"] and verb is in [\"Play\", \"Love\"] and the object is in [\"Hockey\",\"Football\"].\n"
   ]
  },
  {
   "cell_type": "code",
   "execution_count": 31,
   "id": "829847ca",
   "metadata": {},
   "outputs": [
    {
     "name": "stdout",
     "output_type": "stream",
     "text": [
      "I Play Hockey\n",
      "I Play Football\n",
      "I Love Hockey\n",
      "I Love Football\n",
      "You Play Hockey\n",
      "You Play Football\n",
      "You Love Hockey\n",
      "You Love Football\n"
     ]
    }
   ],
   "source": [
    "subjects = [\"I\", \"You\"]\n",
    "verbs = [\"Play\", \"Love\"]\n",
    "objects = [\"Hockey\", \"Football\"]\n",
    "\n",
    "for subject in subjects:\n",
    "    for verb in verbs:\n",
    "        for obj in objects:\n",
    "            sentence = f\"{subject} {verb} {obj}\"\n",
    "            print(sentence)"
   ]
  },
  {
   "cell_type": "markdown",
   "id": "1e2c1544",
   "metadata": {},
   "source": [
    "Question 5:\n",
    "\n",
    "Please write a program to compress and decompress the string \"hello world!hello world!hello world!hello world!\".\n"
   ]
  },
  {
   "cell_type": "code",
   "execution_count": 33,
   "id": "388053f7",
   "metadata": {},
   "outputs": [
    {
     "name": "stdout",
     "output_type": "stream",
     "text": [
      "Compressed string:  b'x\\x9c\\xcbH\\xcd\\xc9\\xc9W(\\xcf/\\xcaIQ\\xcc \\x82\\r\\x00\\xbd[\\x11\\xf5'\n",
      "Decompressed string:  hello world!hello world!hello world!hello world!\n"
     ]
    }
   ],
   "source": [
    "import zlib\n",
    "\n",
    "original_string = \"hello world!hello world!hello world!hello world!\"\n",
    "compressed_string = zlib.compress(original_string.encode())\n",
    "print(\"Compressed string: \", compressed_string)\n",
    "decompressed_string = zlib.decompress(compressed_string)\n",
    "print(\"Decompressed string: \", decompressed_string.decode())\n"
   ]
  },
  {
   "cell_type": "markdown",
   "id": "dd3dc1a2",
   "metadata": {},
   "source": [
    "Question 6:\n",
    "\n",
    "Please write a binary search function which searches an item in a sorted list. The function should return the index of element to be searched in the list.\n"
   ]
  },
  {
   "cell_type": "code",
   "execution_count": 34,
   "id": "9e00b6ca",
   "metadata": {},
   "outputs": [],
   "source": [
    "def binary_search(arr, target):\n",
    "    \"\"\"Searches for the target in a sorted array using binary search.\n",
    "\n",
    "    Args:\n",
    "        arr: A sorted list of integers.\n",
    "        target: The integer to search for.\n",
    "\n",
    "    Returns:\n",
    "        The index of the target in the array if found, otherwise -1.\n",
    "    \"\"\"\n",
    "    left, right = 0, len(arr) - 1\n",
    "    while left <= right:\n",
    "        mid = (left + right) // 2\n",
    "        if arr[mid] == target:\n",
    "            return mid\n",
    "        elif arr[mid] < target:\n",
    "            left = mid + 1\n",
    "        else:\n",
    "            right = mid - 1\n",
    "    return -1\n"
   ]
  },
  {
   "cell_type": "code",
   "execution_count": 35,
   "id": "48c1c192",
   "metadata": {},
   "outputs": [
    {
     "name": "stdout",
     "output_type": "stream",
     "text": [
      "Found 6 at index 5\n"
     ]
    }
   ],
   "source": [
    "arr = [1, 2, 3, 4, 5, 6, 7, 8, 9, 10]\n",
    "target = 6\n",
    "index = binary_search(arr, target)\n",
    "if index != -1:\n",
    "    print(f\"Found {target} at index {index}\")\n",
    "else:\n",
    "    print(f\"{target} not found in the array\")\n"
   ]
  }
 ],
 "metadata": {
  "kernelspec": {
   "display_name": "Python 3 (ipykernel)",
   "language": "python",
   "name": "python3"
  },
  "language_info": {
   "codemirror_mode": {
    "name": "ipython",
    "version": 3
   },
   "file_extension": ".py",
   "mimetype": "text/x-python",
   "name": "python",
   "nbconvert_exporter": "python",
   "pygments_lexer": "ipython3",
   "version": "3.10.9"
  }
 },
 "nbformat": 4,
 "nbformat_minor": 5
}

{
 "cells": [
  {
   "cell_type": "markdown",
   "id": "6c201ee2",
   "metadata": {},
   "source": [
    "Question1. Create a function that takes three arguments a, b, c and returns the sum of the numbers that are evenly divided by c from the range a, b inclusive.\n",
    "\n",
    "Examples\n",
    "\n",
    "evenly_divisible(1, 10, 20) ➞ 0\n",
    "\n",
    "No number between 1 and 10 can be evenly divided by 20.\n",
    "\n",
    "evenly_divisible(1, 10, 2) ➞ 30\n",
    "\n",
    "2 + 4 + 6 + 8 + 10 = 30\n",
    "\n",
    "evenly_divisible(1, 10, 3) ➞ 18\n",
    "\n",
    "3 + 6 + 9 = 18\n"
   ]
  },
  {
   "cell_type": "code",
   "execution_count": 10,
   "id": "99790ca7",
   "metadata": {},
   "outputs": [],
   "source": [
    "def sum_of_numbers(a,b,c):\n",
    "    list_to_sum=list()\n",
    "    for i in range(a,(b+1)):\n",
    "        if i%c==0:\n",
    "            list_to_sum.append(i)\n",
    "    if len(list_to_sum)==0:\n",
    "        print(f'No number between {a} and {b} can be evenly divided by {c}')\n",
    "    return sum(list_to_sum)"
   ]
  },
  {
   "cell_type": "code",
   "execution_count": 11,
   "id": "2a5ba0cf",
   "metadata": {},
   "outputs": [
    {
     "name": "stdout",
     "output_type": "stream",
     "text": [
      "No number between 1 and 10 can be evenly divided by 20\n"
     ]
    },
    {
     "data": {
      "text/plain": [
       "0"
      ]
     },
     "execution_count": 11,
     "metadata": {},
     "output_type": "execute_result"
    }
   ],
   "source": [
    "sum_of_numbers(1,10,20)"
   ]
  },
  {
   "cell_type": "code",
   "execution_count": 12,
   "id": "8f612b0a",
   "metadata": {},
   "outputs": [
    {
     "data": {
      "text/plain": [
       "30"
      ]
     },
     "execution_count": 12,
     "metadata": {},
     "output_type": "execute_result"
    }
   ],
   "source": [
    "sum_of_numbers(1,10,2)"
   ]
  },
  {
   "cell_type": "code",
   "execution_count": 13,
   "id": "dec61e2d",
   "metadata": {},
   "outputs": [
    {
     "data": {
      "text/plain": [
       "18"
      ]
     },
     "execution_count": 13,
     "metadata": {},
     "output_type": "execute_result"
    }
   ],
   "source": [
    "sum_of_numbers(1,10,3)"
   ]
  },
  {
   "cell_type": "markdown",
   "id": "ac899d05",
   "metadata": {},
   "source": [
    "Question2. Create a function that returns True if a given inequality expression is correct and False otherwise.\n",
    "\n",
    "Examples\n",
    "\n",
    "correct_signs(\"3 < 7 < 11\") ➞ True\n",
    "\n",
    "correct_signs(\"13 > 44 > 33 > 1\") ➞ False\n",
    "\n",
    "correct_signs(\"1 < 2 < 6 < 9 > 3\") ➞ True\n"
   ]
  },
  {
   "cell_type": "code",
   "execution_count": 20,
   "id": "d6efd64b",
   "metadata": {},
   "outputs": [],
   "source": [
    "def check_the_condition():\n",
    "    condition_to_check=input('Enter the signs :')\n",
    "    result=eval(condition_to_check)\n",
    "    return result"
   ]
  },
  {
   "cell_type": "code",
   "execution_count": 21,
   "id": "88151671",
   "metadata": {},
   "outputs": [
    {
     "name": "stdout",
     "output_type": "stream",
     "text": [
      "Enter the signs :3<7<11\n"
     ]
    },
    {
     "data": {
      "text/plain": [
       "True"
      ]
     },
     "execution_count": 21,
     "metadata": {},
     "output_type": "execute_result"
    }
   ],
   "source": [
    "check_the_condition()"
   ]
  },
  {
   "cell_type": "code",
   "execution_count": 23,
   "id": "9dfeb95b",
   "metadata": {},
   "outputs": [
    {
     "name": "stdout",
     "output_type": "stream",
     "text": [
      "Enter the signs :13>44>33<1\n"
     ]
    },
    {
     "data": {
      "text/plain": [
       "False"
      ]
     },
     "execution_count": 23,
     "metadata": {},
     "output_type": "execute_result"
    }
   ],
   "source": [
    "check_the_condition()"
   ]
  },
  {
   "cell_type": "code",
   "execution_count": 24,
   "id": "a9cf4fbc",
   "metadata": {},
   "outputs": [
    {
     "name": "stdout",
     "output_type": "stream",
     "text": [
      "Enter the signs :1<2<6<9>3\n"
     ]
    },
    {
     "data": {
      "text/plain": [
       "True"
      ]
     },
     "execution_count": 24,
     "metadata": {},
     "output_type": "execute_result"
    }
   ],
   "source": [
    "check_the_condition()"
   ]
  },
  {
   "cell_type": "markdown",
   "id": "4e3046c4",
   "metadata": {},
   "source": [
    "Question3. Create a function that replaces all the vowels in a string with a specified character.\n",
    "\n",
    "Examples\n",
    "\n",
    "replace_vowels(\"the aardvark\", \"#\") ➞ \"th# ##rdv#rk\"\n",
    "\n",
    "replace_vowels(\"minnie mouse\", \"?\") ➞ \"m?nn?? m??s?\"\n",
    "\n",
    "replace_vowels(\"shakespeare\", \"*\") ➞ \"sh*k*sp**r*\"\n"
   ]
  },
  {
   "cell_type": "code",
   "execution_count": 28,
   "id": "87772e37",
   "metadata": {},
   "outputs": [],
   "source": [
    "def replace_vowels(input_str, special_char):\n",
    "    vowels = 'aeiouAEIOU'\n",
    "    output_str = ''\n",
    "    for char in input_str:\n",
    "        if char in vowels:\n",
    "            output_str += special_char\n",
    "        else:\n",
    "            output_str += char\n",
    "    return output_str"
   ]
  },
  {
   "cell_type": "code",
   "execution_count": 29,
   "id": "6b9212fb",
   "metadata": {},
   "outputs": [
    {
     "data": {
      "text/plain": [
       "'th# ##rdv#rk'"
      ]
     },
     "execution_count": 29,
     "metadata": {},
     "output_type": "execute_result"
    }
   ],
   "source": [
    "replace_vowels('the aardvark','#')"
   ]
  },
  {
   "cell_type": "code",
   "execution_count": 30,
   "id": "8fb520d1",
   "metadata": {},
   "outputs": [
    {
     "data": {
      "text/plain": [
       "'m?nn?? m??s?'"
      ]
     },
     "execution_count": 30,
     "metadata": {},
     "output_type": "execute_result"
    }
   ],
   "source": [
    "replace_vowels('minnie mouse','?')"
   ]
  },
  {
   "cell_type": "code",
   "execution_count": 32,
   "id": "e0dee945",
   "metadata": {},
   "outputs": [
    {
     "data": {
      "text/plain": [
       "'sh*k*sp**r*'"
      ]
     },
     "execution_count": 32,
     "metadata": {},
     "output_type": "execute_result"
    }
   ],
   "source": [
    "replace_vowels('shakespeare',\"*\")"
   ]
  },
  {
   "cell_type": "markdown",
   "id": "72faaf97",
   "metadata": {},
   "source": [
    "Question4. Write a function that calculates the factorial of a number recursively.\n",
    "\n",
    "Examples\n",
    "\n",
    "factorial(5) ➞ 120\n",
    "\n",
    "factorial(3) ➞ 6\n",
    "\n",
    "factorial(1) ➞ 1\n",
    "\n",
    "factorial(0) ➞ 1\n"
   ]
  },
  {
   "cell_type": "code",
   "execution_count": 50,
   "id": "20943a7b",
   "metadata": {},
   "outputs": [],
   "source": [
    "def find_factorial(num):\n",
    "    my_ls=list(range(1,(num+1)))\n",
    "    my_ls=my_ls[::-1]\n",
    "    prod=1\n",
    "    for vals in my_ls:\n",
    "        prod=prod*vals\n",
    "    return prod"
   ]
  },
  {
   "cell_type": "code",
   "execution_count": 51,
   "id": "f6ae1bc9",
   "metadata": {},
   "outputs": [
    {
     "data": {
      "text/plain": [
       "120"
      ]
     },
     "execution_count": 51,
     "metadata": {},
     "output_type": "execute_result"
    }
   ],
   "source": [
    "find_factorial(5)"
   ]
  },
  {
   "cell_type": "code",
   "execution_count": 52,
   "id": "4ec55c1b",
   "metadata": {},
   "outputs": [
    {
     "data": {
      "text/plain": [
       "6"
      ]
     },
     "execution_count": 52,
     "metadata": {},
     "output_type": "execute_result"
    }
   ],
   "source": [
    "find_factorial(3)"
   ]
  },
  {
   "cell_type": "code",
   "execution_count": 53,
   "id": "ae9c3795",
   "metadata": {},
   "outputs": [
    {
     "data": {
      "text/plain": [
       "1"
      ]
     },
     "execution_count": 53,
     "metadata": {},
     "output_type": "execute_result"
    }
   ],
   "source": [
    "find_factorial(1)"
   ]
  },
  {
   "cell_type": "code",
   "execution_count": 54,
   "id": "cee49998",
   "metadata": {},
   "outputs": [
    {
     "data": {
      "text/plain": [
       "1"
      ]
     },
     "execution_count": 54,
     "metadata": {},
     "output_type": "execute_result"
    }
   ],
   "source": [
    "find_factorial(0)"
   ]
  },
  {
   "cell_type": "markdown",
   "id": "4c9a8259",
   "metadata": {},
   "source": [
    "Question 5\n",
    "\n",
    "Hamming distance is the number of characters that differ between two strings.\n",
    "\n",
    "To illustrate:\n",
    "\n",
    "String1: \"abcbba\"\n",
    "\n",
    "String2: \"abcbda\"\n",
    "\n",
    "Hamming Distance: 1 - \"b\" vs. \"d\" is the only difference.\n",
    "Create a function that computes the hamming distance between two strings.\n",
    "Examples\n",
    "hamming_distance(\"abcde\", \"bcdef\") ➞ 5\n",
    "\n",
    "hamming_distance(\"abcde\", \"abcde\") ➞ 0\n",
    "\n",
    "hamming_distance(\"strong\", \"strung\") ➞ 1"
   ]
  },
  {
   "cell_type": "code",
   "execution_count": 62,
   "id": "8adf096c",
   "metadata": {},
   "outputs": [],
   "source": [
    "def hamming_dist(str1,str2):\n",
    "    diff_count=0\n",
    "    for i,j in zip(str1,str2):\n",
    "        if i!=j:\n",
    "            diff_count=diff_count+1\n",
    "    return diff_count"
   ]
  },
  {
   "cell_type": "code",
   "execution_count": 63,
   "id": "968b7660",
   "metadata": {},
   "outputs": [
    {
     "data": {
      "text/plain": [
       "5"
      ]
     },
     "execution_count": 63,
     "metadata": {},
     "output_type": "execute_result"
    }
   ],
   "source": [
    "hamming_dist('abcde','bcdef')"
   ]
  },
  {
   "cell_type": "code",
   "execution_count": 64,
   "id": "3a133973",
   "metadata": {},
   "outputs": [
    {
     "data": {
      "text/plain": [
       "0"
      ]
     },
     "execution_count": 64,
     "metadata": {},
     "output_type": "execute_result"
    }
   ],
   "source": [
    "hamming_dist('abcde','abcde')"
   ]
  },
  {
   "cell_type": "code",
   "execution_count": 65,
   "id": "7653f2e0",
   "metadata": {},
   "outputs": [
    {
     "data": {
      "text/plain": [
       "1"
      ]
     },
     "execution_count": 65,
     "metadata": {},
     "output_type": "execute_result"
    }
   ],
   "source": [
    "hamming_dist('strong','strung')"
   ]
  }
 ],
 "metadata": {
  "kernelspec": {
   "display_name": "Python 3 (ipykernel)",
   "language": "python",
   "name": "python3"
  },
  "language_info": {
   "codemirror_mode": {
    "name": "ipython",
    "version": 3
   },
   "file_extension": ".py",
   "mimetype": "text/x-python",
   "name": "python",
   "nbconvert_exporter": "python",
   "pygments_lexer": "ipython3",
   "version": "3.10.9"
  }
 },
 "nbformat": 4,
 "nbformat_minor": 5
}

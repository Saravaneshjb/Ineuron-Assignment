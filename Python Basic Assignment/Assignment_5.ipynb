{
 "cells": [
  {
   "cell_type": "markdown",
   "metadata": {},
   "source": [
    "**1. What does an empty dictionary's code look like?\n",
    "- An empty dictionary can be created with either curly braces {} or dict() function. \n",
    "- Eg: my_dict = {} (or) my_dict = dict()"
   ]
  },
  {
   "cell_type": "markdown",
   "metadata": {},
   "source": [
    "**2. What is the value of a dictionary value with the key 'foo' and the value 42?\n",
    "- my_dict = {'foo' : 42}\n",
    "- In this case the key is 'foo' and the value is 42"
   ]
  },
  {
   "cell_type": "markdown",
   "metadata": {},
   "source": [
    "**3. What is the most significant distinction between a dictionary and a list?\n",
    "\n",
    "|Dictionary|List|\n",
    "|---|---|\n",
    "|dictionary is represented by curly braces '{}'|List is represented by square brackets '[]'|\n",
    "|dictionary has a key, value pair presentation eg: {key : value} | List only contains only the values eg: [val1, val2 ...] |\n",
    "|The values in the dictionary can be accessed by their keys (i.e.) dict[key] | The items in the List are accessed by the index position (i.e.) lst[index] |\n"
   ]
  },
  {
   "cell_type": "markdown",
   "metadata": {},
   "source": [
    "**4. What happens if you try to access spam['foo'] if spam is {'bar': 100}?\n",
    "- Spam is a dictionary with value 100\n",
    "- So , spam['foo'] executed will return the output as 100"
   ]
  },
  {
   "cell_type": "markdown",
   "metadata": {},
   "source": [
    "**5. If a dictionary is stored in spam, what is the difference between the expressions 'cat' in spam and 'cat' in spam.keys()?\n",
    "\n",
    "- Say we have a dictionary as spam = {'cat' : 25 }\n",
    "- In this case if we execute spam['cat'] , it would return the values in the spam dictionary (i.e.) 25\n",
    "- If spam.keys() is executed the output would be a list of keys in the spam dictionary in this case it would be ['cat']\n"
   ]
  },
  {
   "cell_type": "markdown",
   "metadata": {},
   "source": [
    "**6. If a dictionary is stored in spam, what is the difference between the expressions 'cat' in spam and 'cat' in spam.values()?\n",
    "- spam dictionary - {'cat' : 10000}\n",
    "- spam.values() would return a list of all the values in the dictionary in this case it would be [10000]"
   ]
  },
  {
   "cell_type": "markdown",
   "metadata": {},
   "source": [
    "**7. What is a shortcut for the following code?\n",
    "\n",
    "if 'color' not in spam:\n",
    "spam['color'] = 'black'\n",
    "\n",
    "- spam.setdefault('color','black')"
   ]
  },
  {
   "cell_type": "markdown",
   "metadata": {},
   "source": [
    "**8. How do you \"pretty print\" dictionary values using which module and function?\n",
    "- import the pprint module\n",
    "- print the dictionary with the pprint module as pprint.pprint(dictionar_name)"
   ]
  }
 ],
 "metadata": {
  "kernelspec": {
   "display_name": "Python 3",
   "language": "python",
   "name": "python3"
  },
  "language_info": {
   "codemirror_mode": {
    "name": "ipython",
    "version": 3
   },
   "file_extension": ".py",
   "mimetype": "text/x-python",
   "name": "python",
   "nbconvert_exporter": "python",
   "pygments_lexer": "ipython3",
   "version": "3.8.5"
  }
 },
 "nbformat": 4,
 "nbformat_minor": 4
}

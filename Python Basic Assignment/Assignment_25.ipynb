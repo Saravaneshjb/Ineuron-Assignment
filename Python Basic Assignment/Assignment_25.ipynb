{
 "cells": [
  {
   "cell_type": "markdown",
   "id": "cf2dbb28",
   "metadata": {},
   "source": [
    "### 1) . What is the difference between enclosing a list comprehension in square brackets and parentheses?"
   ]
  },
  {
   "cell_type": "markdown",
   "id": "43198d9b",
   "metadata": {},
   "source": [
    "- Enclosing a list comprehension in square brackets [] creates a list, while enclosing it in parentheses () creates a generator object.\n",
    "\n",
    "- A list comprehension creates a list by evaluating an expression over each item in the iterable. The resulting list is stored in memory and can be accessed or modified.\n",
    "\n",
    "- A generator expression, on the other hand, creates an iterator that generates values on the fly as they are needed. The values are not stored in memory, so a generator expression is more memory efficient than a list comprehension. However, once the values have been generated, they cannot be accessed again without re-evaluating the entire expression."
   ]
  },
  {
   "cell_type": "markdown",
   "id": "b6cc2b63",
   "metadata": {},
   "source": [
    "### 2) What is the relationship between generators and iterators?"
   ]
  },
  {
   "cell_type": "markdown",
   "id": "7d3f2d02",
   "metadata": {},
   "source": [
    "- An iterator is an object that can be iterated upon, meaning that you can traverse through all the values. Iterators are used to represent streams of data that can be accessed one element at a time.\n",
    "\n",
    "- A generator is a type of iterator, but instead of returning all the values at once, it generates the values on the fly as you iterate over it. A generator function is defined using the `yield` keyword instead of `return`. When a generator function is called, it returns a generator object that can be iterated over.\n",
    "\n",
    "- In other words, a generator is a special type of iterator that can be used to generate a sequence of values, one at a time, on-the-fly, as opposed to generating all the values at once, like a list comprehension. Generators are often more memory-efficient than lists or other data structures because they don't need to store all the values in memory at once. Instead, they generate each value as needed."
   ]
  },
  {
   "cell_type": "markdown",
   "id": "3348c4a9",
   "metadata": {},
   "source": [
    "### 3) What are the signs that a function is a generator function?"
   ]
  },
  {
   "cell_type": "markdown",
   "id": "edb7e193",
   "metadata": {},
   "source": [
    "1. It contains the `yield` keyword at least once.\n",
    "2. It returns a generator object when called, rather than an immediate value.\n",
    "3. It uses the `next()` function to iterate through the generator object and produce values on the fly.\n",
    "4. It can pause and resume execution, allowing for the generation of large or infinite sequences of values without having to generate them all at once and store them in memory."
   ]
  },
  {
   "cell_type": "markdown",
   "id": "ddd0ad47",
   "metadata": {},
   "source": [
    "### 4) What is the purpose of a yield statement?"
   ]
  },
  {
   "cell_type": "markdown",
   "id": "cc398f1f",
   "metadata": {},
   "source": [
    "- The `yield` statement is used in Python generator functions to produce a sequence of values. When a generator function is called, it doesn't actually execute the function, instead, it returns an iterator object. The `yield` statement inside the generator function is used to produce a value to be returned to the caller of the iterator, and to \"pause\" the execution of the generator function until the next value is requested.\n",
    "\n",
    "- Every time the `yield` statement is encountered in the generator function, it produces a value that is returned to the caller. When the caller requests the next value from the iterator (by calling the `next()` function on the iterator object), the generator function resumes from where it left off and continues executing until it hits another `yield` statement, and the process repeats until there are no more values to produce.\n",
    "\n",
    "- In summary, the `yield` statement is used to create generator functions that can produce a sequence of values that are returned to the caller one at a time, without having to generate all the values at once, which can be more memory-efficient and faster than creating a complete list of values."
   ]
  },
  {
   "cell_type": "markdown",
   "id": "d40abf46",
   "metadata": {},
   "source": [
    "### 5) What is the relationship between map calls and list comprehensions? Make a comparison and contrast between the two."
   ]
  },
  {
   "cell_type": "markdown",
   "id": "f0c75fe8",
   "metadata": {},
   "source": [
    "- The primary similarity between map calls and list comprehensions is that both allow us to apply a function to each element in a sequence. However, they differ in how they construct and return the resulting sequence.\n",
    "- Map calls return a map object, which is an iterator that produces the results of applying a function to each element of an iterable. To get the final sequence, we need to pass the map object to a list constructor or use it in a for loop to iterate over the results.\n",
    "- On the other hand, list comprehensions construct a new list by applying a function to each element of an iterable, just like map(). However, list comprehensions are written in a more concise and readable way, and they return a list directly.\n",
    "- the main difference between map calls and list comprehensions is that map calls return an iterator, whereas list comprehensions return a list. Additionally, list comprehensions are generally more readable and concise than map calls."
   ]
  },
  {
   "cell_type": "code",
   "execution_count": null,
   "id": "fe4a136c",
   "metadata": {},
   "outputs": [],
   "source": []
  },
  {
   "cell_type": "code",
   "execution_count": null,
   "id": "b1d829f3",
   "metadata": {},
   "outputs": [],
   "source": []
  }
 ],
 "metadata": {
  "kernelspec": {
   "display_name": "Python 3 (ipykernel)",
   "language": "python",
   "name": "python3"
  },
  "language_info": {
   "codemirror_mode": {
    "name": "ipython",
    "version": 3
   },
   "file_extension": ".py",
   "mimetype": "text/x-python",
   "name": "python",
   "nbconvert_exporter": "python",
   "pygments_lexer": "ipython3",
   "version": "3.10.9"
  }
 },
 "nbformat": 4,
 "nbformat_minor": 5
}

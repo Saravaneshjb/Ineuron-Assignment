{
 "cells": [
  {
   "cell_type": "markdown",
   "metadata": {},
   "source": [
    "**1. What exactly is []?\n",
    "- [] - This is the sumbolic presentation of the list which is one of the datastructures in Python"
   ]
  },
  {
   "cell_type": "markdown",
   "metadata": {},
   "source": [
    "**2. In a list of values stored in a variable called spam, how would you assign the value 'hello' as the third value? (Assume [2, 4, 6, 8, 10] are in spam.\n"
   ]
  },
  {
   "cell_type": "code",
   "execution_count": 22,
   "metadata": {},
   "outputs": [
    {
     "name": "stdout",
     "output_type": "stream",
     "text": [
      "The spam list before changing : [2, 4, 6, 8, 10]\n",
      "The spam list after assigning value hello : [2, 4, 'hello', 8, 10]\n"
     ]
    }
   ],
   "source": [
    "spam = [2,4,6,8,10]\n",
    "print(\"The spam list before changing :\", spam)\n",
    "spam[2] = 'hello' #assigning 'hello' as the third value. \n",
    "print(\"The spam list after assigning value hello :\", spam)"
   ]
  },
  {
   "cell_type": "markdown",
   "metadata": {},
   "source": [
    "## Let's pretend the spam includes the list ['a', 'b', 'c', 'd'] for the next three queries."
   ]
  },
  {
   "cell_type": "code",
   "execution_count": 14,
   "metadata": {},
   "outputs": [],
   "source": [
    "spam=['a','b','c','d']"
   ]
  },
  {
   "cell_type": "markdown",
   "metadata": {},
   "source": [
    "**3. What is the value of spam[int(int('3' * 2) / 11)]?\n",
    "- 'd', because the spam[3] is 'd' hence the result"
   ]
  },
  {
   "cell_type": "markdown",
   "metadata": {},
   "source": [
    "**4. What is the value of spam[-1]?\n",
    "- 'd' , because spam[-1] reads the list from right to left hence the value at the last in list is 'd'"
   ]
  },
  {
   "cell_type": "markdown",
   "metadata": {},
   "source": [
    "**5. What is the value of spam[:2]?\n",
    "- It will print the first and the second elements in the list that is 'a', 'b'\n",
    "- Reason the start index is not given so it starts from 0 index and goes until the index 1 since the last index is normally omitted"
   ]
  },
  {
   "cell_type": "markdown",
   "metadata": {},
   "source": [
    "## Let's pretend bacon has the list [3.14, 'cat,' 11, 'cat,' True] for the next three questions."
   ]
  },
  {
   "cell_type": "code",
   "execution_count": 18,
   "metadata": {},
   "outputs": [],
   "source": [
    "bacon = [3.14, 'cat', 11, 'cat', True]"
   ]
  },
  {
   "cell_type": "markdown",
   "metadata": {},
   "source": [
    "**6. What is the value of bacon.index('cat')?\n",
    "- It will return 1 because the index function normally returns the first index of the value in the list being searched for. "
   ]
  },
  {
   "cell_type": "markdown",
   "metadata": {},
   "source": [
    "**7. How does bacon.append(99) change the look of the list value in bacon?\n",
    "- append would add the element to the last of the list. \n",
    "- So the list would be looking like [3.14, 'cat', 11, 'cat', True, 99]"
   ]
  },
  {
   "cell_type": "markdown",
   "metadata": {},
   "source": [
    "**8. How does bacon.remove('cat') change the look of the list in bacon?\n",
    "- The list after applying this function would be [3.14, 11, 'cat', True]\n",
    "- Reason the remove function removes the first instance of the item we pass in the function. "
   ]
  },
  {
   "cell_type": "markdown",
   "metadata": {},
   "source": [
    "**9. What are the list concatenation and list replication operators?\n",
    "\n",
    "- For concatenation, the operator to be used is '+'\n",
    "- For replication, the operator to be used is '*'\n",
    "\n",
    "Eg: \n",
    "        \n",
    "        Concatenation.\n",
    "        lst1 = [1,2,3,4]\n",
    "        lst2 = [5,6,7]\n",
    "        lst1 + lst2 => [1,2,3,4,5,6,7]\n",
    "    \n",
    "        Replication \n",
    "        lst1=[1,2,3,4]\n",
    "        lst1 * 2 => [1,2,3,4,1,2,3,4]\n",
    "    "
   ]
  },
  {
   "cell_type": "markdown",
   "metadata": {},
   "source": [
    "**10. What is difference between the list methods append() and insert()?\n",
    "\n",
    "| append | insert |\n",
    "| --- | --- |\n",
    "| append -takes only one argument as input it could be an object | insert - it takes two arguments 1. index, 2. item to be inserted |\n",
    "| append always adds the item as the last element of the list | Since insert takes index as one of the input we can mention the position where the item needs to be inserted. |\n",
    "\n",
    "**Example of append:\n",
    "- lst1 = [1,2,3,4]\n",
    "- lst1.append(100)\n",
    "- lst1 -> [1,2,3,4,100]\n",
    "\n",
    "**Example of insert: \n",
    "- lst1=[1,2,3,4]\n",
    "- lst1.insert(1,1000)\n",
    "- lst1 => [1,1000,2,3,4]"
   ]
  },
  {
   "cell_type": "markdown",
   "metadata": {},
   "source": [
    "**11. What are the two methods for removing items from a list?\n",
    "- list.remove() - Here we need to pass the value that would need to be removed from the list. \n",
    "- list.pop() - Here we need to pass the index from where the item needs to be removed. By default its '-1' (i.e.) the last element in the list."
   ]
  },
  {
   "cell_type": "markdown",
   "metadata": {},
   "source": [
    "**12. Describe how list values and string values are identical.\n",
    "- List is a datastructure in python which is a collection of objects which can be of different datatypes.\n",
    "- String is similar to List because it is also a collection of words.\n",
    "- Both List and String can be iterated (i.e.) We can traverse through each items in a list/string through a loop."
   ]
  },
  {
   "cell_type": "markdown",
   "metadata": {},
   "source": [
    "**13. What's the difference between tuples and lists?\n",
    "\n",
    "|List|Tuple|\n",
    "|---|---|\n",
    "| List is presented by square brackets '[]' | Tuples are presented by rounded brackets '()' |\n",
    "| List is mutable | Tuple are immutable |\n",
    "| List has many functions like insert, append, extend, index, pop, remove etc., | Tuple has only two functions count & index |"
   ]
  },
  {
   "cell_type": "markdown",
   "metadata": {},
   "source": [
    "**14. How do you type a tuple value that only contains the integer 42?\n",
    "- tuple(42) => Output would be ==> (42)"
   ]
  },
  {
   "cell_type": "markdown",
   "metadata": {},
   "source": [
    "**15. How do you get a list value's tuple form? How do you get a tuple value's list form?\n",
    "- To convert a List to tuple \n",
    "  - Create a list => lst = [1,2,3,4]\n",
    "  - tuple(lst) => this would convert the list to tuple \n",
    "  - The items can then be accessed by index value\n",
    "- To convert tuple to a list \n",
    "  - Create a tuple => tpl = (1,2,3,4)\n",
    "  - Convert it to a list => list(tpl)\n",
    "  - Then apply the functions to the list perform the desired activity"
   ]
  },
  {
   "cell_type": "markdown",
   "metadata": {},
   "source": [
    "**16. Variables that \"contain\" list values are not necessarily lists themselves. Instead, what do they contain?\n",
    "- They contain the reference values/storage ids that python internally generates for each object. "
   ]
  },
  {
   "cell_type": "markdown",
   "metadata": {},
   "source": [
    "**17. How do you distinguish between copy.copy() and copy.deepcopy()?\n",
    "\n",
    "|copy()|deepcopy()|\n",
    "|---|---|\n",
    "|The copy() command incase of nested lists would create a distinct reference only for the main list/object for the nested items it maintains the same reference. Hence when we change an item in the nested list it affects both the lists | In case of deepcopy() the difference is when we have a nested list/object it creates distinct reference/id even for it hence any change that we make in one list would not be reflected in the second list."
   ]
  },
  {
   "cell_type": "markdown",
   "metadata": {},
   "source": [
    "## Example of the copy() command explaining above scenario"
   ]
  },
  {
   "cell_type": "code",
   "execution_count": 23,
   "metadata": {},
   "outputs": [],
   "source": [
    "import copy"
   ]
  },
  {
   "cell_type": "code",
   "execution_count": 55,
   "metadata": {},
   "outputs": [],
   "source": [
    "lst1 = [1,2,[3,4],5]"
   ]
  },
  {
   "cell_type": "code",
   "execution_count": 56,
   "metadata": {},
   "outputs": [],
   "source": [
    "lst2 = copy.copy(lst1)"
   ]
  },
  {
   "cell_type": "code",
   "execution_count": 58,
   "metadata": {},
   "outputs": [
    {
     "name": "stdout",
     "output_type": "stream",
     "text": [
      "The list1 is : [1, 2, [3, 4], 5]\n",
      "The list2 is : [1, 2, [3, 4], 5]\n",
      "The id/location of list1 : 2837210829760\n",
      "The id/location of list2 : 2837210824512\n",
      "The id/location of the nested list in List1 : 2837210685888\n",
      "The id/location of the nested list in List2: 2837210685888\n"
     ]
    }
   ],
   "source": [
    "print('The list1 is :', lst1)\n",
    "print('The list2 is :', lst2)\n",
    "print('The id/location of list1 :', id(lst1))\n",
    "print('The id/location of list2 :', id(lst2))\n",
    "#If you infer the output below the reference location of the nested list for both lst1 and lst2 are same.\n",
    "print('The id/location of the nested list in List1 :', id(lst1[2]))\n",
    "print('The id/location of the nested list in List2:', id(lst2[2]))"
   ]
  },
  {
   "cell_type": "code",
   "execution_count": 59,
   "metadata": {},
   "outputs": [],
   "source": [
    "#Changing a value in lst1 \n",
    "lst1[2][0] = 10000"
   ]
  },
  {
   "cell_type": "code",
   "execution_count": 60,
   "metadata": {},
   "outputs": [
    {
     "name": "stdout",
     "output_type": "stream",
     "text": [
      "The list1 is : [1, 2, [10000, 4], 5]\n",
      "The list2 is : [1, 2, [10000, 4], 5]\n",
      "The id/location of list1 : 2837210829760\n",
      "The id/location of list2 : 2837210824512\n"
     ]
    }
   ],
   "source": [
    "# Due to same refernce the values if changed in one list also reflecting in other list\n",
    "print('The list1 is :', lst1)\n",
    "print('The list2 is :', lst2)\n",
    "print('The id/location of list1 :', id(lst1))\n",
    "print('The id/location of list2 :', id(lst2))"
   ]
  },
  {
   "cell_type": "code",
   "execution_count": 61,
   "metadata": {},
   "outputs": [],
   "source": [
    "#changing a value in lst2\n",
    "## Due to same refernce the values if changed in one list also reflecting in other list\n",
    "lst2[2][1] = 9999"
   ]
  },
  {
   "cell_type": "code",
   "execution_count": 62,
   "metadata": {},
   "outputs": [
    {
     "name": "stdout",
     "output_type": "stream",
     "text": [
      "The list1 is : [1, 2, [10000, 9999], 5]\n",
      "The list2 is : [1, 2, [10000, 9999], 5]\n",
      "The id/location of list1 : 2837210829760\n",
      "The id/location of list2 : 2837210824512\n"
     ]
    }
   ],
   "source": [
    "print('The list1 is :', lst1)\n",
    "print('The list2 is :', lst2)\n",
    "print('The id/location of list1 :', id(lst1))\n",
    "print('The id/location of list2 :', id(lst2))"
   ]
  },
  {
   "cell_type": "markdown",
   "metadata": {},
   "source": [
    "## Example of the deepcopy() command explaining above scenario"
   ]
  },
  {
   "cell_type": "code",
   "execution_count": 63,
   "metadata": {},
   "outputs": [],
   "source": [
    "lst1 = [1,2,[3,4],5]"
   ]
  },
  {
   "cell_type": "code",
   "execution_count": 64,
   "metadata": {},
   "outputs": [],
   "source": [
    "lst2 = copy.deepcopy(lst1)"
   ]
  },
  {
   "cell_type": "code",
   "execution_count": 65,
   "metadata": {},
   "outputs": [
    {
     "name": "stdout",
     "output_type": "stream",
     "text": [
      "The list1 is : [1, 2, [3, 4], 5]\n",
      "The list2 is : [1, 2, [3, 4], 5]\n",
      "The id/location of list1 : 2837210574784\n",
      "The id/location of list2 : 2837210574464\n",
      "The id/location of the nested list in List1 : 2837209514048\n",
      "The id/location of the nested list in List2: 2837210580672\n"
     ]
    }
   ],
   "source": [
    "print('The list1 is :', lst1)\n",
    "print('The list2 is :', lst2)\n",
    "print('The id/location of list1 :', id(lst1))\n",
    "print('The id/location of list2 :', id(lst2))\n",
    "#If you infer the output below the reference location of the nested list for both lst1 and lst2 are different.\n",
    "print('The id/location of the nested list in List1 :', id(lst1[2]))\n",
    "print('The id/location of the nested list in List2:', id(lst2[2]))"
   ]
  },
  {
   "cell_type": "code",
   "execution_count": 66,
   "metadata": {},
   "outputs": [],
   "source": [
    "#Changing a value in lst1 \n",
    "lst1[2][0] = 10000"
   ]
  },
  {
   "cell_type": "code",
   "execution_count": 67,
   "metadata": {},
   "outputs": [
    {
     "name": "stdout",
     "output_type": "stream",
     "text": [
      "The list1 is : [1, 2, [10000, 4], 5]\n",
      "The list2 is : [1, 2, [3, 4], 5]\n",
      "The id/location of list1 : 2837210574784\n",
      "The id/location of list2 : 2837210574464\n"
     ]
    }
   ],
   "source": [
    "# Due to different refernce the values if changed in one list is not reflecting in other list\n",
    "print('The list1 is :', lst1)\n",
    "print('The list2 is :', lst2)\n",
    "print('The id/location of list1 :', id(lst1))\n",
    "print('The id/location of list2 :', id(lst2))"
   ]
  },
  {
   "cell_type": "code",
   "execution_count": 68,
   "metadata": {},
   "outputs": [],
   "source": [
    "#changing a value in lst2\n",
    "## Due to different refernce the values if changed in one list is not reflecting in other list\n",
    "lst2[2][1] = 9999"
   ]
  },
  {
   "cell_type": "code",
   "execution_count": 69,
   "metadata": {},
   "outputs": [
    {
     "name": "stdout",
     "output_type": "stream",
     "text": [
      "The list1 is : [1, 2, [10000, 4], 5]\n",
      "The list2 is : [1, 2, [3, 9999], 5]\n",
      "The id/location of list1 : 2837210574784\n",
      "The id/location of list2 : 2837210574464\n"
     ]
    }
   ],
   "source": [
    "print('The list1 is :', lst1)\n",
    "print('The list2 is :', lst2)\n",
    "print('The id/location of list1 :', id(lst1))\n",
    "print('The id/location of list2 :', id(lst2))"
   ]
  }
 ],
 "metadata": {
  "kernelspec": {
   "display_name": "Python 3",
   "language": "python",
   "name": "python3"
  },
  "language_info": {
   "codemirror_mode": {
    "name": "ipython",
    "version": 3
   },
   "file_extension": ".py",
   "mimetype": "text/x-python",
   "name": "python",
   "nbconvert_exporter": "python",
   "pygments_lexer": "ipython3",
   "version": "3.8.5"
  }
 },
 "nbformat": 4,
 "nbformat_minor": 4
}

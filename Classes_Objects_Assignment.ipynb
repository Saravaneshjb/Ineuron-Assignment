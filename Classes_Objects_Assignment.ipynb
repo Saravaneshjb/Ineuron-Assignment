{
 "cells": [
  {
   "cell_type": "markdown",
   "metadata": {},
   "source": [
    "## Question 1 - BankAccount Class"
   ]
  },
  {
   "cell_type": "code",
   "execution_count": 1,
   "metadata": {},
   "outputs": [],
   "source": [
    "class BankAccount:\n",
    "    '''\n",
    "    This is the BankAccount class.\n",
    "    It has the following attributes and methods defined. \n",
    "    \n",
    "    attributes/instances\n",
    "    ====================\n",
    "    name => type : str, takes the name of the customer\n",
    "    amount => type : int, the amount held by the customer in the Bank\n",
    "    interest_rate => type : int, takes the interest_rate with respect to the account held by customer\n",
    "    \n",
    "    Methods\n",
    "    =======\n",
    "    apply_interest : Applies the interest rate on the amount held by the customer. \n",
    "    '''\n",
    "    def __init__(self,name,amount,interest_rate):\n",
    "        self.name = name\n",
    "        self.amount = amount\n",
    "        self.interest_rate = interest_rate\n",
    "    \n",
    "    def apply_interest(self):\n",
    "        '''\n",
    "        This function calculates the interest for the amount held by customer & sums it with the balance amount. \n",
    "        '''\n",
    "        self.amount = self.amount + (self.amount * (self.interest_rate/100))"
   ]
  },
  {
   "cell_type": "markdown",
   "metadata": {},
   "source": [
    "### Testing the class with below inputs "
   ]
  },
  {
   "cell_type": "code",
   "execution_count": 2,
   "metadata": {},
   "outputs": [],
   "source": [
    "acct1 = BankAccount('Juan De Hattatime',1000,3)"
   ]
  },
  {
   "cell_type": "code",
   "execution_count": 3,
   "metadata": {},
   "outputs": [
    {
     "name": "stdout",
     "output_type": "stream",
     "text": [
      "The account details are :\n",
      "\n",
      "Name : Juan De Hattatime\n",
      "Amount : 1000\n",
      "Interest rate : 3\n"
     ]
    }
   ],
   "source": [
    "print('The account details are :\\n')\n",
    "print('Name :',acct1.name)\n",
    "print('Amount :',acct1.amount)\n",
    "print('Interest rate :', acct1.interest_rate)"
   ]
  },
  {
   "cell_type": "code",
   "execution_count": 4,
   "metadata": {},
   "outputs": [],
   "source": [
    "# Calling the apply_interest() method\n",
    "acct1.apply_interest()"
   ]
  },
  {
   "cell_type": "code",
   "execution_count": 5,
   "metadata": {},
   "outputs": [
    {
     "name": "stdout",
     "output_type": "stream",
     "text": [
      "The amount after applying interest 3 %: 1030.0\n"
     ]
    }
   ],
   "source": [
    "print(f'The amount after applying interest {acct1.interest_rate} %:',acct1.amount)"
   ]
  },
  {
   "cell_type": "code",
   "execution_count": 6,
   "metadata": {},
   "outputs": [],
   "source": [
    "# Modifying the instance/attribute interest_rate to 2\n",
    "acct1.interest_rate = 2"
   ]
  },
  {
   "cell_type": "code",
   "execution_count": 7,
   "metadata": {},
   "outputs": [],
   "source": [
    "# Calling the apply_interest function again to apply the new interest rate set. \n",
    "acct1.apply_interest()"
   ]
  },
  {
   "cell_type": "code",
   "execution_count": 8,
   "metadata": {},
   "outputs": [
    {
     "name": "stdout",
     "output_type": "stream",
     "text": [
      "The amount after applying the new interest rate 2 % : 1050.6\n"
     ]
    }
   ],
   "source": [
    "print(f'The amount after applying the new interest rate {acct1.interest_rate} % :',acct1.amount)"
   ]
  },
  {
   "cell_type": "markdown",
   "metadata": {},
   "source": [
    "## Question 2"
   ]
  },
  {
   "cell_type": "code",
   "execution_count": 9,
   "metadata": {},
   "outputs": [],
   "source": [
    "class Item:\n",
    "    '''\n",
    "    This is a Item class that holds the following attributes & Methods. \n",
    "    \n",
    "    Attributes/instances defined:\n",
    "    ============================\n",
    "    name  => type : str : The name of the item\n",
    "    price => type : int : The price of the item\n",
    "    \n",
    "    Methods defined:\n",
    "    ===============\n",
    "    init - The default constructor \n",
    "    str - returns the items details with the price rounded to 2 decimal places\n",
    "    '''\n",
    "    def __init__(self,name,price):\n",
    "        self.name  = name \n",
    "        self.price = price \n",
    "    \n",
    "    def __str__(self):\n",
    "        print('The details of the items')\n",
    "        return f'{self.name} , {round(self.price, ndigits=2)}'"
   ]
  },
  {
   "cell_type": "code",
   "execution_count": 10,
   "metadata": {},
   "outputs": [],
   "source": [
    "item1 = Item('Fridge',25000)"
   ]
  },
  {
   "cell_type": "code",
   "execution_count": 11,
   "metadata": {},
   "outputs": [
    {
     "name": "stdout",
     "output_type": "stream",
     "text": [
      "The details of the items\n",
      "Fridge , 25000\n"
     ]
    }
   ],
   "source": [
    "print(item1)"
   ]
  },
  {
   "cell_type": "code",
   "execution_count": 12,
   "metadata": {},
   "outputs": [],
   "source": [
    "item2 = Item('Pen',25.55677)"
   ]
  },
  {
   "cell_type": "code",
   "execution_count": 13,
   "metadata": {},
   "outputs": [
    {
     "name": "stdout",
     "output_type": "stream",
     "text": [
      "The details of the items\n",
      "Pen , 25.56\n"
     ]
    }
   ],
   "source": [
    "print(item2)"
   ]
  },
  {
   "cell_type": "markdown",
   "metadata": {},
   "source": [
    "## Question 3"
   ]
  },
  {
   "cell_type": "code",
   "execution_count": 29,
   "metadata": {},
   "outputs": [],
   "source": [
    "class ShoppingCart:\n",
    "    '''\n",
    "    This is the class for ShoppingCart, it is used to perform basic functionality like adding items to cart, checking the total amount of items in cart & to remove items added to cart.\n",
    "    \n",
    "    Attributes/Instances defined\n",
    "    ============================\n",
    "    items => type : dictionary , It holds all the cart items in it. \n",
    "    name  => type : str : Name of the item\n",
    "    price => type : int : Price of the item \n",
    "    \n",
    "    Methods:\n",
    "    =======\n",
    "    add : This method is used to add the items to the cart\n",
    "    total : This method is used to calculate the total value/sum of all the items in the cart \n",
    "    remove_items : This method is used to remove items that has been added to the cart. \n",
    "    '''\n",
    "    def __init__(self):\n",
    "        self.items = dict()\n",
    "    \n",
    "    def add(self, name, price):\n",
    "        self.items[name] = price\n",
    "    \n",
    "    def total(self):\n",
    "        total_amt = 0\n",
    "        for things in self.items.values():\n",
    "            if type(things) == int:\n",
    "                total_amt = total_amt + things\n",
    "            else:\n",
    "                pass\n",
    "        return total_amt\n",
    "    \n",
    "    def remove_items(self,item_name):\n",
    "        del self.items[item_name]\n",
    "    \n",
    "    def __str__(self):\n",
    "        if len(self.items) == 0:\n",
    "            return \"The shopping cart is empty\"\n",
    "        else:\n",
    "            return f'The shopping cart contains {self.items}'"
   ]
  },
  {
   "cell_type": "code",
   "execution_count": 22,
   "metadata": {},
   "outputs": [],
   "source": [
    "sc1 = ShoppingCart()"
   ]
  },
  {
   "cell_type": "code",
   "execution_count": 23,
   "metadata": {},
   "outputs": [
    {
     "name": "stdout",
     "output_type": "stream",
     "text": [
      "The shopping cart is empty\n"
     ]
    }
   ],
   "source": [
    "#Calling the object what is available in the shopping cart\n",
    "print(sc1)"
   ]
  },
  {
   "cell_type": "code",
   "execution_count": 24,
   "metadata": {},
   "outputs": [],
   "source": [
    "## Adding items to the cart\n",
    "sc1.add('t-shirt',450)\n",
    "sc1.add('shirt',500)\n",
    "sc1.add('pant',600)\n",
    "sc1.add('shoe',900)"
   ]
  },
  {
   "cell_type": "code",
   "execution_count": 25,
   "metadata": {},
   "outputs": [
    {
     "name": "stdout",
     "output_type": "stream",
     "text": [
      "The shopping cart contains {'t-shirt': 450, 'shirt': 500, 'pant': 600, 'shoe': 900}\n"
     ]
    }
   ],
   "source": [
    "print(sc1)"
   ]
  },
  {
   "cell_type": "code",
   "execution_count": 26,
   "metadata": {},
   "outputs": [
    {
     "data": {
      "text/plain": [
       "2450"
      ]
     },
     "execution_count": 26,
     "metadata": {},
     "output_type": "execute_result"
    }
   ],
   "source": [
    "sc1.total()"
   ]
  },
  {
   "cell_type": "code",
   "execution_count": 27,
   "metadata": {},
   "outputs": [],
   "source": [
    "sc1.remove_items('pant')"
   ]
  },
  {
   "cell_type": "code",
   "execution_count": 28,
   "metadata": {},
   "outputs": [
    {
     "name": "stdout",
     "output_type": "stream",
     "text": [
      "The shopping cart contains {'t-shirt': 450, 'shirt': 500, 'shoe': 900}\n"
     ]
    }
   ],
   "source": [
    "print(sc1)"
   ]
  },
  {
   "cell_type": "markdown",
   "metadata": {},
   "source": [
    "## Question 4"
   ]
  },
  {
   "cell_type": "code",
   "execution_count": 14,
   "metadata": {},
   "outputs": [],
   "source": [
    "class RestaurantCheck:\n",
    "    '''\n",
    "    This is a restaurant class which is used to calculate the total bill for the customer spend. \n",
    "    \n",
    "    Attributes/Instances Defined:\n",
    "    ============================\n",
    "    check_number => int , It is the numeric field, takes the bill number as input. \n",
    "    sales_tax_percent => int, Percentage of the service tax to be levied on the bill amount \n",
    "    subtotal => float, The total amount before adding sales tax\n",
    "    table_number => int, This is the table_number\n",
    "    server_name => str, Name of the server who took care of the customers. \n",
    "    \n",
    "    Methods defined:\n",
    "    ===============\n",
    "    total_bill - Calculates the total bill amount including the sales taxes\n",
    "    print_check - Prints the bill details on the console\n",
    "    print_check_file - Prints the bill details in a file named as 'check###.txt', where ### is the check number. \n",
    "    \n",
    "    '''\n",
    "    def __init__(self,check_number,sales_tax_percent,subtotal,table_number,server_name):\n",
    "        self.check_number      = check_number \n",
    "        self.sales_tax_percent = sales_tax_percent\n",
    "        self.subtotal          = subtotal \n",
    "        self.table_number      = table_number \n",
    "        self.server_name       = server_name\n",
    "    \n",
    "    def total_bill(self):\n",
    "        final_bill = self.subtotal + (self.subtotal *(self.sales_tax_percent/100))\n",
    "        return final_bill\n",
    "    \n",
    "    def print_check(self):\n",
    "        print('Check Number :',self.check_number)\n",
    "        print(f'Sales tax :{self.sales_tax_percent}%')\n",
    "        print(f'Subtotal : ${self.subtotal}')\n",
    "        print(f'Total : ${round(self.total_bill(),2)}')\n",
    "        print('Table Number :',self.table_number)\n",
    "        print('Server :',self.server_name)\n",
    "    \n",
    "    def print_check_file(self):\n",
    "        with open(f'check{self.check_number}.txt', mode='w') as f:\n",
    "            f.write(f'Check Number : {self.check_number}\\n')\n",
    "            f.write(f'Sales tax : {self.sales_tax_percent}\\n')\n",
    "            f.write(f'Subtotal : ${self.subtotal}\\n')\n",
    "            f.write(f'Total : ${round(self.total_bill(),2)}\\n')\n",
    "            f.write(f'Table Number :{self.table_number}\\n')\n",
    "            f.write(f'Server : {self.server_name}')            "
   ]
  },
  {
   "cell_type": "code",
   "execution_count": 15,
   "metadata": {},
   "outputs": [],
   "source": [
    "rc1 = RestaurantCheck(443,6.0,23.14,17,'Sonic the Hedgehog')"
   ]
  },
  {
   "cell_type": "code",
   "execution_count": 16,
   "metadata": {},
   "outputs": [
    {
     "data": {
      "text/plain": [
       "24.5284"
      ]
     },
     "execution_count": 16,
     "metadata": {},
     "output_type": "execute_result"
    }
   ],
   "source": [
    "rc1.total_bill()"
   ]
  },
  {
   "cell_type": "code",
   "execution_count": 17,
   "metadata": {},
   "outputs": [
    {
     "name": "stdout",
     "output_type": "stream",
     "text": [
      "Check Number : 443\n",
      "Sales tax :6.0%\n",
      "Subtotal : $23.14\n",
      "Total : $24.53\n",
      "Table Number : 17\n",
      "Server : Sonic the Hedgehog\n"
     ]
    }
   ],
   "source": [
    "rc1.print_check()"
   ]
  },
  {
   "cell_type": "code",
   "execution_count": 18,
   "metadata": {},
   "outputs": [],
   "source": [
    "rc1.print_check_file()"
   ]
  },
  {
   "cell_type": "code",
   "execution_count": 19,
   "metadata": {},
   "outputs": [],
   "source": [
    "rc2 = RestaurantCheck(445,6.0,55.45,17,'JB the Datascientist')"
   ]
  },
  {
   "cell_type": "code",
   "execution_count": 20,
   "metadata": {},
   "outputs": [
    {
     "name": "stdout",
     "output_type": "stream",
     "text": [
      "Check Number : 445\n",
      "Sales tax :6.0%\n",
      "Subtotal : $55.45\n",
      "Total : $58.78\n",
      "Table Number : 17\n",
      "Server : JB the Datascientist\n"
     ]
    }
   ],
   "source": [
    "rc2.print_check()"
   ]
  },
  {
   "cell_type": "code",
   "execution_count": 21,
   "metadata": {},
   "outputs": [],
   "source": [
    "rc2.print_check_file()"
   ]
  },
  {
   "cell_type": "markdown",
   "metadata": {},
   "source": [
    "## Question 5"
   ]
  },
  {
   "cell_type": "code",
   "execution_count": 22,
   "metadata": {},
   "outputs": [],
   "source": [
    "import datetime\n",
    "\n",
    "class Ticket:\n",
    "    '''\n",
    "    This is the Ticket class used to calculate discount on ticket bookings and check if evening time show. \n",
    "    \n",
    "    Attributes/instances defined:\n",
    "    ============================\n",
    "    tkt_price  => type : int , This input takes the ticket price. \n",
    "    event_time => type : str , This input takes the event/show time in 24hrs format as string. \n",
    "    \n",
    "    Methods defined:\n",
    "    ================\n",
    "    is_evening_time : To check if the event is on the evening or not. The method returns a True if the event falls between 18:00 to 23:59\n",
    "    bulk_discount : To check the discount Percentage based on the no. of tickets being booked. \n",
    "    '''\n",
    "    def __init__(self,tkt_price,event_time):\n",
    "        self.tkt_price = tkt_price\n",
    "        self.event_time = event_time \n",
    "    \n",
    "    def is_evening_time(self):\n",
    "        if datetime.datetime.strptime(self.event_time,'%H:%M') >= datetime.datetime.strptime('18:00','%H:%M') and datetime.datetime.strptime(self.event_time,'%H:%M') <= datetime.datetime.strptime('23:59','%H:%M'):\n",
    "            return True\n",
    "        else:\n",
    "            return False \n",
    "    \n",
    "    def bulk_discount(self,n):\n",
    "        if n>=5 and n<=9:\n",
    "            discount = 10\n",
    "            return discount \n",
    "        elif n>=10:\n",
    "            discount = 20\n",
    "            return discount \n",
    "        else:\n",
    "            return 'No Discount'\n",
    "    \n",
    "    def __str__(self):\n",
    "        return f'Ticket({self.tkt_price},{self.event_time})'"
   ]
  },
  {
   "cell_type": "code",
   "execution_count": 23,
   "metadata": {},
   "outputs": [],
   "source": [
    "t1 = Ticket(180,'05:00')"
   ]
  },
  {
   "cell_type": "code",
   "execution_count": 24,
   "metadata": {},
   "outputs": [
    {
     "data": {
      "text/plain": [
       "False"
      ]
     },
     "execution_count": 24,
     "metadata": {},
     "output_type": "execute_result"
    }
   ],
   "source": [
    "t1.is_evening_time()"
   ]
  },
  {
   "cell_type": "code",
   "execution_count": 25,
   "metadata": {},
   "outputs": [
    {
     "data": {
      "text/plain": [
       "10"
      ]
     },
     "execution_count": 25,
     "metadata": {},
     "output_type": "execute_result"
    }
   ],
   "source": [
    "t1.bulk_discount(7)"
   ]
  },
  {
   "cell_type": "code",
   "execution_count": 26,
   "metadata": {},
   "outputs": [
    {
     "data": {
      "text/plain": [
       "20"
      ]
     },
     "execution_count": 26,
     "metadata": {},
     "output_type": "execute_result"
    }
   ],
   "source": [
    "t1.bulk_discount(10)"
   ]
  },
  {
   "cell_type": "code",
   "execution_count": 31,
   "metadata": {},
   "outputs": [
    {
     "name": "stdout",
     "output_type": "stream",
     "text": [
      "Ticket(180,05:00)\n"
     ]
    }
   ],
   "source": [
    "print(t1)"
   ]
  },
  {
   "cell_type": "code",
   "execution_count": 27,
   "metadata": {},
   "outputs": [],
   "source": [
    "t2 = Ticket(250, '22:00')"
   ]
  },
  {
   "cell_type": "code",
   "execution_count": 29,
   "metadata": {},
   "outputs": [
    {
     "data": {
      "text/plain": [
       "True"
      ]
     },
     "execution_count": 29,
     "metadata": {},
     "output_type": "execute_result"
    }
   ],
   "source": [
    "t2.is_evening_time()"
   ]
  },
  {
   "cell_type": "code",
   "execution_count": 30,
   "metadata": {},
   "outputs": [
    {
     "data": {
      "text/plain": [
       "10"
      ]
     },
     "execution_count": 30,
     "metadata": {},
     "output_type": "execute_result"
    }
   ],
   "source": [
    "t2.bulk_discount(6)"
   ]
  },
  {
   "cell_type": "code",
   "execution_count": 32,
   "metadata": {},
   "outputs": [
    {
     "name": "stdout",
     "output_type": "stream",
     "text": [
      "Ticket(250,22:00)\n"
     ]
    }
   ],
   "source": [
    "print(t2)"
   ]
  }
 ],
 "metadata": {
  "kernelspec": {
   "display_name": "Python 3",
   "language": "python",
   "name": "python3"
  },
  "language_info": {
   "codemirror_mode": {
    "name": "ipython",
    "version": 3
   },
   "file_extension": ".py",
   "mimetype": "text/x-python",
   "name": "python",
   "nbconvert_exporter": "python",
   "pygments_lexer": "ipython3",
   "version": "3.8.5"
  }
 },
 "nbformat": 4,
 "nbformat_minor": 4
}

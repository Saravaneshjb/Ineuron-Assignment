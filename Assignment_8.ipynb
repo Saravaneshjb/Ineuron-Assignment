{
 "cells": [
  {
   "cell_type": "markdown",
   "metadata": {},
   "source": [
    "**1. Is the Python Standard Library included with PyInputPlus?\n",
    "- No it is not included with the python standard library , should be installed seperately using pip install command."
   ]
  },
  {
   "cell_type": "markdown",
   "metadata": {},
   "source": [
    "**2. Why is PyInputPlus commonly imported with import pyinputplus as pypi?\n",
    "- Its an alias name provided for the library pyinputplus. \n",
    "- So once imported with this alias name the library can be referred with the alias name wherever needed.  "
   ]
  },
  {
   "cell_type": "markdown",
   "metadata": {},
   "source": [
    "**3. How do you distinguish between inputInt() and inputFloat()?\n",
    "\n",
    "|inputInt()|inputFloat()|\n",
    "|---|--|\n",
    "|It takes integer as input| It takes floating number as input |\n"
   ]
  },
  {
   "cell_type": "markdown",
   "metadata": {},
   "source": [
    "**4. Using PyInputPlus, how do you ensure that the user enters a whole number between 0 and 99?\n",
    "\n",
    "- import pyinputplus as pyip\n",
    "- pyip.inputInt(prompt = 'Enter a whole number', lessThan=99,greaterThan=0)\n",
    "\n",
    "- Executing the above two commands will ensure that we get only whole numbers between 0 and 99 as input."
   ]
  },
  {
   "cell_type": "markdown",
   "metadata": {},
   "source": [
    "**5. What is transferred to the keyword arguments allowRegexes and blockRegexes?\n",
    "\n",
    "- allowRegexes - If this parameter is set with an input value, then the way the function works is takes the input and then checks additionally the values provided in the allowregexes and prints the output accordingly.\n",
    "- blockRegexes - Its just opposite to allowRegexes, here the values that we had set if passed as input would not be considered invalid and prompted for another input."
   ]
  },
  {
   "cell_type": "markdown",
   "metadata": {},
   "source": [
    "**6. If a blank input is entered three times, what does inputStr(limit=3) do?\n",
    "- RetryLimit exception would be thrown when we exceed the limit set.\n",
    "- eg: pyip.inputInt(prompt = 'Enter a whole number', limit=3)\n",
    "- Now in this case if we pass a floating point number as input more than 3 times then an exception would be thrown"
   ]
  },
  {
   "cell_type": "markdown",
   "metadata": {},
   "source": [
    "**7. If blank input is entered three times, what does inputStr(limit=3, default='hello') do?\n",
    "- The default value 'hello' would be printed if blank input is entered three times "
   ]
  }
 ],
 "metadata": {
  "kernelspec": {
   "display_name": "Python 3",
   "language": "python",
   "name": "python3"
  },
  "language_info": {
   "codemirror_mode": {
    "name": "ipython",
    "version": 3
   },
   "file_extension": ".py",
   "mimetype": "text/x-python",
   "name": "python",
   "nbconvert_exporter": "python",
   "pygments_lexer": "ipython3",
   "version": "3.8.5"
  }
 },
 "nbformat": 4,
 "nbformat_minor": 4
}
